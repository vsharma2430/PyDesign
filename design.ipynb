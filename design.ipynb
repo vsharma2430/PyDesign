{
 "cells": [
  {
   "cell_type": "code",
   "execution_count": null,
   "id": "2ba05f35",
   "metadata": {},
   "outputs": [],
   "source": [
    "from base.helper import *\n",
    "from base.staad_base.geometry import *\n",
    "from base.staad_base.load import *\n",
    "from base.staad_base.design import *\n",
    "from base.staad_base.property import *\n",
    "from base.staad_base.optimise_member import *\n",
    "\n",
    "openSTAAD,STAAD_objects = get_openSTAAD()\n",
    "\n",
    "geometry = STAAD_objects.geometry\n",
    "property = STAAD_objects.property\n",
    "output = STAAD_objects.output"
   ]
  },
  {
   "cell_type": "code",
   "execution_count": null,
   "id": "74ae2665",
   "metadata": {},
   "outputs": [],
   "source": [
    "beam_group_1 = member_group(\n",
    "    id='main_beams',\n",
    "    members=get_selected_beam_nos(geometry),\n",
    "    profiles=[1,2],\n",
    "    preference=[1],\n",
    "    Staad_objects= STAAD_objects\n",
    ")\n",
    "\n",
    "f'imported {len(beam_group_1.members)} members -> {beam_group_1.members}'"
   ]
  },
  {
   "cell_type": "code",
   "execution_count": null,
   "id": "ce956071",
   "metadata": {},
   "outputs": [],
   "source": [
    "columns_group_1 = member_group(\n",
    "    id='main_cols',\n",
    "    members=get_selected_beam_nos(geometry),\n",
    "    profiles=[2,3],\n",
    "    preference=[3],\n",
    "    Staad_objects=STAAD_objects\n",
    ")\n",
    "f'imported {len(columns_group_1.members)} members -> {columns_group_1.members}'"
   ]
  },
  {
   "cell_type": "code",
   "execution_count": null,
   "id": "3d55e2c6",
   "metadata": {},
   "outputs": [],
   "source": [
    "optimise_group_collection = optimise_groups().add(beam_group_1).add(columns_group_1)\n",
    "\n",
    "for group in optimise_group_collection.member_groups:\n",
    "    print(group.id)"
   ]
  }
 ],
 "metadata": {
  "kernelspec": {
   "display_name": ".venv",
   "language": "python",
   "name": "python3"
  },
  "language_info": {
   "codemirror_mode": {
    "name": "ipython",
    "version": 3
   },
   "file_extension": ".py",
   "mimetype": "text/x-python",
   "name": "python",
   "nbconvert_exporter": "python",
   "pygments_lexer": "ipython3",
   "version": "3.13.2"
  }
 },
 "nbformat": 4,
 "nbformat_minor": 5
}
