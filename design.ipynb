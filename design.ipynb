{
 "cells": [
  {
   "cell_type": "code",
   "execution_count": 1,
   "id": "2ba05f35",
   "metadata": {},
   "outputs": [],
   "source": [
    "from base.helper import *\n",
    "from base.staad_base.geometry import *\n",
    "from base.staad_base.load import *\n",
    "from base.staad_base.design import *\n",
    "from base.staad_base.property import *\n",
    "from base.staad_base.optimise_member import *\n",
    "from time import sleep\n",
    "\n",
    "openSTAAD,STAAD_objects = get_openSTAAD()\n",
    "\n",
    "geometry = STAAD_objects.geometry\n",
    "property = STAAD_objects.property\n",
    "output = STAAD_objects.output"
   ]
  },
  {
   "cell_type": "code",
   "execution_count": null,
   "id": "72197704",
   "metadata": {},
   "outputs": [],
   "source": [
    "selected_members = get_selected_beam_nos(geometry)\n",
    "f'imported {len(selected_members)} members -> {selected_members}'"
   ]
  },
  {
   "cell_type": "code",
   "execution_count": 2,
   "id": "74ae2665",
   "metadata": {},
   "outputs": [
    {
     "name": "stdout",
     "output_type": "stream",
     "text": [
      "Created member group \"tier_1\" , property 9 with 11 members -> [37, 38, 41, 42, 43, 46, 47, 57, 60, 62, 65]\n",
      "Created member group \"tier_2\" , property 9 with 8 members -> [111, 112, 115, 116, 117, 120, 121, 130]\n",
      "Created member group \"tier_3\" , property 9 with 56 members -> [169, 170, 171, 172, 173, 174, 175, 182, 183, 184, 185, 186, 187, 188, 199, 200, 201, 202, 203, 204, 205, 214, 215, 216, 217, 218, 219, 220, 227, 228, 229, 230, 231, 232, 233, 240, 241, 242, 243, 244, 245, 246, 257, 258, 259, 260, 261, 262, 263, 270, 271, 272, 273, 274, 275, 276]\n",
      "Created member group \"main_cols\" , property 9 with 56 members -> [15, 16, 17, 18, 19, 20, 21, 22, 23, 24, 25, 26, 27, 28, 67, 68, 69, 70, 71, 72, 73, 74, 75, 76, 77, 78, 79, 80, 97, 98, 99, 100, 101, 102, 103, 104, 105, 106, 107, 108, 109, 110, 149, 150, 151, 152, 153, 154, 155, 156, 157, 158, 159, 160, 161, 162]\n"
     ]
    }
   ],
   "source": [
    "beams_tier_1 = member_group(\n",
    "    id='tier_1',\n",
    "    members=[37, 38, 41, 42, 43, 46, 47, 57, 60, 62, 65],\n",
    "    profiles=[],\n",
    "    preference=9,\n",
    "    Staad_objects= STAAD_objects\n",
    ")\n",
    "\n",
    "beams_tier_2 = member_group(\n",
    "    id='tier_2',\n",
    "    members=[111, 112, 115, 116, 117, 120, 121, 130],\n",
    "    profiles=[],\n",
    "    preference=9,\n",
    "    Staad_objects= STAAD_objects\n",
    ")\n",
    "\n",
    "beams_tier_3 = member_group(\n",
    "    id='tier_3',\n",
    "    members=[169, 170, 171, 172, 173, 174, 175, 182, 183, 184, 185, 186, 187, 188, 199, 200, 201, 202, 203, 204, 205, 214, 215, 216, 217, 218, 219, 220, 227, 228, 229, 230, 231, 232, 233, 240, 241, 242, 243, 244, 245, 246, 257, 258, 259, 260, 261, 262, 263, 270, 271, 272, 273, 274, 275, 276],\n",
    "    profiles=[7,9],\n",
    "    preference=9,\n",
    "    Staad_objects= STAAD_objects\n",
    ")\n",
    "\n",
    "columns_group_1 = member_group(\n",
    "    id='main_cols',\n",
    "    members=[15, 16, 17, 18, 19, 20, 21, 22, 23, 24, 25, 26, 27, 28, 67, 68, 69, 70, 71, 72, 73, 74, 75, 76, 77, 78, 79, 80, 97, 98, 99, 100, 101, 102, 103, 104, 105, 106, 107, 108, 109, 110, 149, 150, 151, 152, 153, 154, 155, 156, 157, 158, 159, 160, 161, 162],\n",
    "    profiles=[],\n",
    "    preference=9,\n",
    "    Staad_objects=STAAD_objects\n",
    ")"
   ]
  },
  {
   "cell_type": "code",
   "execution_count": 3,
   "id": "3d55e2c6",
   "metadata": {},
   "outputs": [
    {
     "name": "stdout",
     "output_type": "stream",
     "text": [
      "Optimising member group tier_1 for profiles(0) []\n",
      "Assignment of 9 to [37, 38, 41, 42, 43, 46, 47, 57, 60, 62, 65]\n",
      "Assignment of 9 to [111, 112, 115, 116, 117, 120, 121, 130]\n",
      "Assignment of 9 to [169, 170, 171, 172, 173, 174, 175, 182, 183, 184, 185, 186, 187, 188, 199, 200, 201, 202, 203, 204, 205, 214, 215, 216, 217, 218, 219, 220, 227, 228, 229, 230, 231, 232, 233, 240, 241, 242, 243, 244, 245, 246, 257, 258, 259, 260, 261, 262, 263, 270, 271, 272, 273, 274, 275, 276]\n",
      "Assignment of 9 to [15, 16, 17, 18, 19, 20, 21, 22, 23, 24, 25, 26, 27, 28, 67, 68, 69, 70, 71, 72, 73, 74, 75, 76, 77, 78, 79, 80, 97, 98, 99, 100, 101, 102, 103, 104, 105, 106, 107, 108, 109, 110, 149, 150, 151, 152, 153, 154, 155, 156, 157, 158, 159, 160, 161, 162]\n",
      "Optimising member group tier_2 for profiles(0) []\n",
      "Assignment of 9 to [37, 38, 41, 42, 43, 46, 47, 57, 60, 62, 65]\n",
      "Assignment of 9 to [111, 112, 115, 116, 117, 120, 121, 130]\n",
      "Assignment of 9 to [169, 170, 171, 172, 173, 174, 175, 182, 183, 184, 185, 186, 187, 188, 199, 200, 201, 202, 203, 204, 205, 214, 215, 216, 217, 218, 219, 220, 227, 228, 229, 230, 231, 232, 233, 240, 241, 242, 243, 244, 245, 246, 257, 258, 259, 260, 261, 262, 263, 270, 271, 272, 273, 274, 275, 276]\n",
      "Assignment of 9 to [15, 16, 17, 18, 19, 20, 21, 22, 23, 24, 25, 26, 27, 28, 67, 68, 69, 70, 71, 72, 73, 74, 75, 76, 77, 78, 79, 80, 97, 98, 99, 100, 101, 102, 103, 104, 105, 106, 107, 108, 109, 110, 149, 150, 151, 152, 153, 154, 155, 156, 157, 158, 159, 160, 161, 162]\n",
      "Optimising member group tier_3 for profiles(2) [7, 9]\n",
      "Assignment of 9 to [37, 38, 41, 42, 43, 46, 47, 57, 60, 62, 65]\n",
      "Assignment of 9 to [111, 112, 115, 116, 117, 120, 121, 130]\n",
      "Assignment of 9 to [169, 170, 171, 172, 173, 174, 175, 182, 183, 184, 185, 186, 187, 188, 199, 200, 201, 202, 203, 204, 205, 214, 215, 216, 217, 218, 219, 220, 227, 228, 229, 230, 231, 232, 233, 240, 241, 242, 243, 244, 245, 246, 257, 258, 259, 260, 261, 262, 263, 270, 271, 272, 273, 274, 275, 276]\n",
      "Assignment of 9 to [15, 16, 17, 18, 19, 20, 21, 22, 23, 24, 25, 26, 27, 28, 67, 68, 69, 70, 71, 72, 73, 74, 75, 76, 77, 78, 79, 80, 97, 98, 99, 100, 101, 102, 103, 104, 105, 106, 107, 108, 109, 110, 149, 150, 151, 152, 153, 154, 155, 156, 157, 158, 159, 160, 161, 162]\n",
      "0 Profile 7\n",
      "Assignment of 7 to [169, 170, 171, 172, 173, 174, 175, 182, 183, 184, 185, 186, 187, 188, 199, 200, 201, 202, 203, 204, 205, 214, 215, 216, 217, 218, 219, 220, 227, 228, 229, 230, 231, 232, 233, 240, 241, 242, 243, 244, 245, 246, 257, 258, 259, 260, 261, 262, 263, 270, 271, 272, 273, 274, 275, 276]\n",
      "Analysis running .\n",
      "Analysis running ..\n",
      "Analysis running ...\n",
      "Analysis running ....\n",
      "Analysis running .....\n",
      "Analysis running ......\n",
      "Analysis running .......\n",
      "Analysis running ........\n",
      "Analysis running .........\n",
      "Analysis running ..........\n",
      "Analysis running ...........\n",
      "Analysis running ............\n",
      "{169: {'beam': 169, 'critical_ratio': 0.4573906, 'allowable_ratio': 1.0, 'design_forces': [(63.509224520945544, 0.013761483330570626, 116.44424230575561)], 'klbyr': 91.48512666666666, 'critical_ratio_failure': False}, 170: {'beam': 170, 'critical_ratio': 0.6265063222222222, 'allowable_ratio': 1.0, 'design_forces': [(81.4334386305809, 0.1433937409341335, 160.2781093067169)], 'klbyr': 91.48512666666666, 'critical_ratio_failure': False}, 171: {'beam': 171, 'critical_ratio': 0.6261850555555555, 'allowable_ratio': 1.0, 'design_forces': [(80.71930251898765, -0.1418677460764069, 160.35171230306625)], 'klbyr': 91.48512666666666, 'critical_ratio_failure': False}, 172: {'beam': 172, 'critical_ratio': 0.6237526222222222, 'allowable_ratio': 1.0, 'design_forces': [(83.4929944946289, -0.14771366822617127, 159.00727454738615)], 'klbyr': 91.48512666666666, 'critical_ratio_failure': False}, 173: {'beam': 173, 'critical_ratio': 0.6261302555555555, 'allowable_ratio': 1.0, 'design_forces': [(80.64731747922897, 0.14168734800820237, 160.35285328979492)], 'klbyr': 91.48512666666666, 'critical_ratio_failure': False}, 174: {'beam': 174, 'critical_ratio': 0.6263546999999999, 'allowable_ratio': 1.0, 'design_forces': [(81.25516413040161, -0.14318193394751288, 160.27485468883515)], 'klbyr': 91.48512666666666, 'critical_ratio_failure': False}, 175: {'beam': 175, 'critical_ratio': 0.4601011444444444, 'allowable_ratio': 1.0, 'design_forces': [(63.32487566928863, -0.14930179593414067, 116.40538329052924)], 'klbyr': 91.48512666666666, 'critical_ratio_failure': False}, 182: {'beam': 182, 'critical_ratio': 0.3659405222222222, 'allowable_ratio': 1.0, 'design_forces': [(36.03210837788582, -0.04058081578398123, -15.446327619576453)], 'klbyr': 91.48512666666666, 'critical_ratio_failure': False}, 183: {'beam': 183, 'critical_ratio': 0.3659405222222222, 'allowable_ratio': 1.0, 'design_forces': [(46.56954167289734, -0.02991472063588444, -10.98813123614192)], 'klbyr': 91.48512666666666, 'critical_ratio_failure': False}, 184: {'beam': 184, 'critical_ratio': 0.3659405222222222, 'allowable_ratio': 1.0, 'design_forces': [(46.295592629814145, 0.00943425978971063, -11.023459739154577)], 'klbyr': 91.48512666666666, 'critical_ratio_failure': False}, 185: {'beam': 185, 'critical_ratio': 0.3659405222222222, 'allowable_ratio': 1.0, 'design_forces': [(48.05635493237972, 0.002701593958761077, -11.11140573363304)], 'klbyr': 91.48512666666666, 'critical_ratio_failure': False}, 186: {'beam': 186, 'critical_ratio': 0.3659405222222222, 'allowable_ratio': 1.0, 'design_forces': [(46.25058444430828, -0.003403317339318164, -11.023222423267363)], 'klbyr': 91.48512666666666, 'critical_ratio_failure': False}, 187: {'beam': 187, 'critical_ratio': 0.3659405222222222, 'allowable_ratio': 1.0, 'design_forces': [(46.525403255963326, 0.03139393547612708, -10.987203015381096)], 'klbyr': 91.48512666666666, 'critical_ratio_failure': False}, 188: {'beam': 188, 'critical_ratio': 0.3659405222222222, 'allowable_ratio': 1.0, 'design_forces': [(35.953324179506296, 0.02917380717466585, -15.458413194167614)], 'klbyr': 91.48512666666666, 'critical_ratio_failure': False}, 199: {'beam': 199, 'critical_ratio': 0.3977212999999999, 'allowable_ratio': 1.0, 'design_forces': [(54.757926454687116, 0.19777499066945164, -100.10669649906158)], 'klbyr': 91.48512666666666, 'critical_ratio_failure': False}, 200: {'beam': 200, 'critical_ratio': 0.6271022888888887, 'allowable_ratio': 1.0, 'design_forces': [(79.1578060667038, 0.22949144066479055, -160.39587410087586)], 'klbyr': 91.48512666666666, 'critical_ratio_failure': False}, 201: {'beam': 201, 'critical_ratio': 0.6259815666666666, 'allowable_ratio': 1.0, 'design_forces': [(78.34095309247971, 0.2143566163045354, -160.34935551080702)], 'klbyr': 91.48512666666666, 'critical_ratio_failure': False}, 202: {'beam': 202, 'critical_ratio': 0.6228719999999999, 'allowable_ratio': 1.0, 'design_forces': [(81.29563174986839, -0.14861561290142125, -159.2291871137619)], 'klbyr': 91.48512666666666, 'critical_ratio_failure': False}, 203: {'beam': 203, 'critical_ratio': 0.6260690666666666, 'allowable_ratio': 1.0, 'design_forces': [(78.27328883852958, -0.2207278866358101, -160.3485512086868)], 'klbyr': 91.48512666666666, 'critical_ratio_failure': False}, 204: {'beam': 204, 'critical_ratio': 0.6272209888888888, 'allowable_ratio': 1.0, 'design_forces': [(79.11932114548682, -0.23623998334323987, -160.39521943635938)], 'klbyr': 91.48512666666666, 'critical_ratio_failure': False}, 205: {'beam': 205, 'critical_ratio': 0.3977002, 'allowable_ratio': 1.0, 'design_forces': [(54.77195030386448, -0.20335094590457156, -100.06241312069892)], 'klbyr': 91.48512666666666, 'critical_ratio_failure': False}, 214: {'beam': 214, 'critical_ratio': 0.4390774999999999, 'allowable_ratio': 1.0, 'design_forces': [(54.757926454687116, 0.19777499066945164, -100.10719217362403)], 'klbyr': 108.1187888888888, 'critical_ratio_failure': False}, 215: {'beam': 215, 'critical_ratio': 0.6910523111111111, 'allowable_ratio': 1.0, 'design_forces': [(79.15718881158828, 0.22949144066479055, -160.39536907396317)], 'klbyr': 108.1187888888888, 'critical_ratio_failure': False}, 216: {'beam': 216, 'critical_ratio': 0.6897867999999999, 'allowable_ratio': 1.0, 'design_forces': [(78.3403405135393, 0.2143566163045354, -160.34935551080702)], 'klbyr': 108.1187888888888, 'critical_ratio_failure': False}, 217: {'beam': 217, 'critical_ratio': 0.6867831999999999, 'allowable_ratio': 1.0, 'design_forces': [(81.29563174986839, -0.14861561290142125, -159.22916840906143)], 'klbyr': 108.1187888888888, 'critical_ratio_failure': False}, 218: {'beam': 218, 'critical_ratio': 0.6898648777777777, 'allowable_ratio': 1.0, 'design_forces': [(78.27268093576431, -0.2207278866358101, -160.34853250398635)], 'klbyr': 108.1187888888888, 'critical_ratio_failure': False}, 219: {'beam': 219, 'critical_ratio': 0.6911664333333333, 'allowable_ratio': 1.0, 'design_forces': [(79.11871324272155, -0.23623998334323987, -160.3947331141472)], 'klbyr': 108.1187888888888, 'critical_ratio_failure': False}, 220: {'beam': 220, 'critical_ratio': 0.4390460222222222, 'allowable_ratio': 1.0, 'design_forces': [(54.77195030386448, -0.20335094590457156, -100.06291814761161)], 'klbyr': 108.1187888888888, 'critical_ratio_failure': False}, 227: {'beam': 227, 'critical_ratio': 0.4324751666666666, 'allowable_ratio': 1.0, 'design_forces': [(36.03210837788582, -0.0036800502090001824, -28.151348114287853)], 'klbyr': 108.1187888888888, 'critical_ratio_failure': False}, 228: {'beam': 228, 'critical_ratio': 0.5139545222222222, 'allowable_ratio': 1.0, 'design_forces': [(79.07639385790824, -0.051816335717332546, -114.66057142128943)], 'klbyr': 108.1187888888888, 'critical_ratio_failure': False}, 229: {'beam': 229, 'critical_ratio': 0.5132956888888888, 'allowable_ratio': 1.0, 'design_forces': [(78.6013225230217, -0.04635650397543795, -114.6369567369461)], 'klbyr': 108.1187888888888, 'critical_ratio_failure': False}, 230: {'beam': 230, 'critical_ratio': 0.5129060777777777, 'allowable_ratio': 1.0, 'design_forces': [(81.29580009217261, -0.033727429058146664, -113.93958938932418)], 'klbyr': 108.1187888888888, 'critical_ratio_failure': False}, 231: {'beam': 231, 'critical_ratio': 0.5132156999999999, 'allowable_ratio': 1.0, 'design_forces': [(78.51919953560828, 0.04637630008787382, -114.63610567307471)], 'klbyr': 108.1187888888888, 'critical_ratio_failure': False}, 232: {'beam': 232, 'critical_ratio': 0.5138845777777777, 'allowable_ratio': 1.0, 'design_forces': [(78.96770084347725, 0.053520769581617784, -114.65895346469878)], 'klbyr': 108.1187888888888, 'critical_ratio_failure': False}, 233: {'beam': 233, 'critical_ratio': 0.4324751666666666, 'allowable_ratio': 1.0, 'design_forces': [(35.953324179506296, 0.00311464258468186, -28.161392538440225)], 'klbyr': 108.1187888888888, 'critical_ratio_failure': False}, 240: {'beam': 240, 'critical_ratio': 0.4324751666666666, 'allowable_ratio': 1.0, 'design_forces': [(36.03210837788582, -0.01998577608934138, 0.9301612273655832)], 'klbyr': 108.1187888888888, 'critical_ratio_failure': False}, 241: {'beam': 241, 'critical_ratio': 0.4324751666666666, 'allowable_ratio': 1.0, 'design_forces': [(46.56937333059311, -0.011876673089322866, -10.56102459847927)], 'klbyr': 108.1187888888888, 'critical_ratio_failure': False}, 242: {'beam': 242, 'critical_ratio': 0.4324751666666666, 'allowable_ratio': 1.0, 'design_forces': [(46.2954196113348, -0.01919047469291836, -10.531225672543048)], 'klbyr': 108.1187888888888, 'critical_ratio_failure': False}, 243: {'beam': 243, 'critical_ratio': 0.4324751666666666, 'allowable_ratio': 1.0, 'design_forces': [(48.05635493237972, -0.00013400722656488142, -10.452114141905307)], 'klbyr': 108.1187888888888, 'critical_ratio_failure': False}, 244: {'beam': 244, 'critical_ratio': 0.4324751666666666, 'allowable_ratio': 1.0, 'design_forces': [(46.250416102004046, 0.018201423698017607, -10.530389806240796)], 'klbyr': 108.1187888888888, 'critical_ratio_failure': False}, 245: {'beam': 245, 'critical_ratio': 0.4324751666666666, 'allowable_ratio': 1.0, 'design_forces': [(46.525230237483974, 0.010653243658033898, -10.560692590045928)], 'klbyr': 108.1187888888888, 'critical_ratio_failure': False}, 246: {'beam': 246, 'critical_ratio': 0.4324751666666666, 'allowable_ratio': 1.0, 'design_forces': [(35.953324179506296, 0.020737416440551167, 0.9207428992222993)], 'klbyr': 108.1187888888888, 'critical_ratio_failure': False}, 257: {'beam': 257, 'critical_ratio': 0.4324751666666666, 'allowable_ratio': 1.0, 'design_forces': [(36.03210837788582, -0.026219918955268803, 5.663761090475321)], 'klbyr': 108.1187888888888, 'critical_ratio_failure': False}, 258: {'beam': 258, 'critical_ratio': 0.4324751666666666, 'allowable_ratio': 1.0, 'design_forces': [(46.56937333059311, -0.014827095276577164, -4.180924917930365)], 'klbyr': 108.1187888888888, 'critical_ratio_failure': False}, 259: {'beam': 259, 'critical_ratio': 0.4324751666666666, 'allowable_ratio': 1.0, 'design_forces': [(46.2954196113348, -0.018965295626426813, -4.147904984121024)], 'klbyr': 108.1187888888888, 'critical_ratio_failure': False}, 260: {'beam': 260, 'critical_ratio': 0.4324751666666666, 'allowable_ratio': 1.0, 'design_forces': [(48.05635493237972, 0.0002797965613944143, -4.115538253523409)], 'klbyr': 108.1187888888888, 'critical_ratio_failure': False}, 261: {'beam': 261, 'critical_ratio': 0.4324751666666666, 'allowable_ratio': 1.0, 'design_forces': [(46.250416102004046, 0.018626468151586594, -4.147044567899406)], 'klbyr': 108.1187888888888, 'critical_ratio_failure': False}, 262: {'beam': 262, 'critical_ratio': 0.4324751666666666, 'allowable_ratio': 1.0, 'design_forces': [(46.525230237483974, 0.013551733587007038, -4.180612783241272)], 'klbyr': 108.1187888888888, 'critical_ratio_failure': False}, 263: {'beam': 263, 'critical_ratio': 0.4324751666666666, 'allowable_ratio': 1.0, 'design_forces': [(35.953324179506296, 0.026091378938464912, 5.654440304422378)], 'klbyr': 108.1187888888888, 'critical_ratio_failure': False}, 270: {'beam': 270, 'critical_ratio': 0.4937884999999999, 'allowable_ratio': 1.0, 'design_forces': [(60.17715515069961, 0.013522526900476077, 114.2518550113201)], 'klbyr': 108.1187888888888, 'critical_ratio_failure': False}, 271: {'beam': 271, 'critical_ratio': 0.6847380666666666, 'allowable_ratio': 1.0, 'design_forces': [(77.9678270513296, -0.13777904285751283, 159.56078404369353)], 'klbyr': 108.1187888888888, 'critical_ratio_failure': False}, 272: {'beam': 272, 'critical_ratio': 0.6844195111111111, 'allowable_ratio': 1.0, 'design_forces': [(77.32394579470157, 0.1392624954814557, 159.62398722658156)], 'klbyr': 108.1187888888888, 'critical_ratio_failure': False}, 273: {'beam': 273, 'critical_ratio': 0.6849180777777777, 'allowable_ratio': 1.0, 'design_forces': [(80.16070534415245, -0.14723368442319332, 159.01988151550293)], 'klbyr': 108.1187888888888, 'critical_ratio_failure': False}, 274: {'beam': 274, 'critical_ratio': 0.6843546999999999, 'allowable_ratio': 1.0, 'design_forces': [(77.24606877429486, -0.13936882366645148, 159.62512821331023)], 'klbyr': 108.1187888888888, 'critical_ratio_failure': False}, 275: {'beam': 275, 'critical_ratio': 0.6845803222222222, 'allowable_ratio': 1.0, 'design_forces': [(77.8176984491825, 0.13762767908754758, 159.55642584848403)], 'klbyr': 108.1187888888888, 'critical_ratio_failure': False}, 276: {'beam': 276, 'critical_ratio': 0.4964764222222222, 'allowable_ratio': 1.0, 'design_forces': [(59.992810975217814, -0.1490971219412051, 114.2129585866928)], 'klbyr': 108.1187888888888, 'critical_ratio_failure': False}}\n",
      "1 Profile 9\n",
      "Assignment of 9 to [169, 170, 171, 172, 173, 174, 175, 182, 183, 184, 185, 186, 187, 188, 199, 200, 201, 202, 203, 204, 205, 214, 215, 216, 217, 218, 219, 220, 227, 228, 229, 230, 231, 232, 233, 240, 241, 242, 243, 244, 245, 246, 257, 258, 259, 260, 261, 262, 263, 270, 271, 272, 273, 274, 275, 276]\n",
      "Analysis running .\n",
      "Analysis running ..\n",
      "Analysis running ...\n",
      "Analysis running ....\n",
      "Analysis running .....\n",
      "Analysis running ......\n",
      "Analysis running .......\n",
      "Analysis running ........\n",
      "Analysis running .........\n",
      "Analysis running ..........\n",
      "Analysis running ...........\n",
      "Analysis running ............\n",
      "{169: {'beam': 169, 'critical_ratio': 0.3240061999999999, 'allowable_ratio': 1.0, 'design_forces': [(61.64848091819286, 0.013875332668318878, 116.70376067242621)], 'klbyr': 78.27694777777776, 'critical_ratio_failure': False}, 170: {'beam': 170, 'critical_ratio': 0.4361177, 'allowable_ratio': 1.0, 'design_forces': [(78.69871789836883, 0.14383592261052688, 157.4636317317009)], 'klbyr': 78.27694777777776, 'critical_ratio_failure': False}, 171: {'beam': 171, 'critical_ratio': 0.4358996111111111, 'allowable_ratio': 1.0, 'design_forces': [(77.98130846419333, -0.1425813651053235, 157.54606334667204)], 'klbyr': 78.27694777777776, 'critical_ratio_failure': False}, 172: {'beam': 172, 'critical_ratio': 0.4339265222222222, 'allowable_ratio': 1.0, 'design_forces': [(80.13149795436858, -0.1483550440027844, 156.22004036860466)], 'klbyr': 78.27694777777776, 'critical_ratio_failure': False}, 173: {'beam': 173, 'critical_ratio': 0.4358593333333333, 'allowable_ratio': 1.0, 'design_forces': [(77.90764000139237, 0.142422466482874, 157.5474661992073)], 'klbyr': 78.27694777777776, 'critical_ratio_failure': False}, 174: {'beam': 174, 'critical_ratio': 0.4360030222222222, 'allowable_ratio': 1.0, 'design_forces': [(78.51849810934067, -0.14367738018110393, 157.45903037538528)], 'klbyr': 78.27694777777776, 'critical_ratio_failure': False}, 175: {'beam': 175, 'critical_ratio': 0.325881, 'allowable_ratio': 1.0, 'design_forces': [(61.456346234965324, -0.14969265841525048, 116.64908683295249)], 'klbyr': 78.27694777777776, 'critical_ratio_failure': False}, 182: {'beam': 182, 'critical_ratio': 0.3131077888888888, 'allowable_ratio': 1.0, 'design_forces': [(34.79366314550638, -0.05176171945326496, -21.238345672130585)], 'klbyr': 78.27694777777776, 'critical_ratio_failure': False}, 183: {'beam': 183, 'critical_ratio': 0.3131077888888888, 'allowable_ratio': 1.0, 'design_forces': [(44.81984320065975, -0.037224153166683385, -18.7070923335433)], 'klbyr': 78.27694777777776, 'critical_ratio_failure': False}, 184: {'beam': 184, 'critical_ratio': 0.3131077888888888, 'allowable_ratio': 1.0, 'design_forces': [(44.550682560896874, 0.012979450124385766, -18.749311180591583)], 'klbyr': 78.27694777777776, 'critical_ratio_failure': False}, 185: {'beam': 185, 'critical_ratio': 0.3131077888888888, 'allowable_ratio': 1.0, 'design_forces': [(45.92008641552925, 0.0037711303071031577, -18.78613138346672)], 'klbyr': 78.27694777777776, 'critical_ratio_failure': False}, 186: {'beam': 186, 'critical_ratio': 0.3131077888888888, 'allowable_ratio': 1.0, 'design_forces': [(44.50547329986095, -0.0042094212596683065, -18.749022426778076)], 'klbyr': 78.27694777777776, 'critical_ratio_failure': False}, 187: {'beam': 187, 'critical_ratio': 0.3131077888888888, 'allowable_ratio': 1.0, 'design_forces': [(44.77600873510837, 0.03964321984003764, -18.706036687010524)], 'klbyr': 78.27694777777776, 'critical_ratio_failure': False}, 188: {'beam': 188, 'critical_ratio': 0.3131077888888888, 'allowable_ratio': 1.0, 'design_forces': [(34.712812077724934, 0.03486270528194727, -21.254684227991103)], 'klbyr': 78.27694777777776, 'critical_ratio_failure': False}, 199: {'beam': 199, 'critical_ratio': 0.3131077888888888, 'allowable_ratio': 1.0, 'design_forces': [(34.79366314550638, -0.016415911396068985, -40.41763115477562)], 'klbyr': 78.27694777777776, 'critical_ratio_failure': False}, 200: {'beam': 200, 'critical_ratio': 0.4701027444444444, 'allowable_ratio': 1.0, 'design_forces': [(75.49493939247131, 0.24602217636285348, -171.33045494861602)], 'klbyr': 78.27694777777776, 'critical_ratio_failure': False}, 201: {'beam': 201, 'critical_ratio': 0.4692370222222222, 'allowable_ratio': 1.0, 'design_forces': [(74.68184606304169, 0.22899028620962053, -171.2716660750389)], 'klbyr': 78.27694777777776, 'critical_ratio_failure': False}, 202: {'beam': 202, 'critical_ratio': 0.4662765222222222, 'allowable_ratio': 1.0, 'design_forces': [(76.94989854705334, -0.146132171188388, -170.08416075630188)], 'klbyr': 78.27694777777776, 'critical_ratio_failure': False}, 203: {'beam': 203, 'critical_ratio': 0.4693737777777777, 'allowable_ratio': 1.0, 'design_forces': [(74.61050165927409, -0.2404112959448248, -171.27067472591398)], 'klbyr': 78.27694777777776, 'critical_ratio_failure': False}, 204: {'beam': 204, 'critical_ratio': 0.4702908999999999, 'allowable_ratio': 1.0, 'design_forces': [(75.45630483365059, -0.25951162640256803, -171.32970676059722)], 'klbyr': 78.27694777777776, 'critical_ratio_failure': False}, 205: {'beam': 205, 'critical_ratio': 0.3131077888888888, 'allowable_ratio': 1.0, 'design_forces': [(34.712812077724934, 0.014458902426646091, -40.43330101759434)], 'klbyr': 78.27694777777776, 'critical_ratio_failure': False}, 214: {'beam': 214, 'critical_ratio': 0.3700364333333333, 'allowable_ratio': 1.0, 'design_forces': [(34.79366314550638, 0.02904759382897755, -61.36365041561126)], 'klbyr': 92.50911333333333, 'critical_ratio_failure': False}, 215: {'beam': 215, 'critical_ratio': 0.5052073, 'allowable_ratio': 1.0, 'design_forces': [(75.49444839408397, 0.24602217636285348, -171.33008085460662)], 'klbyr': 92.50911333333333, 'critical_ratio_failure': False}, 216: {'beam': 216, 'critical_ratio': 0.5042562777777777, 'allowable_ratio': 1.0, 'design_forces': [(74.68133635995387, 0.22899028620962053, -171.2716660750389)], 'klbyr': 92.50911333333333, 'critical_ratio_failure': False}, 217: {'beam': 217, 'critical_ratio': 0.5012969999999999, 'allowable_ratio': 1.0, 'design_forces': [(76.94989854705334, -0.146132171188388, -170.08416075630188)], 'klbyr': 92.50911333333333, 'critical_ratio_failure': False}, 218: {'beam': 218, 'critical_ratio': 0.5043884888888888, 'allowable_ratio': 1.0, 'design_forces': [(74.61001066088676, -0.2404112959448248, -171.27067472591398)], 'klbyr': 92.50911333333333, 'critical_ratio_failure': False}, 219: {'beam': 219, 'critical_ratio': 0.5053943333333333, 'allowable_ratio': 1.0, 'design_forces': [(75.45580915908813, -0.25951162640256803, -171.32937007598875)], 'klbyr': 92.50911333333333, 'critical_ratio_failure': False}, 220: {'beam': 220, 'critical_ratio': 0.3700364333333333, 'allowable_ratio': 1.0, 'design_forces': [(34.712812077724934, -0.029756646280630957, -61.378511300134655)], 'klbyr': 92.50911333333333, 'critical_ratio_failure': False}, 227: {'beam': 227, 'critical_ratio': 0.3700364333333333, 'allowable_ratio': 1.0, 'design_forces': [(34.79366314550638, -0.0038298582031740806, -30.848180137610434)], 'klbyr': 92.50911333333333, 'critical_ratio_failure': False}, 228: {'beam': 228, 'critical_ratio': 0.3821007666666666, 'allowable_ratio': 1.0, 'design_forces': [(75.41642641224861, -0.05159604403015691, -125.61572743954657)], 'klbyr': 92.50911333333333, 'critical_ratio_failure': False}, 229: {'beam': 229, 'critical_ratio': 0.3817031555555555, 'allowable_ratio': 1.0, 'design_forces': [(74.93467749929428, -0.05042973106398713, -125.59193506054878)], 'klbyr': 92.50911333333333, 'critical_ratio_failure': False}, 230: {'beam': 230, 'critical_ratio': 0.3807395222222222, 'allowable_ratio': 1.0, 'design_forces': [(76.95006688935756, -0.035030358033010266, -124.81296845712662)], 'klbyr': 92.50911333333333, 'critical_ratio_failure': False}, 231: {'beam': 231, 'critical_ratio': 0.3816557, 'allowable_ratio': 1.0, 'design_forces': [(74.85552855925559, 0.05088182221304159, -125.59095306377411)], 'klbyr': 92.50911333333333, 'critical_ratio_failure': False}, 232: {'beam': 232, 'critical_ratio': 0.3820974999999999, 'allowable_ratio': 1.0, 'design_forces': [(75.30891647012233, 0.05614164700396359, -125.61395049300194)], 'klbyr': 92.50911333333333, 'critical_ratio_failure': False}, 233: {'beam': 233, 'critical_ratio': 0.3700364333333333, 'allowable_ratio': 1.0, 'design_forces': [(34.712812077724934, 0.003258072212063416, -30.86232556734085)], 'klbyr': 92.50911333333333, 'critical_ratio_failure': False}, 240: {'beam': 240, 'critical_ratio': 0.3700364333333333, 'allowable_ratio': 1.0, 'design_forces': [(34.79366314550638, -0.038771779900905676, -0.6211527805346996)], 'klbyr': 92.50911333333333, 'critical_ratio_failure': False}, 241: {'beam': 241, 'critical_ratio': 0.3700364333333333, 'allowable_ratio': 1.0, 'design_forces': [(44.8197496771574, -0.024420367853168864, -14.240343225818872)], 'klbyr': 92.50911333333333, 'critical_ratio_failure': False}, 242: {'beam': 242, 'critical_ratio': 0.3700364333333333, 'allowable_ratio': 1.0, 'design_forces': [(44.55058436121941, -0.02768354578402359, -14.205119936746359)], 'klbyr': 92.50911333333333, 'critical_ratio_failure': False}, 243: {'beam': 243, 'critical_ratio': 0.3700364333333333, 'allowable_ratio': 1.0, 'design_forces': [(45.92008641552925, 0.00047182461375850835, -14.08870421910882)], 'klbyr': 92.50911333333333, 'critical_ratio_failure': False}, 244: {'beam': 244, 'critical_ratio': 0.3700364333333333, 'allowable_ratio': 1.0, 'design_forces': [(44.505375100183485, 0.02725960073393071, -14.204163658934831)], 'klbyr': 92.50911333333333, 'critical_ratio_failure': False}, 245: {'beam': 245, 'critical_ratio': 0.3700364333333333, 'allowable_ratio': 1.0, 'design_forces': [(44.7759105354309, 0.02243364416549448, -14.23995510328412)], 'klbyr': 92.50911333333333, 'critical_ratio_failure': False}, 246: {'beam': 246, 'critical_ratio': 0.3700364333333333, 'allowable_ratio': 1.0, 'design_forces': [(34.712812077724934, 0.03810193836492253, -0.6346276905924081)], 'klbyr': 92.50911333333333, 'critical_ratio_failure': False}, 257: {'beam': 257, 'critical_ratio': 0.3700364333333333, 'allowable_ratio': 1.0, 'design_forces': [(34.79366314550638, -0.04700593976092059, 4.299468002985417)], 'klbyr': 92.50911333333333, 'critical_ratio_failure': False}, 258: {'beam': 258, 'critical_ratio': 0.3700364333333333, 'allowable_ratio': 1.0, 'design_forces': [(44.8197496771574, -0.02942972044778289, -7.680175731933116)], 'klbyr': 92.50911333333333, 'critical_ratio_failure': False}, 259: {'beam': 259, 'critical_ratio': 0.3700364333333333, 'allowable_ratio': 1.0, 'design_forces': [(44.55058436121941, -0.024608303057146258, -7.641492073273659)], 'klbyr': 92.50911333333333, 'critical_ratio_failure': False}, 260: {'beam': 260, 'critical_ratio': 0.3700364333333333, 'allowable_ratio': 1.0, 'design_forces': [(45.92008641552925, 0.0010403022623475407, -7.572345471811294)], 'klbyr': 92.50911333333333, 'critical_ratio_failure': False}, 261: {'beam': 261, 'critical_ratio': 0.3700364333333333, 'allowable_ratio': 1.0, 'design_forces': [(44.505375100183485, 0.02524434963809326, -7.640511245542764)], 'klbyr': 92.50911333333333, 'critical_ratio_failure': False}, 262: {'beam': 262, 'critical_ratio': 0.3700364333333333, 'allowable_ratio': 1.0, 'design_forces': [(44.7759105354309, 0.027576904788485262, -7.67981508192718)], 'klbyr': 92.50911333333333, 'critical_ratio_failure': False}, 263: {'beam': 263, 'critical_ratio': 0.3700364333333333, 'allowable_ratio': 1.0, 'design_forces': [(34.712812077724934, 0.04478598955597263, 4.286099987368285)], 'klbyr': 92.50911333333333, 'critical_ratio_failure': False}, 270: {'beam': 270, 'critical_ratio': 0.3700364333333333, 'allowable_ratio': 1.0, 'design_forces': [(34.79366314550638, -0.10737139217210932, 42.69799600787162)], 'klbyr': 92.50911333333333, 'critical_ratio_failure': False}, 271: {'beam': 271, 'critical_ratio': 0.4621159555555555, 'allowable_ratio': 1.0, 'design_forces': [(75.25181569576263, -0.13876082043647767, 155.61888064785003)], 'klbyr': 92.50911333333333, 'critical_ratio_failure': False}, 272: {'beam': 272, 'critical_ratio': 0.4619060333333333, 'allowable_ratio': 1.0, 'design_forces': [(74.60431040341854, 0.13996578491260298, 155.69235271129608)], 'klbyr': 92.50911333333333, 'critical_ratio_failure': False}, 273: {'beam': 273, 'critical_ratio': 0.4621099999999999, 'allowable_ratio': 1.0, 'design_forces': [(76.8031554956913, -0.14794960500705054, 155.17585046486855)], 'klbyr': 92.50911333333333, 'critical_ratio_failure': False}, 274: {'beam': 274, 'critical_ratio': 0.4618614333333333, 'allowable_ratio': 1.0, 'design_forces': [(74.52742473213672, -0.14007634174814446, 155.6937742685318)], 'klbyr': 92.50911333333333, 'critical_ratio_failure': False}, 275: {'beam': 275, 'critical_ratio': 0.4619984777777777, 'allowable_ratio': 1.0, 'design_forces': [(75.09918066375255, 0.1386265447986312, 155.612829677248)], 'klbyr': 92.50911333333333, 'critical_ratio_failure': False}, 276: {'beam': 276, 'critical_ratio': 0.3700364333333333, 'allowable_ratio': 1.0, 'design_forces': [(34.712812077724934, 0.08188273978359066, 42.68530486860275)], 'klbyr': 92.50911333333333, 'critical_ratio_failure': False}}\n",
      "Optimising member group main_cols for profiles(0) []\n",
      "Assignment of 9 to [37, 38, 41, 42, 43, 46, 47, 57, 60, 62, 65]\n",
      "Assignment of 9 to [111, 112, 115, 116, 117, 120, 121, 130]\n",
      "Assignment of 9 to [169, 170, 171, 172, 173, 174, 175, 182, 183, 184, 185, 186, 187, 188, 199, 200, 201, 202, 203, 204, 205, 214, 215, 216, 217, 218, 219, 220, 227, 228, 229, 230, 231, 232, 233, 240, 241, 242, 243, 244, 245, 246, 257, 258, 259, 260, 261, 262, 263, 270, 271, 272, 273, 274, 275, 276]\n",
      "Assignment of 9 to [15, 16, 17, 18, 19, 20, 21, 22, 23, 24, 25, 26, 27, 28, 67, 68, 69, 70, 71, 72, 73, 74, 75, 76, 77, 78, 79, 80, 97, 98, 99, 100, 101, 102, 103, 104, 105, 106, 107, 108, 109, 110, 149, 150, 151, 152, 153, 154, 155, 156, 157, 158, 159, 160, 161, 162]\n"
     ]
    }
   ],
   "source": [
    "optimise_group_collection = optimise_groups().add(beams_tier_1).add(beams_tier_2).add(beams_tier_3).add(columns_group_1)\n",
    "\n",
    "for group in optimise_group_collection.member_groups:\n",
    "\n",
    "    print(f'Optimising member group {group.id} for profiles({len(group.profiles)}) {group.profiles}')\n",
    "\n",
    "    for group_i in optimise_group_collection.member_groups:\n",
    "        group_i.set_members_property_initial()\n",
    "\n",
    "    for index in range(len(group.profiles)):\n",
    "        print(f'{index+1} Profile {group.profiles[index]}')\n",
    "\n",
    "        group.set_members_property(index)\n",
    "\n",
    "        run_analysis(openSTAAD)\n",
    "\n",
    "        group.get_utilization_ratios(index)\n",
    "\n",
    "        print(group.results[index])"
   ]
  },
  {
   "cell_type": "code",
   "execution_count": null,
   "id": "ae5fc487",
   "metadata": {},
   "outputs": [],
   "source": []
  }
 ],
 "metadata": {
  "kernelspec": {
   "display_name": ".venv",
   "language": "python",
   "name": "python3"
  },
  "language_info": {
   "codemirror_mode": {
    "name": "ipython",
    "version": 3
   },
   "file_extension": ".py",
   "mimetype": "text/x-python",
   "name": "python",
   "nbconvert_exporter": "python",
   "pygments_lexer": "ipython3",
   "version": "3.13.2"
  }
 },
 "nbformat": 4,
 "nbformat_minor": 5
}
