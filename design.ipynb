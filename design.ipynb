{
 "cells": [
  {
   "cell_type": "code",
   "execution_count": null,
   "id": "2ba05f35",
   "metadata": {},
   "outputs": [],
   "source": [
    "from base.helper import *\n",
    "from base.staad_base.geometry import *\n",
    "from base.staad_base.load import *\n",
    "from base.staad_base.design import *\n",
    "\n",
    "openSTAAD,STAAD_objects = get_openSTAAD()\n",
    "\n",
    "geometry = STAAD_objects['geometry']\n",
    "property = STAAD_objects['property']\n",
    "output = STAAD_objects['output']\n",
    "\n",
    "get_selected_beam_nos(geometry)"
   ]
  },
  {
   "cell_type": "code",
   "execution_count": null,
   "id": "7996db6f",
   "metadata": {},
   "outputs": [
    {
     "name": "stdout",
     "output_type": "stream",
     "text": [
      "[7, 14, 21, 28, 47, 73, 80, 103, 110, 121, 155, 162, 175, 188, 205, 220, 233, 246, 263, 276]\n"
     ]
    }
   ],
   "source": []
  }
 ],
 "metadata": {
  "kernelspec": {
   "display_name": ".venv",
   "language": "python",
   "name": "python3"
  },
  "language_info": {
   "codemirror_mode": {
    "name": "ipython",
    "version": 3
   },
   "file_extension": ".py",
   "mimetype": "text/x-python",
   "name": "python",
   "nbconvert_exporter": "python",
   "pygments_lexer": "ipython3",
   "version": "3.13.3"
  }
 },
 "nbformat": 4,
 "nbformat_minor": 5
}
