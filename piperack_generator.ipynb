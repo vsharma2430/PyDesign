{
 "cells": [
  {
   "cell_type": "markdown",
   "id": "14efdbc5",
   "metadata": {},
   "source": [
    "# Piperack Generator\n",
    "\n",
    "## Module imports and connection to STAAD"
   ]
  },
  {
   "cell_type": "code",
   "execution_count": 1,
   "id": "8c048019",
   "metadata": {},
   "outputs": [],
   "source": [
    "from base.helper import *\n",
    "from base.staad_base.geometry import *\n",
    "from base.structural_elements.beam import *\n",
    "from base.structural_elements.column import *\n",
    "from base.piperack.portal import *\n",
    "from base.staad_base.load import *\n",
    "from base.staad_base.design import *\n",
    "from base.staad_base.property import *\n",
    "from base.staad_base.optimise_member import *\n",
    "from IPython.display import display, Markdown\n",
    "from pyperclip import copy\n",
    "\n",
    "openSTAAD,STAAD_objects = get_openSTAAD()\n",
    "\n",
    "geometry = STAAD_objects.geometry\n",
    "property = STAAD_objects.property\n",
    "output = STAAD_objects.output\n",
    "\n",
    "add_beams = add_beams(geometry=geometry)\n",
    "\n",
    "nodes = get_node_incidences(geometry=geometry)\n",
    "beam_objects:dict = get_beam_objects(geometry=geometry,property=None)\n",
    "beam_nos:list = list(beam_objects.keys())"
   ]
  },
  {
   "cell_type": "markdown",
   "id": "24ca63d2",
   "metadata": {},
   "source": [
    "## Inputs"
   ]
  },
  {
   "cell_type": "code",
   "execution_count": 2,
   "id": "ece92229",
   "metadata": {},
   "outputs": [],
   "source": [
    "base_point_of_first_portal = Point3D(0,0,0)\n",
    "width_of_piperack = 8\n",
    "portal_to_portal_distance = [0,8,8,6,6,7,8]\n",
    "columns = [0,width_of_piperack]\n",
    "tiers = [3,6,9,12,14]\n",
    "long_beams = [4.5,7.5,10.5,tiers[-1]]\n",
    "braces_placement = [False,True,False,False,True,False]"
   ]
  },
  {
   "cell_type": "markdown",
   "id": "5b87d128",
   "metadata": {},
   "source": [
    "## Generator Code"
   ]
  },
  {
   "cell_type": "code",
   "execution_count": null,
   "id": "32e0aec2",
   "metadata": {},
   "outputs": [
    {
     "data": {
      "text/markdown": [
       "## Primary Members Created\n",
       "\n",
       "| Member Types | IDs | \n",
       "| --- | --- |\n",
       "| Portal Beams | [1, 2, 3, 4, 5, 1, 2, 3, 4, 5, 8, 9, 10, 11, 12, 15, 16, 17, 18, 19, 22, 23, 24, 25, 26, 29, 30, 31, 32, 33, 36, 37, 38, 39, 40] |\n",
       "| Portal Columns | [6, 7, 6, 7, 13, 14, 20, 21, 27, 28, 34, 35, 41, 42] |\n",
       "| Long Beams | [0, 0, 0, 0, 0, 0, 0, 0, 50, 52, 54, 55, 57, 59, 61, 62, 64, 66, 68, 69, 71, 73, 75, 76, 78, 80, 82, 83, 85, 87, 89, 90, 92, 94, 96, 97, 99, 101, 103, 104, 106, 108, 110, 111, 113, 115, 117, 118] |\n"
      ],
      "text/plain": [
       "<IPython.core.display.Markdown object>"
      ]
     },
     "metadata": {},
     "output_type": "display_data"
    }
   ],
   "source": [
    "portals = []\n",
    "longitudinal_beams = []\n",
    "stubs = []\n",
    "intermediate_transverse_beams = []\n",
    "intermediate_long_beams = []\n",
    "plan_braces = []\n",
    "vertical_braces = []\n",
    "\n",
    "portal_beam_ids = [] \n",
    "portal_column_ids = [] \n",
    "long_beam_ids = [] \n",
    "stub_ids = []\n",
    "intermediate_transverse_ids = []\n",
    "intermediate_long_ids = []\n",
    "plan_brace_ids = []\n",
    "vertical_brace_ids = []\n",
    "\n",
    "portal_count = len(portal_to_portal_distance)\n",
    "portal = PiperackPortal(base=base_point_of_first_portal) \n",
    "\n",
    "for column in columns:\n",
    "    portal.add_column(Column3D(base=Point3D(column,0,0),height=tiers[-1])) \\\n",
    "\n",
    "for tier in tiers:\n",
    "    for column_i in range(len(columns)-1):\n",
    "        portal.add_beam(Beam3D(start=Point3D(columns[column_i],tier,0),end=Point3D(columns[column_i+1],tier,0))) \n",
    "\n",
    "portals = [portal.shift(Point3D(0,0,sum(portal_to_portal_distance[:i]))) for i in range(0,portal_count)]\n",
    "\n",
    "for portal_i in range(len(portals)-1):\n",
    "    for column in columns:\n",
    "        for long_beam in long_beams:\n",
    "            long_beam_x = Beam3D(start=Point3D(column,long_beam,portals[portal_i].base.z),end=Point3D(column,long_beam,portals[portal_i+1].base.z))\n",
    "            longitudinal_beams.append(long_beam_x)\n",
    "\n",
    "\n",
    "for portal in portals:\n",
    "    portal_beam_ids = [*portal_beam_ids,*add_beams(portal.beams)]\n",
    "    portal_column_ids = [*portal_column_ids,*add_beams(portal.columns)]\n",
    "\n",
    "long_beam_ids = add_beams(longitudinal_beams)\n",
    "\n",
    "markdown_output = ''\n",
    "markdown_output = \"## Primary Members Created\\n\\n\"\n",
    "markdown_output += \"| Member Types | IDs | \\n\"\n",
    "markdown_output += \"| --- | --- |\\n\"\n",
    "markdown_output += f\"| Portal Beams | {portal_beam_ids} |\\n\"\n",
    "markdown_output += f\"| Portal Columns | {portal_column_ids} |\\n\"\n",
    "markdown_output += f\"| Long Beams | {long_beam_ids} |\\n\"\n",
    "\n",
    "display(Markdown(markdown_output))"
   ]
  },
  {
   "cell_type": "code",
   "execution_count": 4,
   "id": "78eb4c87",
   "metadata": {},
   "outputs": [
    {
     "data": {
      "text/markdown": [
       "## Secondary Members Created\n",
       "\n",
       "| Member Types | IDs | \n",
       "| --- | --- |\n",
       "| Stubs | [43, 46, 167, 168, 171, 174, 177, 180, 181, 182, 185, 188, 44, 47, 189, 190, 192, 194, 196, 198, 199, 200, 202, 204, 45, 48, 205, 206, 208, 210, 212, 214, 215, 216, 218, 220] |\n",
       "| Intermediate Trans Beams | [2, 223, 226, 229, 232, 235, 3, 238, 241, 244, 247, 250, 253, 256, 259, 262, 265, 268] |\n",
       "| Intermediate Long Beams | [0, 271, 273, 275, 277, 279, 0, 282, 284, 286, 288, 290, 0, 293, 295, 297, 299, 301, 0, 304, 306, 308, 310, 312, 0, 315, 317, 319, 321, 323] |\n",
       "| Plan Braces | [324, 325, 326, 327, 328, 329, 330, 331, 332, 333, 334, 335, 336, 337, 338, 339, 340, 341, 342, 343] |\n",
       "| Vertical Braces | [120, 121, 123, 124, 126, 127, 129, 130, 132, 133, 135, 136, 138, 139, 141, 142, 144, 145, 147, 148, 150, 151, 153, 154, 156, 157, 159, 160, 162, 163, 165, 166] |\n"
      ],
      "text/plain": [
       "<IPython.core.display.Markdown object>"
      ]
     },
     "metadata": {},
     "output_type": "display_data"
    }
   ],
   "source": [
    "long_beams_y = group_beams_by_y(longitudinal_beams)\n",
    "\n",
    "previous_y = None\n",
    "for y,group_y in long_beams_y.items():\n",
    "    base = portal.base.y if not previous_y else previous_y\n",
    "    long_beams_sorted = beams_sorted_yxz(group_y)\n",
    "\n",
    "    for beam_i in range(len(long_beams_sorted)-1):\n",
    "        portal_i = beam_i%(len(portals)-1)\n",
    "        if(braces_placement[portal_i]):\n",
    "            long_beam_i : Beam3D = long_beams_sorted[beam_i]\n",
    "\n",
    "            vb_1 = Beam3D(  start=Point3D(long_beam_i.start.x,\n",
    "                                        base,\n",
    "                                        long_beam_i.start.z),\n",
    "                            end=long_beam_i.mid())\n",
    "            vb_2 = Beam3D(  start=Point3D(long_beam_i.start.x,\n",
    "                                        base,\n",
    "                                        long_beam_i.end.z),\n",
    "                            end=long_beam_i.mid())\n",
    "            vertical_braces.append(vb_1)\n",
    "            vertical_braces.append(vb_2)\n",
    "    previous_y = y\n",
    "\n",
    "vertical_brace_ids = add_beams(vertical_braces)\n",
    "\n",
    "create_stub = lambda beamA,beamB : Beam3D(start=beamA.mid(),end=beamB.mid())\n",
    "\n",
    "for long_beam_i in range(len(longitudinal_beams)-1):\n",
    "    long_ii:Beam3D = longitudinal_beams[long_beam_i]\n",
    "    long_ij:Beam3D = longitudinal_beams[long_beam_i+1]\n",
    "    if(long_ii.start.eq_x(long_ij.start) and long_ii.end.eq_z(long_ij.end)):\n",
    "        stubs.append(create_stub(long_ii,long_ij))\n",
    "\n",
    "stubs = beams_sorted_yzx(stubs)\n",
    "\n",
    "for stub_i in range(0, len(stubs), 2):\n",
    "    if stub_i + 1 < len(stubs):  \n",
    "        stub1, stub2 = stubs[stub_i], stubs[stub_i + 1]\n",
    "        intermediate_transverse_beams.append(Beam3D(start=stub1.mid(),end=stub2.mid()))\n",
    "\n",
    "stub_ids = add_beams(stubs)\n",
    "intermediate_transverse_ids = add_beams(intermediate_transverse_beams)\n",
    "\n",
    "portal_beams_y = group_beams_by_y([beam for portal in portals for beam in portal.beams])\n",
    "for group_y in portal_beams_y.values():\n",
    "    sorted_beams = beams_sorted_yzx(group_y)\n",
    "    for beam_i in range(len(sorted_beams)-1):\n",
    "        beam1 = sorted_beams[beam_i]\n",
    "        beam2 = sorted_beams[beam_i+1]\n",
    "        intermediate_long_beams.append(Beam3D(start=beam1.mid(),end=beam2.mid()))\n",
    "\n",
    "        if(braces_placement[beam_i]):\n",
    "            plan_braces.append(Beam3D(start=beam1.start,end=beam2.end))\n",
    "            plan_braces.append(Beam3D(start=beam2.start,end=beam1.end))\n",
    "\n",
    "\n",
    "intermediate_long_ids = add_beams(intermediate_long_beams)\n",
    "plan_brace_ids = add_beams(plan_braces)\n",
    "\n",
    "markdown_output = ''\n",
    "markdown_output = \"## Secondary Members Created\\n\\n\"\n",
    "markdown_output += \"| Member Types | IDs | \\n\"\n",
    "markdown_output += \"| --- | --- |\\n\"\n",
    "markdown_output += f\"| Stubs | {stub_ids} |\\n\"\n",
    "markdown_output += f\"| Intermediate Trans Beams | {intermediate_transverse_ids} |\\n\"\n",
    "markdown_output += f\"| Intermediate Long Beams | {intermediate_long_ids} |\\n\"\n",
    "markdown_output += f\"| Plan Braces | {plan_brace_ids} |\\n\"\n",
    "markdown_output += f\"| Vertical Braces | {vertical_brace_ids} |\\n\"\n",
    "\n",
    "display(Markdown(markdown_output))"
   ]
  }
 ],
 "metadata": {
  "kernelspec": {
   "display_name": ".venv",
   "language": "python",
   "name": "python3"
  },
  "language_info": {
   "codemirror_mode": {
    "name": "ipython",
    "version": 3
   },
   "file_extension": ".py",
   "mimetype": "text/x-python",
   "name": "python",
   "nbconvert_exporter": "python",
   "pygments_lexer": "ipython3",
   "version": "3.13.3"
  }
 },
 "nbformat": 4,
 "nbformat_minor": 5
}
