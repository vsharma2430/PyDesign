{
 "cells": [
  {
   "cell_type": "markdown",
   "id": "14efdbc5",
   "metadata": {},
   "source": [
    "# Piperack Generator\n",
    "\n",
    "## Module imports and connection to STAAD"
   ]
  },
  {
   "cell_type": "code",
   "execution_count": 1,
   "id": "8c048019",
   "metadata": {},
   "outputs": [],
   "source": [
    "from base.helper.general import *\n",
    "from base.staad_base.geometry import *\n",
    "from base.structural_elements.beam import *\n",
    "from base.structural_elements.column import *\n",
    "from base.piperack.portal import *\n",
    "from base.piperack.piperack import *\n",
    "from base.staad_base.load import *\n",
    "from base.staad_base.design import *\n",
    "from base.staad_base.property import *\n",
    "from base.staad_base.optimise_member import *\n",
    "from IPython.display import display, Markdown\n",
    "from pyperclip import copy\n",
    "\n",
    "openSTAAD,STAAD_objects = get_openSTAAD()\n",
    "\n",
    "geometry = STAAD_objects.geometry\n",
    "property = STAAD_objects.property\n",
    "output = STAAD_objects.output\n",
    "support = STAAD_objects.support\n",
    "\n",
    "add_beams = add_beams(geometry=geometry)\n",
    "assign_profile = assign_profile(property=property)\n",
    "assign_specification = assign_specification(property=property)"
   ]
  },
  {
   "cell_type": "markdown",
   "id": "24ca63d2",
   "metadata": {},
   "source": [
    "## Inputs\n",
    "\n",
    "### Steel"
   ]
  },
  {
   "cell_type": "code",
   "execution_count": 2,
   "id": "ece92229",
   "metadata": {},
   "outputs": [],
   "source": [
    "base_point_of_first_portal = Point3D(0,0,0)\n",
    "width_of_piperack = 8\n",
    "portal_distances = [0,8,16,24,30,36,42]\n",
    "column_distances = [0,width_of_piperack]\n",
    "tier_elevations = [3,6,9,12,14]\n",
    "long_beam_elevations = [4.5,7.5,10.5,tier_elevations[-1]]\n",
    "braces_placement = [False,True,False,False,True,False]"
   ]
  },
  {
   "cell_type": "markdown",
   "id": "7a4d76cc",
   "metadata": {},
   "source": [
    "### Concrete"
   ]
  },
  {
   "cell_type": "code",
   "execution_count": 3,
   "id": "ff469aec",
   "metadata": {},
   "outputs": [],
   "source": [
    "pedestal_height = 2\n",
    "pedestal_offset = 1"
   ]
  },
  {
   "cell_type": "markdown",
   "id": "5b87d128",
   "metadata": {},
   "source": [
    "## Generator Code\n",
    "\n",
    "### Profiles"
   ]
  },
  {
   "cell_type": "code",
   "execution_count": null,
   "id": "92ab81d6",
   "metadata": {},
   "outputs": [
    {
     "data": {
      "text/markdown": [
       "## Profile List\n",
       "\n",
       "| Member Types     | Profile | Profile Id |\n",
       "| ---              | ---                  |\n",
       "| 2 | Rect 0.8*1.2 | 0 |\n",
       "| 1 | ISMB600 | 5 |\n",
       "| 0 | ISMB500 | 6 |\n",
       "| 3 | ISMB400 | 7 |\n",
       "| 5 | ISA100x100x6 | 8 |\n",
       "| 4 | ISA100x100x6 | 8 |\n",
       "| 6 | ISMB500 | 6 |\n",
       "| 7 | ISMB500 | 6 |\n",
       "| 8 | ISMB500 | 6 |\n"
      ],
      "text/plain": [
       "<IPython.core.display.Markdown object>"
      ]
     },
     "metadata": {},
     "output_type": "display_data"
    }
   ],
   "source": [
    "profile_list = {\n",
    "    PiperackMembers.Pedestals : 'Rect 0.8*1.2',\n",
    "    PiperackMembers.Columns : 'ISMB600',\n",
    "    PiperackMembers.TierBeams : 'ISMB500',\n",
    "    PiperackMembers.LongitudinalBeams : 'ISMB400',\n",
    "    PiperackMembers.PlanBracing : 'ISA100x100x6',\n",
    "    PiperackMembers.VerticalBracing : 'ISA100x100x6',\n",
    "    PiperackMembers.Stubs : 'ISMB500',\n",
    "    PiperackMembers.IntermediateTransverseBeams : 'ISMB500',\n",
    "    PiperackMembers.IntermediateLongitudinalBeams : 'ISMB500'\n",
    "}\n",
    "\n",
    "profile_ids = {}\n",
    "for member_type,profile in profile_list.items():\n",
    "    if ((isinstance(profile, str) and profile.isdigit()) or isinstance(profile, (int, float))):\n",
    "        profile_ids[member_type] = int(profile)\n",
    "    else:\n",
    "        profile_ids[member_type] = create_beam_property(property,10,profile,0,0,0)\n",
    "        \n",
    "markdown_output = ''\n",
    "markdown_output = \"## Profile List\\n\\n\"\n",
    "markdown_output += f\"| Member Types     | Profile              | Profile Id |\\n\"\n",
    "markdown_output += f\"| ---              | ---                  | -----      |\\n\"\n",
    "for member_type,profile in profile_list.items():\n",
    "    markdown_output += f\"| {member_type} | {profile} | {profile_ids[member_type]} |\\n\"\n",
    "    \n",
    "\n",
    "display(Markdown(markdown_output))"
   ]
  },
  {
   "cell_type": "code",
   "execution_count": 5,
   "id": "a7fc061f",
   "metadata": {},
   "outputs": [],
   "source": [
    "support_id = support.CreateSupportFixed()"
   ]
  },
  {
   "cell_type": "markdown",
   "id": "00bfc65b",
   "metadata": {},
   "source": [
    "### Specifications\n",
    "\n",
    "#### Releases"
   ]
  },
  {
   "cell_type": "code",
   "execution_count": 6,
   "id": "54a10547",
   "metadata": {},
   "outputs": [],
   "source": [
    "start_release_spec = property.CreateMemberReleaseSpec(0,set_DOFReleaseArray())\n",
    "end_release_spec = property.CreateMemberReleaseSpec(1,set_DOFReleaseArray())\n",
    "\n",
    "set_start_end_release = get_start_end_release_function(property=property,start_release_spec=start_release_spec,end_release_spec=end_release_spec)"
   ]
  },
  {
   "cell_type": "markdown",
   "id": "11a0aec8",
   "metadata": {},
   "source": [
    "#### Truss and Offset"
   ]
  },
  {
   "cell_type": "code",
   "execution_count": 7,
   "id": "59a2bd75",
   "metadata": {},
   "outputs": [],
   "source": [
    "truss_spec = property.CreateMemberTrussSpec()\n",
    "member_offset_spec = property.CreateMemberOffsetSpec(0,0,0,1,0)"
   ]
  },
  {
   "cell_type": "markdown",
   "id": "f16fe82c",
   "metadata": {},
   "source": [
    "### Primary Members"
   ]
  },
  {
   "cell_type": "code",
   "execution_count": 8,
   "id": "32e0aec2",
   "metadata": {},
   "outputs": [
    {
     "data": {
      "text/markdown": [
       "## Primary Members Created\n",
       "\n",
       "| Member Types     | IDs                  |\n",
       "| ---              | ---                  |\n",
       "| Portal Columns   | [6, 7, 15, 16, 24, 25, 33, 34, 42, 43, 51, 52, 60, 61]   |\n",
       "| Portal Pedestals | [8, 9, 17, 18, 26, 27, 35, 36, 44, 45, 53, 54, 62, 63] |\n",
       "| Portal Beams     | [1, 2, 3, 4, 5, 10, 11, 12, 13, 14, 19, 20, 21, 22, 23, 28, 29, 30, 31, 32, 37, 38, 39, 40, 41, 46, 47, 48, 49, 50, 55, 56, 57, 58, 59]     |\n",
       "| Long Beams       | [66, 69, 72, 73, 76, 79, 82, 83, 85, 87, 89, 90, 92, 94, 96, 97, 99, 101, 103, 104, 106, 108, 110, 111, 113, 115, 117, 118, 120, 122, 124, 125, 127, 129, 131, 132, 134, 136, 138, 139, 141, 143, 145, 146, 148, 150, 152, 153]       |\n",
       "| Support Nodes    | [13, 14, 27, 28, 41, 42, 55, 56, 69, 70, 83, 84, 97, 98]    |\n"
      ],
      "text/plain": [
       "<IPython.core.display.Markdown object>"
      ]
     },
     "metadata": {},
     "output_type": "display_data"
    }
   ],
   "source": [
    "portals = []\n",
    "longitudinal_beams = []\n",
    "stubs = []\n",
    "intermediate_transverse_beams = []\n",
    "intermediate_long_beams = []\n",
    "plan_braces = []\n",
    "vertical_braces = []\n",
    "\n",
    "portal_beam_ids = [] \n",
    "portal_column_ids = [] \n",
    "portal_pedestal_ids = [] \n",
    "support_node_ids = []\n",
    "long_beam_ids = [] \n",
    "stub_ids = []\n",
    "intermediate_transverse_ids = []\n",
    "intermediate_long_ids = []\n",
    "plan_brace_ids = []\n",
    "vertical_brace_ids = []\n",
    "\n",
    "portal_count = len(portal_distances)\n",
    "portal : PiperackPortal = PiperackPortal(base=base_point_of_first_portal) \n",
    "\n",
    "for column in column_distances:\n",
    "    support_point = Point3D(column,0,0)-Point3D(0,pedestal_height,0)\n",
    "    portal.add_pedestal(Column3D(base=support_point,height=pedestal_height))\n",
    "    portal.add_column(Column3D(base=Point3D(column,0,0),height=tier_elevations[-1])) \n",
    "    \n",
    "for tier in tier_elevations:\n",
    "    for column_i in range(len(column_distances)-1):\n",
    "        portal.add_beam(Beam3D(start=Point3D(column_distances[column_i],tier,0),end=Point3D(column_distances[column_i+1],tier,0))) \n",
    "\n",
    "portals = [portal.shift(Point3D(0,0,dist)) for dist in portal_distances]\n",
    "\n",
    "for portal_i in range(len(portals)-1):\n",
    "    for column in column_distances:\n",
    "        for long_beam in long_beam_elevations:\n",
    "            long_beam_x = Beam3D(start=Point3D(column,long_beam,portals[portal_i].base.z),end=Point3D(column,long_beam,portals[portal_i+1].base.z))\n",
    "            longitudinal_beams.append(long_beam_x)\n",
    "\n",
    "    \n",
    "for portal in portals:\n",
    "    portal_beam_ids = [*portal_beam_ids,*add_beams(portal.beams)]\n",
    "    portal_column_ids = [*portal_column_ids,*add_beams(portal.columns)]\n",
    "    portal_pedestal_ids = [*portal_pedestal_ids,*add_beams(portal.pedestals)]\n",
    "    \n",
    "    assign_profile(portal_beam_ids,profile_ids[PiperackMembers.TierBeams])\n",
    "    assign_profile(portal_column_ids,profile_ids[PiperackMembers.Columns])\n",
    "    assign_profile(portal_pedestal_ids,profile_ids[PiperackMembers.Pedestals])\n",
    "\n",
    "long_beam_ids = add_beams(longitudinal_beams)\n",
    "set_start_end_release(long_beam_ids)\n",
    "assign_profile(long_beam_ids,profile_list[PiperackMembers.LongitudinalBeams])\n",
    "\n",
    "for portal in portals:\n",
    "    for pedestal in portal.pedestals:\n",
    "        support_node_ids.append(add_support_node(geometry,support,pedestal.start,support_id))\n",
    "\n",
    "assign_specification(portal_pedestal_ids,member_offset_spec)\n",
    "        \n",
    "markdown_output = ''\n",
    "markdown_output = \"## Primary Members Created\\n\\n\"\n",
    "markdown_output += f\"| Member Types     | IDs                  |\\n\"\n",
    "markdown_output += f\"| ---              | ---                  |\\n\"\n",
    "markdown_output += f\"| Portal Columns   | {portal_column_ids}   |\\n\"\n",
    "markdown_output += f\"| Portal Pedestals | {portal_pedestal_ids} |\\n\"\n",
    "markdown_output += f\"| Portal Beams     | {portal_beam_ids}     |\\n\"\n",
    "markdown_output += f\"| Long Beams       | {long_beam_ids}       |\\n\"\n",
    "markdown_output += f\"| Support Nodes    | {support_node_ids}    |\\n\"\n",
    "\n",
    "display(Markdown(markdown_output))"
   ]
  },
  {
   "cell_type": "markdown",
   "id": "38b95ad3",
   "metadata": {},
   "source": [
    "### Secondary Members"
   ]
  },
  {
   "cell_type": "code",
   "execution_count": 9,
   "id": "78eb4c87",
   "metadata": {},
   "outputs": [
    {
     "data": {
      "text/markdown": [
       "## Secondary Members Created\n",
       "\n",
       "| Member Types | IDs | \n",
       "| --- | --- |\n",
       "| Stubs | [204, 207, 208, 209, 212, 215, 218, 221, 222, 223, 226, 229, 231, 233, 234, 235, 237, 239, 241, 243, 244, 245, 247, 249, 251, 253, 254, 255, 257, 259, 261, 263, 264, 265, 267, 269] |\n",
       "| Intermediate Trans Beams | [272, 275, 278, 281, 284, 287, 290, 293, 296, 299, 302, 305, 308, 311, 314, 317, 320, 323] |\n",
       "| Intermediate Long Beams | [326, 328, 330, 332, 334, 336, 339, 341, 343, 345, 347, 349, 352, 354, 356, 358, 360, 362, 365, 367, 369, 371, 373, 375, 378, 380, 382, 384, 386, 388] |\n",
       "| Plan Braces | [390, 391, 392, 393, 395, 396, 397, 398, 401, 402, 403, 404, 407, 408, 409, 410, 413, 414, 415, 416, 419, 420, 421, 422, 425, 426, 427, 428, 431, 432, 433, 434, 436, 437, 438, 439, 441, 442, 443, 444] |\n",
       "| Vertical Braces | [155, 156, 158, 159, 161, 162, 164, 165, 167, 168, 170, 171, 173, 174, 176, 177, 179, 180, 182, 183, 185, 186, 188, 189, 191, 192, 194, 195, 197, 198, 200, 201] |\n"
      ],
      "text/plain": [
       "<IPython.core.display.Markdown object>"
      ]
     },
     "metadata": {},
     "output_type": "display_data"
    }
   ],
   "source": [
    "long_beams_y = group_beams_by_y(longitudinal_beams)\n",
    "\n",
    "previous_y = None\n",
    "for y,group_y in long_beams_y.items():\n",
    "    base = portal.base.y if not previous_y else previous_y\n",
    "    long_beams_sorted = beams_sorted_yxz(group_y)\n",
    "\n",
    "    for beam_i in range(len(long_beams_sorted)-1):\n",
    "        portal_i = beam_i%(len(portals)-1)\n",
    "        if(braces_placement[portal_i]):\n",
    "            long_beam_i : Beam3D = long_beams_sorted[beam_i]\n",
    "\n",
    "            vb_1 = Beam3D(  start=Point3D(long_beam_i.start.x,\n",
    "                                        base,\n",
    "                                        long_beam_i.start.z),\n",
    "                            end=long_beam_i.mid())\n",
    "            vb_2 = Beam3D(  start=Point3D(long_beam_i.start.x,\n",
    "                                        base,\n",
    "                                        long_beam_i.end.z),\n",
    "                            end=long_beam_i.mid())\n",
    "            vertical_braces.append(vb_1)\n",
    "            vertical_braces.append(vb_2)\n",
    "    previous_y = y\n",
    "\n",
    "vertical_brace_ids = add_beams(vertical_braces)\n",
    "\n",
    "assign_specification(vertical_brace_ids,truss_spec)\n",
    "assign_profile(vertical_brace_ids,profile_ids[PiperackMembers.VerticalBracing])\n",
    "\n",
    "create_stub = lambda beamA,beamB : Beam3D(start=beamA.mid(),end=beamB.mid())\n",
    "\n",
    "for long_beam_i in range(len(longitudinal_beams)-1):\n",
    "    long_ii:Beam3D = longitudinal_beams[long_beam_i]\n",
    "    long_ij:Beam3D = longitudinal_beams[long_beam_i+1]\n",
    "    if(long_ii.start.eq_x(long_ij.start) and long_ii.end.eq_z(long_ij.end)):\n",
    "        stubs.append(create_stub(long_ii,long_ij))\n",
    "\n",
    "stubs = beams_sorted_yzx(stubs)\n",
    "\n",
    "for stub_i in range(0, len(stubs), 2):\n",
    "    if stub_i + 1 < len(stubs):  \n",
    "        stub1, stub2 = stubs[stub_i], stubs[stub_i + 1]\n",
    "        stub1_mid,stub2_mid = stub1.mid(),stub2.mid()\n",
    "        intermediate_transverse_beams.append(Beam3D(start=stub1_mid,end=stub2_mid)\\\n",
    "                                                .shift_to_y(closest_to(tier_elevations,stub1_mid.mid(stub2_mid).y)))\n",
    "\n",
    "stub_ids = add_beams(stubs)\n",
    "assign_profile(stub_ids,profile_list[PiperackMembers.Stubs])\n",
    "set_start_end_release(stub_ids)\n",
    "    \n",
    "intermediate_transverse_ids = add_beams(intermediate_transverse_beams)\n",
    "assign_profile(intermediate_transverse_ids,profile_list[PiperackMembers.IntermediateTransverseBeams])\n",
    "set_start_end_release(intermediate_transverse_ids)\n",
    "\n",
    "portal_beams_y = group_beams_by_y([beam for portal in portals for beam in portal.beams])\n",
    "for group_y in portal_beams_y.values():\n",
    "    sorted_beams = beams_sorted_yzx(group_y)\n",
    "    for beam_i in range(len(sorted_beams)-1):\n",
    "        beam1 : Beam3D = sorted_beams[beam_i]\n",
    "        beam2 : Beam3D = sorted_beams[beam_i+1]\n",
    "        intermediate_long_beams.append(Beam3D(start=beam1.mid(),end=beam2.mid()))\n",
    "\n",
    "        if(braces_placement[beam_i]):\n",
    "            mid_pt = beam1.start.mid(beam2.end)\n",
    "            for pt_x in [beam1.start,beam1.end,beam2.start,beam2.end]:\n",
    "                plan_braces.append(Beam3D(start=pt_x,end=mid_pt))\n",
    "\n",
    "\n",
    "intermediate_long_ids = add_beams(intermediate_long_beams)\n",
    "assign_profile(intermediate_long_ids,profile_list[PiperackMembers.IntermediateLongitudinalBeams])\n",
    "set_start_end_release(intermediate_long_ids)\n",
    "\n",
    "plan_brace_ids = add_beams(plan_braces)\n",
    "assign_specification(plan_brace_ids,truss_spec)\n",
    "assign_profile(plan_brace_ids,profile_ids[PiperackMembers.PlanBracing])\n",
    "    \n",
    "\n",
    "markdown_output = ''\n",
    "markdown_output = \"## Secondary Members Created\\n\\n\"\n",
    "markdown_output += \"| Member Types | IDs | \\n\"\n",
    "markdown_output += \"| --- | --- |\\n\"\n",
    "markdown_output += f\"| Stubs | {stub_ids} |\\n\"\n",
    "markdown_output += f\"| Intermediate Trans Beams | {intermediate_transverse_ids} |\\n\"\n",
    "markdown_output += f\"| Intermediate Long Beams | {intermediate_long_ids} |\\n\"\n",
    "markdown_output += f\"| Plan Braces | {plan_brace_ids} |\\n\"\n",
    "markdown_output += f\"| Vertical Braces | {vertical_brace_ids} |\\n\"\n",
    "\n",
    "display(Markdown(markdown_output))"
   ]
  },
  {
   "cell_type": "markdown",
   "id": "b904ca57",
   "metadata": {},
   "source": [
    "## Selector\n",
    "\n",
    "### Portal Beams"
   ]
  },
  {
   "cell_type": "code",
   "execution_count": 10,
   "id": "b8f07dbb",
   "metadata": {},
   "outputs": [],
   "source": [
    "nodes = get_node_incidences(geometry=geometry)\n",
    "beam_objects:dict = get_beam_objects(geometry=geometry,property=None)\n",
    "beam_nos:list = list(beam_objects.keys())"
   ]
  }
 ],
 "metadata": {
  "kernelspec": {
   "display_name": ".venv",
   "language": "python",
   "name": "python3"
  },
  "language_info": {
   "codemirror_mode": {
    "name": "ipython",
    "version": 3
   },
   "file_extension": ".py",
   "mimetype": "text/x-python",
   "name": "python",
   "nbconvert_exporter": "python",
   "pygments_lexer": "ipython3",
   "version": "3.13.2"
  }
 },
 "nbformat": 4,
 "nbformat_minor": 5
}
