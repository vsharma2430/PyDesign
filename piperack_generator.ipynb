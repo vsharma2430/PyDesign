{
 "cells": [
  {
   "cell_type": "markdown",
   "id": "14efdbc5",
   "metadata": {},
   "source": [
    "# Piperack Generator 1.0\n",
    "\n",
    "This notebook generates a piperack structure based on user-defined inputs and applies relevant loads and design parameters for analysis in STAAD.\n",
    "\n",
    "## Workflow\n",
    "\n",
    "1. **Configure Inputs**  \n",
    "   Edit the following input sections in this notebook:  \n",
    "   - **Basic Structure**: Define the overall geometry and layout.  \n",
    "   - **Tiers**: Specify tier configurations and elevations.  \n",
    "   - **Flares, Ducts, and Walkways**: Include additional components as needed.  \n",
    "   - **Foundation**: Set foundation parameters.  \n",
    "   - **Profiles**: Use STAAD-compatible profile names for members.  \n",
    "   - **Supports and Specifications**: Define support conditions and other specifications.  \n",
    "\n",
    "2. **Generate Piperack**  \n",
    "   Run the generator to create the piperack model based on the provided inputs.\n",
    "\n",
    "3. **Correct Self-Weight**  \n",
    "   Correct self-weight to members (steel and concrete) using the Member Selector.\n",
    "\n",
    "4. **Apply Loads**  \n",
    "   - Assign seismic loads as per design requirements.\n",
    "\n",
    "5. **Set Design Parameters** (via STAAD Helper and Parameter Selector)  \n",
    "   - **Parameters 1 and 3**: Apply to main members.  \n",
    "   - **Parameters 2 and 4**: Apply to local members.\n",
    "\n",
    "6. **Optimize Design**  \n",
    "   Use the Design Optimiser to assign appropriate sections to the structure.\n",
    "\n",
    "---\n",
    "\n",
    "**Note**: Ensure all inputs align with STAAD conventions for accurate analysis and design."
   ]
  },
  {
   "cell_type": "markdown",
   "id": "7abeb858",
   "metadata": {},
   "source": [
    "## Module imports and connection to STAAD"
   ]
  },
  {
   "cell_type": "code",
   "execution_count": 1,
   "id": "8c048019",
   "metadata": {},
   "outputs": [],
   "source": [
    "from collections import defaultdict\n",
    "import pyperclip\n",
    "from IPython.display import display, Markdown\n",
    "from base.helper.general import *\n",
    "from base.geometry_base.line import *\n",
    "from base.geometry_base.rectangle import *\n",
    "from base.staad_base.geometry import *\n",
    "from base.structural_elements.beam import *\n",
    "from base.structural_elements.column import *\n",
    "from base.structural_elements.brace import *\n",
    "from base.piperack.portal import *\n",
    "from base.piperack.piperack import *\n",
    "from base.piperack.tier import *\n",
    "from base.load.nodal_load import *\n",
    "from base.load.uniform_load import *\n",
    "from base.staad_base.design import *\n",
    "from base.staad_base.property import *\n",
    "from output.md_output import *\n",
    "from base.staad_base.optimise_member import *\n",
    "from base.insturmentation_elements.duct import *\n",
    "from base.structural_elements.walkway import *\n",
    "from base.piping_elements.flare import *\n",
    "from base.structural_elements.tree_support import *\n",
    "\n",
    "openSTAAD,STAAD_objects = get_openSTAAD()\n",
    "\n",
    "geometry = STAAD_objects.geometry\n",
    "property = STAAD_objects.property\n",
    "output = STAAD_objects.output\n",
    "support = STAAD_objects.support\n",
    "load = STAAD_objects.load\n",
    "\n",
    "add_beams = add_beams_fn(geometry=geometry)\n",
    "select_beams = select_beams_fn(geometry=geometry)\n",
    "assign_profile = assign_profile(property=property)\n",
    "assign_specification = assign_specification(property=property)"
   ]
  },
  {
   "cell_type": "markdown",
   "id": "24ca63d2",
   "metadata": {},
   "source": [
    "## Piperack Inputs\n",
    "\n",
    "### Portal and Structure"
   ]
  },
  {
   "cell_type": "code",
   "execution_count": 2,
   "id": "ece92229",
   "metadata": {},
   "outputs": [],
   "source": [
    "base_point_of_first_portal : Point3D = Point3D(0,0,0)\n",
    "width_of_piperack = 8\n",
    "portal_distances = [0,8,16,24,32,40,48]\n",
    "column_distances = [0,width_of_piperack]\n",
    "braces_placement = [False,True,False,False,True,False]\n",
    "brace_pattern = BracePattern.X_Pattern\n",
    "bracket_size = 2\n",
    "max_expansion_bay_length = 8"
   ]
  },
  {
   "cell_type": "code",
   "execution_count": 3,
   "id": "953dd60b",
   "metadata": {},
   "outputs": [],
   "source": [
    "uniform_operating_load = UniformLoad(load_case=LoadCase.OperatingLoad)\n",
    "uniform_empty_load = UniformLoad(load_case=LoadCase.EmptyLoad)\n",
    "\n",
    "uniform_tg_gx = UniformLoad(load_case=LoadCase.ThermalGravity_GX,direction=MemberDirection.GX)\n",
    "uniform_tg_gz = UniformLoad(load_case=LoadCase.ThermalGravity_GZ,direction=MemberDirection.GZ)\n",
    "uniform_tl_gx = UniformLoad(load_case=LoadCase.ThermalLateral_GX,direction=MemberDirection.GX)\n",
    "uniform_tl_gz = UniformLoad(load_case=LoadCase.ThermalLateral_GZ,direction=MemberDirection.GZ)\n",
    "\n",
    "uniform_clt_gy = UniformLoad(load_case=LoadCase.ContigencyLoadTransverse,direction=MemberDirection.GY)\n",
    "uniform_clt_gz = UniformLoad(load_case=LoadCase.ContigencyLoadTransverse,direction=MemberDirection.GZ)\n",
    "\n",
    "conc_operating_load = ConcentratedLoad(load_case=LoadCase.OperatingLoad)\n",
    "conc_empty_load = ConcentratedLoad(load_case=LoadCase.EmptyLoad)\n",
    "\n",
    "conc_tg_gx = ConcentratedLoad(load_case=LoadCase.ThermalGravity_GX,direction=MemberDirection.GX)\n",
    "conc_tg_gz = ConcentratedLoad(load_case=LoadCase.ThermalGravity_GZ,direction=MemberDirection.GZ)\n",
    "conc_tl_gx = ConcentratedLoad(load_case=LoadCase.ThermalLateral_GX,direction=MemberDirection.GX)\n",
    "conc_tl_gz = ConcentratedLoad(load_case=LoadCase.ThermalLateral_GZ,direction=MemberDirection.GZ)\n",
    "\n",
    "# Tier wind loads to be implemented\n",
    "wl_gx = NodalLoad(load_case=LoadCase.WindTier_GX)\n",
    "wl_gx_o = NodalLoad(load_case=LoadCase.WindTier_GX_Opposite)"
   ]
  },
  {
   "cell_type": "markdown",
   "id": "3df3774b",
   "metadata": {},
   "source": [
    "#### Tiers\n",
    "\n",
    "##### Piping Tiers"
   ]
  },
  {
   "cell_type": "code",
   "execution_count": 4,
   "id": "c66a1a9f",
   "metadata": {},
   "outputs": [
    {
     "data": {
      "text/markdown": [
       "# Tier List\n",
       "\n",
       "| Tier Number | Elevation (y) | Load Type |\n",
       "|-------------|---------------|-----------|\n",
       "| Tier 1 | 3 | UniformLoad(direction=GY, force=-0.4, d1=0, d2=0, d3=0, load_case=OperatingLoad), UniformLoad(direction=GY, force=-0.16000000000000003, d1=0, d2=0, d3=0, load_case=EmptyLoad), UniformLoad(direction=GX, force=0.010000000000000002, d1=0, d2=0, d3=0, load_case=ThermalGravity_GX), UniformLoad(direction=GZ, force=0.05, d1=0, d2=0, d3=0, load_case=ThermalGravity_GZ), UniformLoad(direction=GX, force=0.020000000000000004, d1=0, d2=0, d3=0, load_case=ThermalLateral_GX), UniformLoad(direction=GZ, force=0.020000000000000004, d1=0, d2=0, d3=0, load_case=ThermalLateral_GZ) |\n",
       "| Tier 2 | 6 | UniformLoad(direction=GY, force=-0.4, d1=0, d2=0, d3=0, load_case=OperatingLoad), UniformLoad(direction=GY, force=-0.16000000000000003, d1=0, d2=0, d3=0, load_case=EmptyLoad), UniformLoad(direction=GX, force=0.010000000000000002, d1=0, d2=0, d3=0, load_case=ThermalGravity_GX), UniformLoad(direction=GZ, force=0.05, d1=0, d2=0, d3=0, load_case=ThermalGravity_GZ), UniformLoad(direction=GX, force=0.020000000000000004, d1=0, d2=0, d3=0, load_case=ThermalLateral_GX), UniformLoad(direction=GZ, force=0.020000000000000004, d1=0, d2=0, d3=0, load_case=ThermalLateral_GZ) |\n",
       "| Tier 3 | 9.5 | UniformLoad(direction=GY, force=-0.35, d1=0, d2=0, d3=0, load_case=OperatingLoad), UniformLoad(direction=GY, force=-0.13999999999999999, d1=0, d2=0, d3=0, load_case=EmptyLoad), UniformLoad(direction=GX, force=0.008749999999999999, d1=0, d2=0, d3=0, load_case=ThermalGravity_GX), UniformLoad(direction=GZ, force=0.04375, d1=0, d2=0, d3=0, load_case=ThermalGravity_GZ), UniformLoad(direction=GX, force=0.017499999999999998, d1=0, d2=0, d3=0, load_case=ThermalLateral_GX), UniformLoad(direction=GZ, force=0.017499999999999998, d1=0, d2=0, d3=0, load_case=ThermalLateral_GZ) |\n",
       "| Tier 4 | 12 | UniformLoad(direction=GY, force=-0.3, d1=0, d2=0, d3=0, load_case=OperatingLoad), UniformLoad(direction=GY, force=-0.12, d1=0, d2=0, d3=0, load_case=EmptyLoad), UniformLoad(direction=GX, force=0.0075, d1=0, d2=0, d3=0, load_case=ThermalGravity_GX), UniformLoad(direction=GZ, force=0.0375, d1=0, d2=0, d3=0, load_case=ThermalGravity_GZ), UniformLoad(direction=GX, force=0.015, d1=0, d2=0, d3=0, load_case=ThermalLateral_GX), UniformLoad(direction=GZ, force=0.015, d1=0, d2=0, d3=0, load_case=ThermalLateral_GZ) |\n",
       "| Tier 5 | 14.5 | None |\n",
       "| Tier 6 | 17.5 | None |\n"
      ],
      "text/plain": [
       "<IPython.core.display.Markdown object>"
      ]
     },
     "metadata": {},
     "output_type": "display_data"
    }
   ],
   "source": [
    "\n",
    "tiers = [\n",
    "    Tier(base=base_point_of_first_portal.shift_y(3),\n",
    "         loads=[uniform_operating_load.set_force_value(-0.4)],\n",
    "         wind_loads = [wl_gx.set_fx(1.42),wl_gx_o.set_fx(-1.42)],\n",
    "         ).set_intermediate_transverse_beam(False),\n",
    "\n",
    "    Tier(base=base_point_of_first_portal.shift_y(6),\n",
    "         loads=[uniform_operating_load.set_force_value(-0.4)],\n",
    "         wind_loads = [wl_gx.set_fx(1.316),wl_gx_o.set_fx(-1.316)],\n",
    "         ).set_intermediate_transverse_beam(False),\n",
    "\n",
    "    Tier(base=base_point_of_first_portal.shift_y(9.5),\n",
    "         loads=[uniform_operating_load.set_force_value(-0.35)],\n",
    "         wind_loads = [wl_gx.set_fx(1.014),wl_gx_o.set_fx(-1.014)]\n",
    "         ).set_bracket_provision(True),\n",
    "\n",
    "    Tier(base=base_point_of_first_portal.shift_y(12),\n",
    "         loads=[uniform_operating_load.set_force_value(-0.3)],\n",
    "         wind_loads = [wl_gx.set_fx(1.118),wl_gx_o.set_fx(-1.118)]\n",
    "         ).set_bracket_provision(True),\n",
    "\n",
    "    Tier(base=base_point_of_first_portal.shift_y(14.5),\n",
    "         tier_type= TierType.ElectricalIntrumentation,\n",
    "         wind_loads = [wl_gx.set_fx(1.635),wl_gx_o.set_fx(-1.635)]\n",
    "         ).set_intermediate_transverse_beam(False),\n",
    "\n",
    "    Tier(base=base_point_of_first_portal.shift_y(17.5),\n",
    "         tier_type= TierType.Flare,\n",
    "         wind_loads = [wl_gx.set_fx(2.549),wl_gx_o.set_fx(-2.549)]\n",
    "         ).set_intermediate_transverse_beam(False),\n",
    "]\n",
    "\n",
    "tiers = sorted(tiers,key = lambda tier_x : tier_x.base.y)\n",
    "\n",
    "for tier_x in tiers:\n",
    "    if(tier_x.loads):\n",
    "        tier_op_load_x = tier_x.loads[0]\n",
    "        if(tier_op_load_x):\n",
    "            tier_x.add_load(uniform_empty_load.set_force_value(tier_op_load_x.force_value*0.4))\n",
    "            tier_x.add_load(uniform_tg_gx.set_force_value(tier_op_load_x.force_value*(-0.025)))\n",
    "            tier_x.add_load(uniform_tg_gz.set_force_value(tier_op_load_x.force_value*(-0.125)))\n",
    "            tier_x.add_load(uniform_tl_gx.set_force_value(tier_op_load_x.force_value*(-0.05)))\n",
    "            tier_x.add_load(uniform_tl_gz.set_force_value(tier_op_load_x.force_value*(-0.05)))\n",
    "\n",
    "for tier_x in tiers:\n",
    "    if(tier_x.loads):\n",
    "        tier_op_load_x = tier_x.loads[0]\n",
    "        if(tier_op_load_x):\n",
    "            tier_x.add_clt_load(uniform_clt_gy.set_force_value(tier_op_load_x.force_value*0.4))\n",
    "            tier_x.add_clt_load(uniform_clt_gz.set_force_value(tier_op_load_x.force_value*(-1*0.04)))\n",
    "            \n",
    "tier_elevations = [tier.base.y for tier in tiers]\n",
    "tier_dict = { tier.base.y : tier for tier in tiers }\n",
    "\n",
    "display(Markdown(create_tiers_markdown_table(tiers)))"
   ]
  },
  {
   "cell_type": "markdown",
   "id": "b9ef49b9",
   "metadata": {},
   "source": [
    "##### E&I And Flare Details"
   ]
  },
  {
   "cell_type": "code",
   "execution_count": 5,
   "id": "636cc6e1",
   "metadata": {},
   "outputs": [],
   "source": [
    "flares = [\n",
    "    Flare(lines=[Line3D(Point3D(2.5,17.5,portal_distances[0]),Point3D(2.5,17.5,portal_distances[-1]))],support_member=True,design_load=3),\n",
    "    Flare(lines=[Line3D(Point3D(5,17.5,portal_distances[0]),Point3D(5,17.5,portal_distances[-1]))],support_member=False,design_load=0.35),\n",
    "    Flare(lines=[Line3D(Point3D(6,17.5,portal_distances[0]),Point3D(6,17.5,portal_distances[-1]))],support_member=False,design_load=0.3),\n",
    "]\n",
    "\n",
    "walkways = [\n",
    "    SteelWalkway(edge_line=Line3D(Point3D(1,14.5,portal_distances[0]),Point3D(1,14.5,portal_distances[-1]))),\n",
    "    SteelWalkway(edge_line=Line3D(Point3D(4.5,14.5,portal_distances[0]),Point3D(4.5,14.5,portal_distances[-1]))),\n",
    "]\n",
    "\n",
    "ducts = [\n",
    "    InstrumentationDuct(width=1.2,height=0.4,edge_line=Line3D(Point3D(6,14.5,portal_distances[0]),Point3D(6,14.5,portal_distances[-1])))\n",
    "]\n",
    "\n",
    "electric_trees = [\n",
    "    TreeSupportMember(line=Line3D(Point3D(3,14.5,portal_distances[0]),Point3D(3,14.5,portal_distances[-1])),)\n",
    "]\n",
    "\n",
    "ww_support_members = [line for ww_x in walkways for line in ww_x.get_member_lines()]\n",
    "flare_support_members = [line for flare in flares if flare.support_member for line in flare.lines]\n",
    "duct_support_members = [line for duct_x in ducts for line in duct_x.get_member_lines()]\n",
    "tree_support_members = [et.line for et in electric_trees if et.support_member]"
   ]
  },
  {
   "cell_type": "markdown",
   "id": "b16113cd",
   "metadata": {},
   "source": [
    "#### Longitudinal Beam Elevations\n"
   ]
  },
  {
   "cell_type": "code",
   "execution_count": 6,
   "id": "cb31bd61",
   "metadata": {},
   "outputs": [
    {
     "data": {
      "text/plain": [
       "[4.5, 7.75, 10.75, 13.25, 16.0, 17.5]"
      ]
     },
     "metadata": {},
     "output_type": "display_data"
    }
   ],
   "source": [
    "long_beam_elevations = [*[tiers[tier_i].base.mid(tiers[tier_i+1].base).y for tier_i in range(len(tiers)-1)],tier_elevations[-1]]\n",
    "\n",
    "display(long_beam_elevations)"
   ]
  },
  {
   "cell_type": "markdown",
   "id": "7a4d76cc",
   "metadata": {},
   "source": [
    "### Foundation"
   ]
  },
  {
   "cell_type": "code",
   "execution_count": 7,
   "id": "ff469aec",
   "metadata": {},
   "outputs": [],
   "source": [
    "pedestal_height = 2\n",
    "foundation_depth = 1"
   ]
  },
  {
   "cell_type": "markdown",
   "id": "5a6efc58",
   "metadata": {},
   "source": [
    "## Structural Inputs\n",
    "### Materials"
   ]
  },
  {
   "cell_type": "code",
   "execution_count": 8,
   "id": "b0783145",
   "metadata": {},
   "outputs": [],
   "source": [
    "assign_material_steel = assign_material(property)('STEEL')\n",
    "assign_material_concrete = assign_material(property)('CONCRETE')"
   ]
  },
  {
   "cell_type": "markdown",
   "id": "5b87d128",
   "metadata": {},
   "source": [
    "### Profiles"
   ]
  },
  {
   "cell_type": "code",
   "execution_count": 9,
   "id": "92ab81d6",
   "metadata": {},
   "outputs": [
    {
     "data": {
      "text/markdown": [
       "## Profile List\n",
       "\n",
       "| Member Type | Profile | Profile ID |\n",
       "|-------------|---------|------------|\n",
       "| 2 | Rectangle : length = 1.2 and width = 0.8 | 1 |\n",
       "| 1 | WPB700X300X240.51 | 2 |\n",
       "| 0 | WPB600X300X128.79 | 3 |\n",
       "| 3 | WPB250X250X73.14 | 4 |\n",
       "| 5 | 100X100X6.0SHS | 6 |\n",
       "| 4 | 150X150X8.0SHS | 7 |\n",
       "| 6 | ISMB300 | 5 |\n",
       "| 7 | ISMB300 | 5 |\n",
       "| 8 | ISMB300 | 5 |\n",
       "| 9 | WPB700X300X240.51 | 2 |\n",
       "| 11 | ISMC400 | 12 |\n",
       "| 10 | ISMC250 | 13 |\n",
       "| 12 | ISMC200 | 14 |\n",
       "| 13 | ISMB400 | 8 |\n",
       "| 14 | 100X100X6.0SHS | 6 |\n"
      ],
      "text/plain": [
       "<IPython.core.display.Markdown object>"
      ]
     },
     "metadata": {},
     "output_type": "display_data"
    }
   ],
   "source": [
    "concrete_profile_list = {\n",
    "    PiperackMembers.Pedestals : Rectangle(1.2,0.8)\n",
    "}\n",
    "\n",
    "steel_profile_list = {\n",
    "    PiperackMembers.Columns : 'WPB700X300X240.51',\n",
    "    PiperackMembers.TierBeams : 'WPB600X300X128.79',\n",
    "    PiperackMembers.LongitudinalBeams : 'WPB250X250X73.14',\n",
    "    PiperackMembers.PlanBracing : '100X100X6.0SHS',\n",
    "    PiperackMembers.VerticalBracing : '150X150X8.0SHS',\n",
    "    PiperackMembers.Stubs : 'ISMB300',\n",
    "    PiperackMembers.IntermediateTransverseBeams : 'ISMB300',\n",
    "    PiperackMembers.IntermediateLongitudinalBeams : 'ISMB300',\n",
    "    PiperackMembers.FlareSupportMembers : 'WPB700X300X240.51',\n",
    "    PiperackMembers.TreeSupportMembers : 'ISMC400',\n",
    "    PiperackMembers.DuctSupportMembers : 'ISMC250',\n",
    "    PiperackMembers.WWSupportMembers : 'ISMC200',\n",
    "    PiperackMembers.BracketBeams : 'ISMB400',\n",
    "    PiperackMembers.BracketBraces : '100X100X6.0SHS',\n",
    "}\n",
    "\n",
    "profile_ids = {}\n",
    "\n",
    "for member_type,profile in concrete_profile_list.items():\n",
    "    if ((isinstance(profile, str) and profile.isdigit()) or isinstance(profile, (int, float))):\n",
    "        profile_ids[member_type] = int(profile)\n",
    "    else:\n",
    "        profile_ids[member_type] = create_concrete_beam_property(property,profile)\n",
    "\n",
    "for member_type,profile in steel_profile_list.items():\n",
    "    if ((isinstance(profile, str) and profile.isdigit()) or isinstance(profile, (int, float))):\n",
    "        profile_ids[member_type] = int(profile)\n",
    "    else:\n",
    "        if('SHS' in profile):\n",
    "            profile_ids[member_type] = create_steel_beam_property(property,35,profile,0,0,0)\n",
    "        else:\n",
    "            profile_ids[member_type] = create_steel_beam_property(property,10,profile,0,0,0)\n",
    "        \n",
    "display(Markdown(create_profile_markdown_table(concrete_profile_list, steel_profile_list, profile_ids)))"
   ]
  },
  {
   "cell_type": "markdown",
   "id": "74add01a",
   "metadata": {},
   "source": [
    "### Supports"
   ]
  },
  {
   "cell_type": "code",
   "execution_count": 10,
   "id": "a7fc061f",
   "metadata": {},
   "outputs": [],
   "source": [
    "support_id = support.CreateSupportFixed()"
   ]
  },
  {
   "cell_type": "markdown",
   "id": "00bfc65b",
   "metadata": {},
   "source": [
    "### Specifications\n",
    "\n",
    "#### Member Releases"
   ]
  },
  {
   "cell_type": "code",
   "execution_count": 11,
   "id": "54a10547",
   "metadata": {},
   "outputs": [],
   "source": [
    "start_release_spec = property.CreateMemberReleaseSpec(0,set_DOFReleaseArray())\n",
    "end_release_spec = property.CreateMemberReleaseSpec(1,set_DOFReleaseArray())\n",
    "set_start_end_release = get_start_end_release_function(property=property,start_release_spec=start_release_spec,end_release_spec=end_release_spec)"
   ]
  },
  {
   "cell_type": "markdown",
   "id": "11a0aec8",
   "metadata": {},
   "source": [
    "#### Truss and Offset"
   ]
  },
  {
   "cell_type": "code",
   "execution_count": 12,
   "id": "59a2bd75",
   "metadata": {},
   "outputs": [
    {
     "data": {
      "text/markdown": [
       "## Member Specifications Created\n",
       "\n",
       "| Specification Type | Details |\n",
       "|-------------------|---------|\n",
       "| Start Release | 1 |\n",
       "| End Release | 2 |\n",
       "| Truss | 3 |\n",
       "| Offset Member | 0 |\n"
      ],
      "text/plain": [
       "<IPython.core.display.Markdown object>"
      ]
     },
     "metadata": {},
     "output_type": "display_data"
    }
   ],
   "source": [
    "foundation_depth = 1\n",
    "truss_spec = property.CreateMemberTrussSpec()\n",
    "member_offset_spec = property.CreateMemberOffsetSpec(0,0,0,foundation_depth,0)\n",
    "\n",
    "display(Markdown(create_spec_markdown_table(start_release_spec,end_release_spec,truss_spec,member_offset_spec)))"
   ]
  },
  {
   "cell_type": "markdown",
   "id": "f16fe82c",
   "metadata": {},
   "source": [
    "## Member Creation\n",
    "\n",
    "### Primary Members"
   ]
  },
  {
   "cell_type": "code",
   "execution_count": 13,
   "id": "b5558279",
   "metadata": {},
   "outputs": [],
   "source": [
    "#portals \n",
    "longitudinal_beams = []\n",
    "stubs = []\n",
    "intermediate_transverse_beams = []\n",
    "intermediate_long_beams = []\n",
    "plan_braces = []\n",
    "vertical_braces = []\n",
    "portal_beam_ids = [] \n",
    "portal_column_ids = [] \n",
    "portal_pedestal_ids = [] \n",
    "support_node_ids = []\n",
    "long_beam_ids = [] \n",
    "stub_ids = []\n",
    "intermediate_transverse_ids = []\n",
    "intermediate_long_ids = []\n",
    "plan_brace_ids = []\n",
    "vertical_brace_ids = []\n",
    "portal_count = len(portal_distances)\n",
    "\n",
    "# Create first portal\n",
    "portal : PiperackPortal = PiperackPortal(base=base_point_of_first_portal) \n",
    "\n",
    "for z_column in column_distances:\n",
    "    support_point = Point3D(z_column,0,0)-Point3D(0,pedestal_height,0)\n",
    "    portal.add_pedestal(Column3D(base=support_point,height=pedestal_height))\n",
    "    portal.add_column(Column3D(base=Point3D(z_column,0,0),height=tier_elevations[-1])) \n",
    "    \n",
    "for tier_x in tier_elevations:\n",
    "    for column_x in range(len(column_distances)-1):\n",
    "        portal.add_beam(Beam3D(start=Point3D(column_distances[column_x],tier_x,0),end=Point3D(column_distances[column_x+1],tier_x,0))) \n",
    "\n",
    "# Create all portals by shifting the first portal\n",
    "portals = [portal.shift(Point3D(0,0,dist)) for dist in portal_distances]\n",
    "\n",
    "# Create longitudinal beams between portals\n",
    "for portal_i in range(len(portals)-1):\n",
    "    for z_column in column_distances:\n",
    "        for long_beam in long_beam_elevations:\n",
    "            long_beam_x = Beam3D(start=Point3D(z_column,long_beam,portals[portal_i].base.z),end=Point3D(z_column,long_beam,portals[portal_i+1].base.z))\n",
    "            longitudinal_beams.append(long_beam_x)\n"
   ]
  },
  {
   "cell_type": "code",
   "execution_count": 14,
   "id": "32e0aec2",
   "metadata": {},
   "outputs": [
    {
     "data": {
      "text/markdown": [
       "## Primary Members Created\n",
       "\n",
       "| Member Types     | IDs                  | Profile Assignment     | Release Assignment     | Notes |\n",
       "| ---              | ---                  | ---                    | ---                    | ---   |\n",
       "| Portal Columns   | [7, 8, 17, 18, 27, 28, 37, 38, 47, 48, 57, 58, 67, 68]  | [True, True, True, True, True, True, True, True, True, True, True, True, True, True] | -                      | Vertical support members |\n",
       "| Portal Pedestals | [9, 10, 19, 20, 29, 30, 39, 40, 49, 50, 59, 60, 69, 70]| [True, True, True, True, True, True, True, True, True, True, True, True, True, True]| -                     | Foundation connections |\n",
       "| Portal Beams     | [1, 2, 3, 4, 5, 6, 11, 12, 13, 14, 15, 16, 21, 22, 23, 24, 25, 26, 31, 32, 33, 34, 35, 36, 41, 42, 43, 44, 45, 46, 51, 52, 53, 54, 55, 56, 61, 62, 63, 64, 65, 66]    | [True, True, True, True, True, True, True, True, True, True, True, True, True, True, True, True, True, True, True, True, True, True, True, True, True, True, True, True, True, True, True, True, True, True, True, True, True, True, True, True, True, True]   | -                      | Transverse tier beams |\n",
       "| Long Beams       | [73, 76, 79, 82, 85, 86, 89, 92, 95, 98, 101, 102, 104, 106, 108, 110, 112, 113, 115, 117, 119, 121, 123, 124, 126, 128, 130, 132, 134, 135, 137, 139, 141, 143, 145, 146, 148, 150, 152, 154, 156, 157, 159, 161, 163, 165, 167, 168, 170, 172, 174, 176, 178, 179, 181, 183, 185, 187, 189, 190, 192, 194, 196, 198, 200, 201, 203, 205, 207, 209, 211, 212]      | [True, True, True, True, True, True, True, True, True, True, True, True, True, True, True, True, True, True, True, True, True, True, True, True, True, True, True, True, True, True, True, True, True, True, True, True, True, True, True, True, True, True, True, True, True, True, True, True, True, True, True, True, True, True, True, True, True, True, True, True, True, True, True, True, True, True, True, True, True, True, True, True]          | [(True, True), (True, True), (True, True), (True, True), (True, True), (True, True), (True, True), (True, True), (True, True), (True, True), (True, True), (True, True), (True, True), (True, True), (True, True), (True, True), (True, True), (True, True), (True, True), (True, True), (True, True), (True, True), (True, True), (True, True), (True, True), (True, True), (True, True), (True, True), (True, True), (True, True), (True, True), (True, True), (True, True), (True, True), (True, True), (True, True), (True, True), (True, True), (True, True), (True, True), (True, True), (True, True), (True, True), (True, True), (True, True), (True, True), (True, True), (True, True), (True, True), (True, True), (True, True), (True, True), (True, True), (True, True), (True, True), (True, True), (True, True), (True, True), (True, True), (True, True), (True, True), (True, True), (True, True), (True, True), (True, True), (True, True), (True, True), (True, True), (True, True), (True, True), (True, True), (True, True)]         | Longitudinal beams between portals |\n",
       "| Support Nodes    | [15, 16, 31, 32, 47, 48, 63, 64, 79, 80, 95, 96, 111, 112]   | -                      | -                      | Foundation support points |\n"
      ],
      "text/plain": [
       "<IPython.core.display.Markdown object>"
      ]
     },
     "metadata": {},
     "output_type": "display_data"
    }
   ],
   "source": [
    "# Add portal members to model and collect IDs\n",
    "for portal in portals:\n",
    "    portal_beam_ids = [*portal_beam_ids,*add_beams(portal.beams)]\n",
    "    portal_column_ids = [*portal_column_ids,*add_beams(portal.columns)]\n",
    "    portal_pedestal_ids = [*portal_pedestal_ids,*add_beams(portal.pedestals)]\n",
    "\n",
    "# Assign profiles to portal members\n",
    "portal_beam_assign = assign_profile(portal_beam_ids,profile_ids[PiperackMembers.TierBeams])\n",
    "portal_column_assign = assign_profile(portal_column_ids,profile_ids[PiperackMembers.Columns])\n",
    "portal_pedestal_assign = assign_profile(portal_pedestal_ids,profile_ids[PiperackMembers.Pedestals])\n",
    "\n",
    "# Add longitudinal beams and assign properties\n",
    "long_beam_ids = add_beams(longitudinal_beams)\n",
    "long_release = set_start_end_release(long_beam_ids)\n",
    "long_assign = assign_profile(long_beam_ids,profile_ids[PiperackMembers.LongitudinalBeams])\n",
    "\n",
    "# Add support nodes\n",
    "for portal in portals:\n",
    "    for pedestal in portal.pedestals:\n",
    "        support_node_ids.append(add_support_node(geometry,support,pedestal.start,support_id))\n",
    "\n",
    "# Assign specifications\n",
    "assign_specification(portal_pedestal_ids,member_offset_spec)\n",
    "\n",
    "# Create comprehensive markdown table\n",
    "markdown_output = \"## Primary Members Created\\n\\n\"\n",
    "markdown_output += \"| Member Types     | IDs                  | Profile Assignment     | Release Assignment     | Notes |\\n\"\n",
    "markdown_output += \"| ---              | ---                  | ---                    | ---                    | ---   |\\n\"\n",
    "markdown_output += f\"| Portal Columns   | {portal_column_ids}  | {portal_column_assign} | -                      | Vertical support members |\\n\"\n",
    "markdown_output += f\"| Portal Pedestals | {portal_pedestal_ids}| {portal_pedestal_assign}| -                     | Foundation connections |\\n\"\n",
    "markdown_output += f\"| Portal Beams     | {portal_beam_ids}    | {portal_beam_assign}   | -                      | Transverse tier beams |\\n\"\n",
    "markdown_output += f\"| Long Beams       | {long_beam_ids}      | {long_assign}          | {long_release}         | Longitudinal beams between portals |\\n\"\n",
    "markdown_output += f\"| Support Nodes    | {support_node_ids}   | -                      | -                      | Foundation support points |\\n\"\n",
    "\n",
    "display(Markdown(markdown_output))"
   ]
  },
  {
   "cell_type": "markdown",
   "id": "38b95ad3",
   "metadata": {},
   "source": [
    "### Secondary Members"
   ]
  },
  {
   "cell_type": "code",
   "execution_count": 15,
   "id": "78eb4c87",
   "metadata": {},
   "outputs": [],
   "source": [
    "# Group longitudinal beams by Y coordinate\n",
    "long_beams_y = group_beams_by_y(longitudinal_beams)\n",
    "\n",
    "# Create vertical braces    \n",
    "if(brace_pattern == BracePattern.V_Pattern):\n",
    "    previous_y = None\n",
    "    for y_i,tier_y in long_beams_y.items():\n",
    "        base = portal.base.y if not previous_y else previous_y\n",
    "        long_beams_sorted = beams_sorted_yxz(tier_y)\n",
    "\n",
    "        for beam_i in range(len(long_beams_sorted)-1):\n",
    "            portal_i = beam_i%(len(portals)-1)\n",
    "            if(braces_placement[portal_i]):\n",
    "                \n",
    "                long_beam_i : Beam3D = long_beams_sorted[beam_i]\n",
    "\n",
    "                vb_1 = Beam3D(  start=Point3D(long_beam_i.start.x,base,long_beam_i.start.z),\n",
    "                                end=long_beam_i.mid())\n",
    "                vb_2 = Beam3D(  start=Point3D(long_beam_i.start.x,base,long_beam_i.end.z),\n",
    "                                end=long_beam_i.mid())\n",
    "                    \n",
    "                vertical_braces.append(vb_1)\n",
    "                vertical_braces.append(vb_2)\n",
    "\n",
    "        previous_y = y_i\n",
    "        \n",
    "elif(brace_pattern == BracePattern.X_Pattern):\n",
    "# Initialize variables\n",
    "    sorted_y = sorted(long_beams_y.keys())  # Sort keys of long_beams_y\n",
    "    vertical_braces = []  # Ensure vertical_braces is defined (assuming it's a list)\n",
    "\n",
    "    for portal_i, current_y_key in enumerate(sorted_y):\n",
    "        tier_y = long_beams_y[current_y_key]\n",
    "        \n",
    "        # Determine previous and next y-keys\n",
    "        previous_y_key = sorted_y[portal_i - 1] if portal_i > 0 else portal.base.y\n",
    "        next_y_key = sorted_y[portal_i + 1] if portal_i + 1 < len(sorted_y) else None\n",
    "        \n",
    "        # Process only even-indexed groups\n",
    "        if portal_i % 2 == 0:\n",
    "            base_y = portal.base.y if previous_y_key is None else previous_y_key\n",
    "            long_beams_sorted = beams_sorted_yxz(tier_y)\n",
    "            \n",
    "            # Iterate through beams (excluding the last one)\n",
    "            for beam_idx in range(len(long_beams_sorted) - 1):\n",
    "                portal_idx = beam_idx % (len(portals) - 1)\n",
    "                \n",
    "                if braces_placement[portal_idx]:\n",
    "                    current_beam = long_beams_sorted[beam_idx]\n",
    "                    \n",
    "                    pt_1 = Point3D(current_beam.start.x, base_y, current_beam.start.z)\n",
    "                    pt_2 = current_beam.mid()\n",
    "                    angle_with_hzl_1 = Line3D(pt_1,pt_2).angle_with_xy_plane()\n",
    "                    \n",
    "                    # Create vertical braces from base\n",
    "                    if(30<=angle_with_hzl_1<=60):\n",
    "                        vb_1 = Beam3D(\n",
    "                            start=Point3D(current_beam.start.x, base_y, current_beam.start.z),\n",
    "                            end=current_beam.mid()\n",
    "                        )\n",
    "                        vb_2 = Beam3D(\n",
    "                            start=Point3D(current_beam.start.x, base_y, current_beam.end.z),\n",
    "                            end=current_beam.mid()\n",
    "                        )\n",
    "                        \n",
    "                        vertical_braces.extend([vb_1, vb_2])\n",
    "                    \n",
    "                    else:\n",
    "                        total_z = abs(pt_4.z-pt_3.z)\n",
    "                        vb_5 = Beam3D(\n",
    "                            start=Point3D(current_beam.start.x, next_y_key, current_beam.start.z+total_z/2),\n",
    "                            end=current_beam.mid()\n",
    "                        )\n",
    "                        vb_6 = Beam3D(\n",
    "                            start=Point3D(current_beam.start.x, next_y_key, current_beam.end.z-total_z/2),\n",
    "                            end=current_beam.mid()\n",
    "                        )\n",
    "                        vb_7 = Beam3D(\n",
    "                            start=Point3D(current_beam.start.x, next_y_key, current_beam.start.z).shift_y(current_beam.start.y),\n",
    "                            end=vb_5.start\n",
    "                        )\n",
    "                        vb_8 = Beam3D(\n",
    "                            start=Point3D(current_beam.start.x, next_y_key, current_beam.end.z).shift_y(current_beam.start.y),\n",
    "                            end=vb_6.start\n",
    "                        )\n",
    "                        vertical_braces.extend([vb_5, vb_6 , vb_7 , vb_8])\n",
    "                        \n",
    "                    # Add braces to next y-key if it exists\n",
    "                    if (next_y_key is not None):\n",
    "                        pt_3 = Point3D(current_beam.start.x, next_y_key, current_beam.start.z)\n",
    "                        pt_4 = current_beam.mid()\n",
    "                        angle_with_hzl_2 = Line3D(pt_3,pt_4).angle_with_xy_plane()\n",
    "                        \n",
    "                        if(30<=angle_with_hzl_2<=60):\n",
    "                        \n",
    "                            vb_3 = Beam3D(\n",
    "                                start=Point3D(current_beam.start.x, next_y_key, current_beam.start.z),\n",
    "                                end=current_beam.mid()\n",
    "                            )\n",
    "                            vb_4 = Beam3D(\n",
    "                                start=Point3D(current_beam.start.x, next_y_key, current_beam.end.z),\n",
    "                                end=current_beam.mid()\n",
    "                            )\n",
    "                            \n",
    "                            vertical_braces.extend([vb_3, vb_4])\n",
    "                        else:\n",
    "                            total_z = abs(pt_4.z-pt_3.z)\n",
    "                            vb_5 = Beam3D(\n",
    "                                start=Point3D(current_beam.start.x, next_y_key, current_beam.start.z+total_z/2),\n",
    "                                end=current_beam.mid()\n",
    "                            )\n",
    "                            vb_6 = Beam3D(\n",
    "                                start=Point3D(current_beam.start.x, next_y_key, current_beam.end.z-total_z/2),\n",
    "                                end=current_beam.mid()\n",
    "                            )\n",
    "                            vb_7 = Beam3D(\n",
    "                                start=Point3D(current_beam.start.x, next_y_key, current_beam.start.z).shift_y(current_beam.start.y),\n",
    "                                end=vb_5.start\n",
    "                            )\n",
    "                            vb_8 = Beam3D(\n",
    "                                start=Point3D(current_beam.start.x, next_y_key, current_beam.end.z).shift_y(current_beam.start.y),\n",
    "                                end=vb_6.start\n",
    "                            )\n",
    "                            vertical_braces.extend([vb_5, vb_6 , vb_7 , vb_8])\n",
    "                            \n",
    "\n",
    "# Add vertical braces and assign properties\n",
    "vertical_brace_ids = add_beams(vertical_braces)\n",
    "vertical_brace_spec = assign_specification(vertical_brace_ids,truss_spec)\n",
    "vertical_brace_assign = assign_profile(vertical_brace_ids,profile_ids[PiperackMembers.VerticalBracing])"
   ]
  },
  {
   "cell_type": "code",
   "execution_count": 16,
   "id": "404e8de7",
   "metadata": {},
   "outputs": [],
   "source": [
    "\n",
    "stub_braces = []\n",
    "lower_stubs = []\n",
    "intermediate_transverse_beams_with_stub = []\n",
    "\n",
    "# Create stub beams between adjacent longitudinal beams\n",
    "create_stub = lambda beamA,beamB : Beam3D(start=beamA.mid(),end=beamB.mid())\n",
    "\n",
    "for long_beam_i in range(len(longitudinal_beams)-1):\n",
    "    long_ii:Beam3D = longitudinal_beams[long_beam_i]\n",
    "    long_ij:Beam3D = longitudinal_beams[long_beam_i+1]\n",
    "    if(long_ii.start.eq_x(long_ij.start) and long_ii.end.eq_z(long_ij.end)):\n",
    "        stubs.append(create_stub(long_ii,long_ij))\n",
    "\n",
    "if(len(tiers)>0):\n",
    "    lowest_tier = tiers[0]\n",
    "    lowest_tier_y = lowest_tier.base.y\n",
    "    \n",
    "    if(lowest_tier.intermediate_transverse_beam):\n",
    "        lowest_long_beam = sorted(longitudinal_beams,key = lambda beam : beam.start.y)[0]\n",
    "        \n",
    "        if lowest_long_beam.start.y in long_beams_y:\n",
    "            lowest_long_beams = long_beams_y[lowest_long_beam.start.y]\n",
    "\n",
    "            ht_diff = lowest_long_beam.start.y - lowest_tier_y\n",
    "            \n",
    "            for long_beam_i in range(0, len(lowest_long_beams), 2):\n",
    "                first_beam : Beam3D = lowest_long_beams[long_beam_i]\n",
    "                second_beam :Beam3D = lowest_long_beams[long_beam_i + 1] if long_beam_i + 1 < len(lowest_long_beams) else None\n",
    "                \n",
    "                first_beam_mid = first_beam.mid()\n",
    "                second_beam_mid = second_beam.mid()\n",
    "                \n",
    "                lower_stubs.append(Beam3D(start=first_beam_mid.shift_y(lowest_tier_y),end=first_beam_mid.shift_y(lowest_long_beam.start.y)))\n",
    "                lower_stubs.append(Beam3D(start=second_beam_mid.shift_y(lowest_tier_y),end=second_beam_mid.shift_y(lowest_long_beam.start.y)))\n",
    "                                \n",
    "                stub_braces.append(Beam3D(start=first_beam_mid.shift_y(lowest_tier_y),end=first_beam_mid.shift_y(lowest_long_beam.start.y).shift_z(first_beam_mid.z+ht_diff)))\n",
    "                stub_braces.append(Beam3D(start=second_beam_mid.shift_y(lowest_tier_y),end=second_beam_mid.shift_y(lowest_long_beam.start.y).shift_z(first_beam_mid.z+ht_diff)))\n",
    "\n",
    "                intermediate_transverse_beams_with_stub.append(Beam3D(start=first_beam_mid,end=second_beam_mid).shift_to_y(lowest_tier_y))\n",
    "\n",
    "stubs = beams_sorted_yzx(stubs)\n",
    "\n",
    "# Add stubs and assign properties\n",
    "stub_ids = add_beams(stubs)\n",
    "stub_assign = assign_profile(stub_ids,profile_ids[PiperackMembers.Stubs])\n",
    "stub_release = set_start_end_release(stub_ids)\n",
    "\n",
    "lower_stub_ids = add_beams(lower_stubs)\n",
    "lower_stub_assign = assign_profile(lower_stub_ids,profile_ids[PiperackMembers.Stubs])\n",
    "lower_stub_release = assign_specification(lower_stub_ids,end_release_spec)\n",
    "\n",
    "stub_brace_ids = add_beams(stub_braces)\n",
    "stub_assign = assign_profile(stub_brace_ids,profile_ids[PiperackMembers.VerticalBracing])\n",
    "stub_brace_spec = assign_specification(stub_brace_ids,truss_spec)\n",
    "\n",
    "intermediate_transverse_beams_with_stub_ids = add_beams(intermediate_transverse_beams_with_stub)\n",
    "intermediate_transverse_beams_with_stub_assign = assign_profile(intermediate_transverse_beams_with_stub_ids,profile_ids[PiperackMembers.IntermediateTransverseBeams])"
   ]
  },
  {
   "cell_type": "code",
   "execution_count": 17,
   "id": "7dd0729d",
   "metadata": {},
   "outputs": [],
   "source": [
    "# Create intermediate transverse beams from stubs\n",
    "for stub_i in range(0, len(stubs), 2):\n",
    "    if stub_i + 1 < len(stubs):  \n",
    "        stub1, stub2 = stubs[stub_i], stubs[stub_i + 1]\n",
    "        stub1_mid,stub2_mid = stub1.mid(),stub2.mid()\n",
    "        \n",
    "        for tier_y,tier_x in tier_dict.items():\n",
    "            if( stub1.start.y <= tier_y <= stub1.end.y and tier_x.intermediate_transverse_beam):\n",
    "                intermediate_transverse_beams.append(Beam3D(start=stub1_mid,end=stub2_mid)\\\n",
    "                                                        .shift_to_y(tier_y))\n",
    "                                                        # .shift_to_y(closest_to(tier_elevations,stub1_mid.mid(stub2_mid).y)))\n",
    "    \n",
    "# Add intermediate transverse beams and assign properties\n",
    "intermediate_transverse_ids = add_beams(intermediate_transverse_beams)\n",
    "inter_trans_assign = assign_profile(intermediate_transverse_ids,profile_ids[PiperackMembers.IntermediateTransverseBeams])\n",
    "inter_trans_release = set_start_end_release(intermediate_transverse_ids)\n",
    "\n",
    "# Create intermediate longitudinal beams and plan braces from portal beams\n",
    "portal_beams_y = group_beams_by_y([beam for portal in portals for beam in portal.beams])\n",
    "for tier_y,tier_x in tier_dict.items():\n",
    "    if(tier_y in portal_beams_y):\n",
    "        sorted_beams = beams_sorted_yzx(portal_beams_y[tier_y])\n",
    "        \n",
    "        for beam_i in range(len(sorted_beams)-1):\n",
    "            beam1 : Beam3D = sorted_beams[beam_i]\n",
    "            beam2 : Beam3D = sorted_beams[beam_i+1]\n",
    "\n",
    "            if(tier_x.tier_type == TierType.Piping):\n",
    "                beam1_mid = beam1.mid()\n",
    "                beam2_mid = beam2.mid()\n",
    "\n",
    "                if(tier_x.intermediate_transverse_beam):\n",
    "                    beam_mid = beam1_mid.mid(beam2_mid)\n",
    "                    intermediate_long_beams.append(Beam3D(start=beam1_mid,end=beam_mid))\n",
    "                    intermediate_long_beams.append(Beam3D(start=beam_mid,end=beam2_mid))\n",
    "                else:\n",
    "                    intermediate_long_beams.append(Beam3D(start=beam1_mid,end=beam2_mid))\n",
    "\n",
    "                if(braces_placement[beam_i]):\n",
    "                    mid_pt = beam1.start.mid(beam2.end)\n",
    "                    for pt_x in [beam1.start,beam1.end,beam2.start,beam2.end]:\n",
    "                        plan_braces.append(Beam3D(start=pt_x,end=mid_pt))\n",
    "\n",
    "            elif(tier_x.tier_type == TierType.Flare): \n",
    "                if(braces_placement[beam_i]):\n",
    "                    flare_level_x = beam1.start.mid(beam2.end)\n",
    "                    \n",
    "                    for line in flare_support_members:\n",
    "                        if(line.start.eq_y(tier_y)):\n",
    "                            flare_level_x = beam1.start.mid(beam2.end).shift_x(line.start.x)\n",
    "\n",
    "                    mid_pt = flare_level_x\n",
    "                    for pt_x in [beam1.start,beam1.end,beam2.start,beam2.end]:\n",
    "                        plan_braces.append(Beam3D(start=pt_x,end=mid_pt))\n",
    "\n",
    "            elif(tier_x.tier_type == TierType.ElectricalIntrumentation):\n",
    "                if(braces_placement[beam_i]):\n",
    "                    tree_level_x = beam1.start.mid(beam2.end)\n",
    "                    \n",
    "                    if(tree_support_members):\n",
    "                        for line in tree_support_members:\n",
    "                            if(line.start.eq_y(tier_y)):\n",
    "                                tree_level_x = beam1.start.mid(beam2.end).shift_x(line.start.x)\n",
    "                    elif(not tree_support_members and duct_support_members):\n",
    "                        for line in duct_support_members:\n",
    "                            if(line.start.eq_y(tier_y)):\n",
    "                                tree_level_x = beam1.start.mid(beam2.end).shift_x(line.start.x)\n",
    "\n",
    "                    mid_pt = tree_level_x\n",
    "                    for pt_x in [beam1.start,beam1.end,beam2.start,beam2.end]:\n",
    "                        plan_braces.append(Beam3D(start=pt_x,end=mid_pt))\n",
    "\n",
    "\n",
    "# Add intermediate longitudinal beams and assign properties\n",
    "intermediate_long_ids = add_beams(intermediate_long_beams)\n",
    "inter_long_assign = assign_profile(intermediate_long_ids,profile_ids[PiperackMembers.IntermediateLongitudinalBeams])\n",
    "inter_long_release = set_start_end_release(intermediate_long_ids)\n",
    "\n",
    "# Add plan braces and assign properties\n",
    "plan_brace_ids = add_beams(plan_braces)\n",
    "plan_brace_spec = assign_specification(plan_brace_ids,truss_spec)\n",
    "plan_brace_assign = assign_profile(plan_brace_ids,profile_ids[PiperackMembers.PlanBracing])\n",
    "\n",
    "# Create comprehensive markdown table for secondary members\n",
    "markdown_output = \"## Secondary Members Created\\n\\n\"\n",
    "markdown_output += \"| Member Types              | IDs                        | Profile Assignment      | Release Assignment      | Specification           | Function |\\n\"\n",
    "markdown_output += \"| ---                       | ---                        | ---                     | ---                     | ---                     | ---      |\\n\"\n",
    "markdown_output += f\"| Stubs                    | {stub_ids}                 | {stub_assign}          | {stub_release}          | -                       | Pipe support connections |\\n\"\n",
    "markdown_output += f\"| Intermediate Trans Beams | {intermediate_transverse_ids} | {inter_trans_assign} | {inter_trans_release}   | -                       | Secondary transverse support |\\n\"\n",
    "markdown_output += f\"| Intermediate Long Beams  | {intermediate_long_ids}    | {inter_long_assign}    | {inter_long_release}    | -                       | Secondary longitudinal support |\\n\"\n",
    "markdown_output += f\"| Plan Braces              | {plan_brace_ids}           | {plan_brace_assign}    | -                       | {plan_brace_spec}       | Horizontal stability bracing |\\n\"\n",
    "markdown_output += f\"| Vertical Braces          | {vertical_brace_ids}       | {vertical_brace_assign}| -                       | {vertical_brace_spec}   | Vertical stability bracing |\\n\"\n",
    "\n",
    "# Add analysis summary\n",
    "markdown_output += \"\\n## Secondary Members Analysis\\n\\n\"\n",
    "markdown_output += f\"- **Bracing Pattern**: {brace_pattern}\\n\"\n",
    "markdown_output += f\"- **Total Stubs**: {len(stub_ids)} (connecting longitudinal beam pairs)\\n\"\n",
    "markdown_output += f\"- **Total Intermediate Transverse**: {len(intermediate_transverse_ids)} (from stub midpoints)\\n\"\n",
    "markdown_output += f\"- **Total Intermediate Longitudinal**: {len(intermediate_long_ids)} (from portal beam midpoints)\\n\"\n",
    "markdown_output += f\"- **Total Plan Braces**: {len(plan_brace_ids)} (horizontal X-bracing)\\n\"\n",
    "markdown_output += f\"- **Total Vertical Braces**: {len(vertical_brace_ids)} (vertical V-bracing)\\n\"\n",
    "\n",
    "# display(Markdown(markdown_output))"
   ]
  },
  {
   "cell_type": "code",
   "execution_count": 18,
   "id": "e709b17b",
   "metadata": {},
   "outputs": [
    {
     "data": {
      "text/markdown": [
       "## Secondary Members Created\n",
       "\n",
       "| Member Types              | IDs                        | Profile Assignment      | Release Assignment      | Specification           | cláss    |\n",
       "| ---                       | ---                        | ---                     | ---                     | ---                     | ---      |\n",
       "| Flare Members            | [575, 577, 579, 581, 583, 585]       | [True, True, True, True, True, True]        | [(True, True), (True, True), (True, True), (True, True), (True, True), (True, True)]     | -                      | Flare Support |\n",
       "| Tree Members             | [588, 590, 592, 594, 596, 598]             | [True, True, True, True, True, True]             | [(True, True), (True, True), (True, True), (True, True), (True, True), (True, True)]          | -                      | Tree Support |\n",
       "| Duct Members             | [601, 603, 605, 607, 609, 611, 614, 616, 618, 620, 622, 624]             | [True, True, True, True, True, True, True, True, True, True, True, True]             | [(True, True), (True, True), (True, True), (True, True), (True, True), (True, True), (True, True), (True, True), (True, True), (True, True), (True, True), (True, True)]          | -                      | Duct Support |\n",
       "| WW Members          | [627, 629, 631, 633, 635, 637, 640, 642, 644, 646, 648, 650, 653, 655, 657, 659, 661, 663, 666, 668, 670, 672, 674, 676]               | [True, True, True, True, True, True, True, True, True, True, True, True, True, True, True, True, True, True, True, True, True, True, True, True]               | [(True, True), (True, True), (True, True), (True, True), (True, True), (True, True), (True, True), (True, True), (True, True), (True, True), (True, True), (True, True), (True, True), (True, True), (True, True), (True, True), (True, True), (True, True), (True, True), (True, True), (True, True), (True, True), (True, True), (True, True)]            | -                      | WW Support |\n"
      ],
      "text/plain": [
       "<IPython.core.display.Markdown object>"
      ]
     },
     "metadata": {},
     "output_type": "display_data"
    }
   ],
   "source": [
    "# Flare support Members\n",
    "flare_members = []\n",
    "\n",
    "for tier_x in tiers:\n",
    "    if(tier_x.tier_type == TierType.Flare):\n",
    "        line:Line3D\n",
    "        for line in flare_support_members:\n",
    "            if(line.start.eq_y(tier_x.base)):\n",
    "                for portal_i in range(1,len(portals)):\n",
    "                    current_portal = portals[portal_i]\n",
    "                    previous_portal = portals[portal_i - 1] if portal_i > 0 else None\n",
    "                    \n",
    "                    flare_members.append(Beam3D(start=previous_portal.base.shift_y(tier_x.base.y).shift_x(line.start.x),end=current_portal.base.shift_y(tier_x.base.y).shift_x(line.end.x)))\n",
    "\n",
    "flare_long_ids = add_beams(flare_members)\n",
    "flare_long_assign = assign_profile(flare_long_ids,profile_ids[PiperackMembers.FlareSupportMembers])\n",
    "flare_long_release = set_start_end_release(flare_long_ids)\n",
    "\n",
    "# Tree Support Members\n",
    "tree_members = []\n",
    "\n",
    "for tier_x in tiers:\n",
    "    if(tier_x.tier_type == TierType.ElectricalIntrumentation):\n",
    "        line:Line3D\n",
    "        for line in tree_support_members:\n",
    "            if(line.start.eq_y(tier_x.base)):\n",
    "                for portal_i in range(1,len(portals)):\n",
    "                    current_portal = portals[portal_i]\n",
    "                    previous_portal = portals[portal_i - 1] if portal_i > 0 else None\n",
    "                    \n",
    "                    tree_members.append(Beam3D(start=previous_portal.base.shift_y(tier_x.base.y).shift_x(line.start.x),end=current_portal.base.shift_y(tier_x.base.y).shift_x(line.end.x)))\n",
    "\n",
    "tree_ids = add_beams(tree_members)\n",
    "tree_assign = assign_profile(tree_ids,profile_ids[PiperackMembers.TreeSupportMembers])\n",
    "tree_release = set_start_end_release(tree_ids)\n",
    "\n",
    "# Duct Support Members\n",
    "duct_members = []\n",
    "\n",
    "for tier_x in tiers:\n",
    "    if(tier_x.tier_type == TierType.ElectricalIntrumentation):\n",
    "        line:Line3D\n",
    "        for line in duct_support_members:\n",
    "            if(line.start.eq_y(tier_x.base)):\n",
    "                for portal_i in range(1,len(portals)):\n",
    "                    current_portal = portals[portal_i]\n",
    "                    previous_portal = portals[portal_i - 1] if portal_i > 0 else None\n",
    "                    \n",
    "                    duct_members.append(Beam3D(start=previous_portal.base.shift_y(tier_x.base.y).shift_x(line.start.x),\n",
    "                                             end=current_portal.base.shift_y(tier_x.base.y).shift_x(line.end.x)))\n",
    "\n",
    "duct_ids = add_beams(duct_members)\n",
    "duct_assign = assign_profile(duct_ids, profile_ids[PiperackMembers.DuctSupportMembers])\n",
    "duct_release = set_start_end_release(duct_ids)\n",
    "\n",
    "# WW Support Members\n",
    "ww_members = []\n",
    "\n",
    "for tier_x in tiers:\n",
    "    if(tier_x.tier_type == TierType.ElectricalIntrumentation):\n",
    "        line:Line3D\n",
    "        for line in ww_support_members:\n",
    "            if(line.start.eq_y(tier_x.base)):\n",
    "                for portal_i in range(1,len(portals)):\n",
    "                    current_portal = portals[portal_i]\n",
    "                    previous_portal = portals[portal_i - 1] if portal_i > 0 else None\n",
    "                    \n",
    "                    ww_members.append(Beam3D(start=previous_portal.base.shift_y(tier_x.base.y).shift_x(line.start.x),\n",
    "                                           end=current_portal.base.shift_y(tier_x.base.y).shift_x(line.end.x)))\n",
    "\n",
    "ww_ids = add_beams(ww_members)\n",
    "ww_assign = assign_profile(ww_ids, profile_ids[PiperackMembers.WWSupportMembers])\n",
    "ww_release = set_start_end_release(ww_ids)\n",
    "\n",
    "# Updated Markdown output\n",
    "markdown_output = \"## Secondary Members Created\\n\\n\"\n",
    "markdown_output += \"| Member Types              | IDs                        | Profile Assignment      | Release Assignment      | Specification           | cláss    |\\n\"\n",
    "markdown_output += \"| ---                       | ---                        | ---                     | ---                     | ---                     | ---      |\\n\"\n",
    "markdown_output += f\"| Flare Members            | {flare_long_ids}       | {flare_long_assign}        | {flare_long_release}     | -                      | Flare Support |\\n\"\n",
    "markdown_output += f\"| Tree Members             | {tree_ids}             | {tree_assign}             | {tree_release}          | -                      | Tree Support |\\n\"\n",
    "markdown_output += f\"| Duct Members             | {duct_ids}             | {duct_assign}             | {duct_release}          | -                      | Duct Support |\\n\"\n",
    "markdown_output += f\"| WW Members          | {ww_ids}               | {ww_assign}               | {ww_release}            | -                      | WW Support |\\n\"\n",
    "\n",
    "display(Markdown(markdown_output))"
   ]
  },
  {
   "cell_type": "markdown",
   "id": "bf0f9469",
   "metadata": {},
   "source": [
    "### Brackets\n"
   ]
  },
  {
   "cell_type": "code",
   "execution_count": 19,
   "id": "7501f79f",
   "metadata": {},
   "outputs": [],
   "source": [
    "bracket_beams_z = []\n",
    "bracket_beams_x = []\n",
    "bracket_braces = []\n",
    "\n",
    "for tier_x in tiers:\n",
    "    if(tier_x.bracket_provision):\n",
    "        for column_x in column_distances:\n",
    "            bracket_beams_z.append(Beam3D(start=base_point_of_first_portal.shift_y(tier_x.base.y),end=base_point_of_first_portal.shift_y(tier_x.base.y).shift_z(-bracket_size)).shift_to_x(column_x))\n",
    "            bracket_braces.append(Beam3D(\n",
    "                start=base_point_of_first_portal.shift_y(get_closest_lower_value_then_higher_value(long_beams_y,tier_x.base.y)),\n",
    "                end=base_point_of_first_portal.shift_y(tier_x.base.y).shift_z(-bracket_size)).shift_to_x(column_x))\n",
    "        \n",
    "        for i in range(0, len(bracket_beams_z), 2):\n",
    "            if i + 1 < len(bracket_beams_z):  # Ensure we don't go out of bounds\n",
    "\n",
    "                beam_mid_z1 = bracket_beams_z[i].start.mid(bracket_beams_z[i + 1].start)\n",
    "                beam_mid_z2 = bracket_beams_z[i].end.mid(bracket_beams_z[i + 1].end)\n",
    "                beam_mid_z3 = bracket_beams_z[i].end.mid(beam_mid_z2)\n",
    "                beam_mid_z4 = bracket_beams_z[i + 1].end.mid(beam_mid_z2)\n",
    "                \n",
    "                beam_x = Beam3D(start=bracket_beams_z[i].end, end=bracket_beams_z[i + 1].end)\n",
    "                bracket_beams_x.append(beam_x)\n",
    "\n",
    "                tier_x.add_bracket(beam_x)\n",
    "                \n",
    "                bracket_braces.append(Beam3D(start=bracket_beams_z[i].start,end=beam_mid_z3))\n",
    "                bracket_braces.append(Beam3D(start=bracket_beams_z[i+1].start,end=beam_mid_z4))\n",
    "\n",
    "                bracket_braces.append(Beam3D(start=beam_mid_z1,end=beam_mid_z2))\n",
    "                bracket_braces.append(Beam3D(start=beam_mid_z1,end=beam_mid_z3))\n",
    "                bracket_braces.append(Beam3D(start=beam_mid_z1,end=beam_mid_z4))\n",
    "\n",
    "bracket_beam_z_ids = add_beams(bracket_beams_z)\n",
    "bracket_beam_x_ids = add_beams(bracket_beams_x)\n",
    "\n",
    "for count,beam in enumerate(bracket_beams_x):\n",
    "    beam.id = bracket_beam_x_ids[count]\n",
    "\n",
    "bracket_beam_ids = []\n",
    "bracket_beam_ids.extend(bracket_beam_x_ids)\n",
    "bracket_beam_ids.extend(bracket_beam_z_ids)\n",
    "\n",
    "bracket_beam_ids.extend(add_beams(bracket_beams_x))\n",
    "bracket_beam_assign = assign_profile(bracket_beam_ids, profile_ids[PiperackMembers.BracketBeams])\n",
    "\n",
    "bracket_brace_ids = add_beams(bracket_braces)\n",
    "bracket_brace_assign = assign_profile(bracket_brace_ids, profile_ids[PiperackMembers.BracketBraces])\n",
    "bracket_brace_spec = assign_specification(bracket_brace_ids,truss_spec)"
   ]
  },
  {
   "cell_type": "markdown",
   "id": "b904ca57",
   "metadata": {},
   "source": [
    "## Loads\n",
    "\n",
    "### Initialization\n"
   ]
  },
  {
   "cell_type": "code",
   "execution_count": 20,
   "id": "6a5e3efc",
   "metadata": {},
   "outputs": [],
   "source": [
    "from base.load.wind_load import *\n",
    "\n",
    "add_conc_forces_to_members = add_conc_forces_to_members_fn(load)\n",
    "add_uniform_forces_to_members = add_uniform_forces_to_members_fn(load)\n",
    "\n",
    "def beam_list_select_and_display(beam_list):\n",
    "    select_beams(beam_list.keys())\n",
    "    display(beam_list)\n",
    "\n",
    "staad_format_list = lambda ids : format_consecutive_numbers(group_consecutive_numbers(ids))\n",
    "\n",
    "def beam_list_copy_and_display(beam_list):\n",
    "    if(len(beam_list)> 0 ):\n",
    "        selected_members = staad_format_list(beam_list)\n",
    "        pyperclip.copy(f'{selected_members}')\n",
    "        # copy(f'members={selected_members},')\n",
    "        display(Markdown(f'copied **{len(beam_list)}** members : {selected_members}'))\n",
    "    else:\n",
    "        display(Markdown(f'No member selected'))"
   ]
  },
  {
   "cell_type": "markdown",
   "id": "f34e1007",
   "metadata": {},
   "source": [
    "### Member Import"
   ]
  },
  {
   "cell_type": "code",
   "execution_count": 21,
   "id": "b8f07dbb",
   "metadata": {},
   "outputs": [],
   "source": [
    "nodes = get_node_incidences(geometry=geometry)\n",
    "beam_objects:dict = get_beam_objects(geometry=geometry,property=None,nodes=nodes)\n",
    "beam_nos:list = list(beam_objects.keys())\n",
    "\n",
    "tier_elevations = [tier.base.y for tier in tiers]\n",
    "portal_zs = [portal.base.z for portal in portals]"
   ]
  },
  {
   "cell_type": "markdown",
   "id": "f9ef1450",
   "metadata": {},
   "source": [
    "#### Break Beams at all nodes"
   ]
  },
  {
   "cell_type": "code",
   "execution_count": 22,
   "id": "e85eb432",
   "metadata": {},
   "outputs": [
    {
     "data": {
      "text/markdown": [
       "#### Beam Breaks at Nodes\n",
       "| Beams          | Ids |\n",
       "|----------------|-------|\n",
       "| existing_beams | [(7, 8, 71, 87, 74, 90, 77, 93, 80, 96, 17, 18, 72, 88, 75, 91, 78, 94, 81, 97, 27, 28, 103, 114, 105, 116, 107, 118, 109, 120, 37, 38, 125, 136, 127, 138, 129, 140, 131, 142, 47, 48, 147, 158, 149, 160, 151, 162, 153, 164, 57, 58, 169, 180, 171, 182, 173, 184, 175, 186, 67, 68, 191, 202, 193, 204, 195, 206, 197, 208, 590, 596, 577, 583)] |\n",
       "| new_beams | [(703, 704, 705, 706, 707, 708, 709, 710, 711, 712, 713, 714, 715, 716, 717, 718, 719, 720, 721, 722, 723, 724, 725, 726, 727, 728, 729, 730, 731, 732, 733, 734, 735, 736, 737, 738, 739, 740, 741, 742, 743, 744, 745, 746, 747, 748, 749, 750, 751, 752, 753, 754, 755, 756, 757, 758, 759, 760, 761, 762, 763, 764, 765, 766, 767, 768, 769, 770, 771, 772, 773, 774, 775, 776)] |\n"
      ],
      "text/plain": [
       "<IPython.core.display.Markdown object>"
      ]
     },
     "metadata": {},
     "output_type": "display_data"
    }
   ],
   "source": [
    "break_output = break_beams(geometry,list(nodes.keys()))\n",
    "\n",
    "markdown_output = '#### Beam Breaks at Nodes\\n'\n",
    "markdown_output += '| Beams          | Ids |\\n'\n",
    "markdown_output += '|----------------|-------|\\n'\n",
    "\n",
    "for k, v in break_output.items():\n",
    "    markdown_output += f'| {k} | {v} |\\n'\n",
    "\n",
    "display(Markdown(markdown_output))"
   ]
  },
  {
   "cell_type": "markdown",
   "id": "d97091b6",
   "metadata": {},
   "source": [
    "### Selfweight (Limited Functionality)\n",
    "\n",
    "> **Workaround:** Selfweight alloted to all the members. Select **steel members** in the **Selector** code and copy the members and assign using **Assign to edit list**. Same for **concrete members**."
   ]
  },
  {
   "cell_type": "code",
   "execution_count": 23,
   "id": "fec2142b",
   "metadata": {},
   "outputs": [
    {
     "data": {
      "text/plain": [
       "True"
      ]
     },
     "execution_count": 23,
     "metadata": {},
     "output_type": "execute_result"
    }
   ],
   "source": [
    "set_load_case_active(STAAD_objects.load,load_case_no=LoadCase.SelfWeight)\n",
    "\n",
    "add_selfweight_xyz(STAAD_objects.load,factor=-1)    ## For Concrete\n",
    "add_selfweight_xyz(STAAD_objects.load,factor=-1.1)  ## For Steel + Connections"
   ]
  },
  {
   "cell_type": "markdown",
   "id": "4b3a4273",
   "metadata": {},
   "source": [
    "### Portal Beams And Intermediate Beams\n",
    "\n",
    "#### Segregation"
   ]
  },
  {
   "cell_type": "code",
   "execution_count": 24,
   "id": "b46e0d08",
   "metadata": {},
   "outputs": [],
   "source": [
    "# Levels matching with tier levels and z position with portal positions\n",
    "portal_beams = {}\n",
    "intermediate_transverse_beams = {}\n",
    "\n",
    "portal_beam_dict = {portal.base.z:[] for portal in portals}\n",
    "portal_tier_beams = {portal:{tier:[] for tier in tier_elevations} for portal in portal_zs}\n",
    "\n",
    "for beam_no,beam in beam_objects.items():\n",
    "    \n",
    "    tier_y = None\n",
    "    portal_z = None\n",
    "    chosen_one_1,chosen_one_2 = False,False\n",
    "    \n",
    "    beam:Beam3D\n",
    "    \n",
    "    for tier_x in tier_elevations:\n",
    "        if(beam.start.eq_z(beam.end) and beam.start.eq_y(tier_x) and beam.end.eq_y(tier_x)):\n",
    "            chosen_one_1 = True\n",
    "            tier_y = tier_x\n",
    "    \n",
    "    for portal in portal_zs:\n",
    "        if(beam.start.eq_z(portal) and beam.end.eq_z(portal)):\n",
    "            chosen_one_2 = True\n",
    "            portal_z = portal\n",
    "    \n",
    "    if(chosen_one_1 and chosen_one_2):\n",
    "        portal_beams[beam_no] = beam\n",
    "        if(tier_y and tier_x in tier_dict):\n",
    "            tier_dict[tier_y].add_beam(beam)\n",
    "        if(portal_z and portal_z in portal_beam_dict):\n",
    "            portal_beam_dict[portal_z].append(beam)\n",
    "            \n",
    "        portal_tier_beams[portal_z][tier_y].append(beam_no)\n",
    "        \n",
    "    if(chosen_one_1 and not chosen_one_2):\n",
    "        intermediate_transverse_beams[beam_no] = beam\n",
    "        if(tier_y in tier_dict):\n",
    "            tier_dict[tier_y].add_int_beam(beam)\n",
    "\n",
    "# beam_list_select_and_display(portal_beams)\n",
    "# time.sleep(2)\n",
    "# beam_list_select_and_display(intermediate_transverse_beams)"
   ]
  },
  {
   "cell_type": "markdown",
   "id": "8470570f",
   "metadata": {},
   "source": [
    "#### Load Assignment\n",
    "\n",
    "##### Portal Beams"
   ]
  },
  {
   "cell_type": "code",
   "execution_count": 25,
   "id": "c7a6a538",
   "metadata": {},
   "outputs": [],
   "source": [
    "for tier_x in tiers:\n",
    "    for load_x in tier_x.loads:\n",
    "        set_load_case_active(STAAD_objects.load,load_x.load_case)\n",
    "        \n",
    "        if(isinstance(load_x,ConcentratedLoad)):\n",
    "            add_conc_forces_to_members(tier_x.beams,load_x)\n",
    "\n",
    "max_portal_to_portal = max([portals[portal_i].base.distance_to(portals[portal_i+1].base) for portal_i in range(len(portals)-1)])\n",
    "\n",
    "for portal_i in range(len(portals)):\n",
    "    current_portal = portals[portal_i]\n",
    "    previous_portal = portals[portal_i - 1] if portal_i > 0 else None\n",
    "    next_portal = portals[portal_i + 1] if portal_i < len(portals) - 1 else None\n",
    "    \n",
    "    dist_1 = previous_portal.base.distance_to(current_portal.base) if previous_portal else max_portal_to_portal\n",
    "    dist_2 = next_portal.base.distance_to(current_portal.base) if next_portal else max_portal_to_portal\n",
    "    \n",
    "    for tier_x in tiers:\n",
    "        for load_x in tier_x.loads:\n",
    "            set_load_case_active(STAAD_objects.load,load_x.load_case)\n",
    "            \n",
    "            if(isinstance(load_x,UniformLoad)):\n",
    "                add_uniform_forces_to_members(portal_tier_beams[current_portal.base.z][tier_x.base.y],load_x.factor_force_value(avg([dist_1,dist_2])))"
   ]
  },
  {
   "cell_type": "markdown",
   "id": "a37db84a",
   "metadata": {},
   "source": [
    "##### Intermediate Transverse Beams"
   ]
  },
  {
   "cell_type": "code",
   "execution_count": 26,
   "id": "e9c1c220",
   "metadata": {},
   "outputs": [],
   "source": [
    "for tier_x in tiers:\n",
    "    for load_x in tier_x.clt_loads:\n",
    "        set_load_case_active(STAAD_objects.load,load_x.load_case)\n",
    "        \n",
    "        if(isinstance(load_x,ConcentratedLoad)):\n",
    "            add_conc_forces_to_members(tier_x.int_beams,load_x)\n",
    "\n",
    "for tier_x in tiers:\n",
    "    tier_sorted_z = sorted(tier_x.int_beams,key=lambda beam : beam.start.z)\n",
    "    for beam in tier_sorted_z:\n",
    "\n",
    "        closest_portals = sorted(portals,key=lambda portal : portal.base.distance_to(beam.mid()))\n",
    "        distance = closest_portals[0].base.distance_to(closest_portals[1].base)\n",
    "        # select_beam(geometry,beam.id)\n",
    "\n",
    "        for load_x in tier_x.clt_loads:\n",
    "            set_load_case_active(STAAD_objects.load,load_x.load_case)\n",
    "\n",
    "            if(isinstance(load_x,UniformLoad)):\n",
    "                add_uniform_forces_to_members([beam],load_x.factor_force_value(distance))\n"
   ]
  },
  {
   "cell_type": "markdown",
   "id": "fe4cc7db",
   "metadata": {},
   "source": [
    "### Brackets\n",
    "\n",
    "#### Identification"
   ]
  },
  {
   "cell_type": "code",
   "execution_count": 27,
   "id": "6aee03dd",
   "metadata": {},
   "outputs": [],
   "source": [
    "brackets = [beam for beam in beam_objects.values() if beam.start.eq_z(beam.end) and beam.start.z < base_point_of_first_portal.z]\n",
    "# select_beams([beam.id for beam in brackets])\n",
    "\n",
    "brackets_y = sorted(set(beam.start.y for beam in brackets))\n",
    "brackets_y_dict = {y: [] for y in brackets_y}\n",
    "\n",
    "for bracket in brackets:\n",
    "    brackets_y_dict[bracket.start.y].append(bracket)\n",
    "\n",
    "for tier_x in tiers:\n",
    "    if(tier_x.base.y in brackets_y_dict):\n",
    "        for bracket in brackets_y_dict[tier_x.base.y]:\n",
    "            tier_x.add_bracket(bracket)"
   ]
  },
  {
   "cell_type": "markdown",
   "id": "20bd77e9",
   "metadata": {},
   "source": [
    "#### Assignment"
   ]
  },
  {
   "cell_type": "code",
   "execution_count": 28,
   "id": "c9ccdd49",
   "metadata": {},
   "outputs": [],
   "source": [
    "for tier_x in tiers:\n",
    "    for load_x in tier_x.loads:\n",
    "        set_load_case_active(STAAD_objects.load,load_x.load_case)\n",
    "        \n",
    "        if(isinstance(load_x,UniformLoad)):\n",
    "            add_uniform_forces_to_members(tier_x.brackets,load_x.factor_force_value(max_expansion_bay_length/2))"
   ]
  },
  {
   "cell_type": "markdown",
   "id": "276990b9",
   "metadata": {},
   "source": [
    "### Columns\n",
    "\n",
    "#### Column Identification"
   ]
  },
  {
   "cell_type": "code",
   "execution_count": 29,
   "id": "165f3602",
   "metadata": {},
   "outputs": [],
   "source": [
    "portal_z_set = set(portal_zs)\n",
    "\n",
    "columns_nos = [beam_no for beam_no,beam in beam_objects.items() if beam.start.x == beam.end.x and beam.start.z == beam.end.z and abs(beam.start.y - beam.end.y) > 0.1]\n",
    "portal_columns_nos = [beam_no for beam_no,beam in beam_objects.items() if beam.start.x == beam.end.x and beam.start.z == beam.end.z and  beam.start.z in portal_z_set and abs(beam.start.y - beam.end.y) > 0.1]\n",
    "stubs_column_nos = [beam_no for beam_no in columns_nos if beam_no not in portal_columns_nos]\n",
    "\n",
    "x_coordinates = sorted(list(set([beam_objects[col_i].start.x for col_i in portal_columns_nos])))\n",
    "z_coordinates = sorted(list(set([beam_objects[col_i].start.z for col_i in portal_columns_nos])))\n",
    "y_coordinates = sorted(list(set([beam_objects[col_i].start.y for col_i in portal_columns_nos])))\n",
    "\n",
    "columns_x = {x:[] for x in x_coordinates}\n",
    "columns_y = {y:[] for y in y_coordinates}\n",
    "columns_z = {z:[] for z in z_coordinates}\n",
    "\n",
    "for col_i in portal_columns_nos:\n",
    "    beam = beam_objects[col_i]\n",
    "    columns_x[beam.start.x].append(beam)\n",
    "\n",
    "for col_i in portal_columns_nos:\n",
    "    beam = beam_objects[col_i]\n",
    "    columns_y[beam.start.y].append(beam)\n",
    "\n",
    "for col_i in portal_columns_nos:\n",
    "    beam = beam_objects[col_i]\n",
    "    columns_z[beam.start.z].append(beam)"
   ]
  },
  {
   "cell_type": "markdown",
   "id": "5ff6ebd7",
   "metadata": {},
   "source": [
    "#### Wind Load Definition"
   ]
  },
  {
   "cell_type": "code",
   "execution_count": 30,
   "id": "61e9002f",
   "metadata": {},
   "outputs": [
    {
     "data": {
      "text/markdown": [
       "| Start Elevation | End Elevation | Windward Load | Leeward Load |\n",
       "|-----------------|---------------|---------------|--------------|\n",
       "| -0.5 | 9.5 | 0.5408 | 0.4501 |\n",
       "| 9.5 | 14.5 | 0.5962 | 0.4962 |\n",
       "| 14.5 | 19.5 | 0.6191 | 0.5153 |\n",
       "| 19.5 | 24.5 | 0.6484 | 0.5396 |\n",
       "| 24.5 | 29.5 | 0.6783 | 0.5645 |\n"
      ],
      "text/plain": [
       "<IPython.core.display.Markdown object>"
      ]
     },
     "metadata": {},
     "output_type": "display_data"
    },
    {
     "data": {
      "text/markdown": [
       "| Start Elevation | End Elevation | Windward Load | Leeward Load |\n",
       "|-----------------|---------------|---------------|--------------|\n",
       "| -0.5 | 9.5 | 0.2704 | 0.2279 |\n",
       "| 9.5 | 14.5 | 0.2981 | 0.2513 |\n",
       "| 14.5 | 19.5 | 0.3096 | 0.2610 |\n",
       "| 19.5 | 24.5 | 0.3242 | 0.2733 |\n",
       "| 24.5 | 29.5 | 0.3392 | 0.2859 |\n"
      ],
      "text/plain": [
       "<IPython.core.display.Markdown object>"
      ]
     },
     "metadata": {},
     "output_type": "display_data"
    }
   ],
   "source": [
    "ngl = -0.5\n",
    "\n",
    "add_ngl = add_elevation_to_wind_load_list_fn(ngl)\n",
    "\n",
    "transverse_wind_loads = [\n",
    "    WindLoad(start_ele=0.0, end_ele=10.0, windward=0.5408, leeward=0.4501),\n",
    "    WindLoad(start_ele=10.0, end_ele=15.0, windward=0.5962, leeward=0.4962),\n",
    "    WindLoad(start_ele=15.0, end_ele=20.0, windward=0.6191, leeward=0.5153),\n",
    "    WindLoad(start_ele=20.0, end_ele=25.0, windward=0.6484, leeward=0.5396),\n",
    "    WindLoad(start_ele=25.0, end_ele=30.0, windward=0.6783, leeward=0.5645)\n",
    "]\n",
    "\n",
    "longitudinal_wind_loads = [\n",
    "    WindLoad(start_ele=0.0, end_ele=10.0, windward=0.2704, leeward=0.2279),\n",
    "    WindLoad(start_ele=10.0, end_ele=15.0, windward=0.2981, leeward=0.2513),\n",
    "    WindLoad(start_ele=15.0, end_ele=20.0, windward=0.3096, leeward=0.2610),\n",
    "    WindLoad(start_ele=20.0, end_ele=25.0, windward=0.3242, leeward=0.2733),\n",
    "    WindLoad(start_ele=25.0, end_ele=30.0, windward=0.3392, leeward=0.2859)\n",
    "]\n",
    "\n",
    "add_ngl(transverse_wind_loads)\n",
    "add_ngl(longitudinal_wind_loads)\n",
    "\n",
    "display(Markdown(wind_load_definition_markdown(transverse_wind_loads)))\n",
    "display(Markdown(wind_load_definition_markdown(longitudinal_wind_loads)))"
   ]
  },
  {
   "cell_type": "markdown",
   "id": "48d22de9",
   "metadata": {},
   "source": [
    "#### Wind Load Assignment\n",
    "\n",
    "##### Transverse Direction"
   ]
  },
  {
   "cell_type": "code",
   "execution_count": 31,
   "id": "d154cfc9",
   "metadata": {},
   "outputs": [],
   "source": [
    "generated_loads = []\n",
    "set_load_case_active(load,LoadCase.WindColumn_GX)\n",
    "pedestal_offset_start_y = base_point_of_first_portal.y\n",
    "\n",
    "for z in x_coordinates:\n",
    "    for col in columns_x[z]:\n",
    "        for wind_l in transverse_wind_loads:\n",
    "            d1 = max([col.start.y,wind_l.start_ele])\n",
    "            d2 = min([col.end.y,wind_l.end_ele])\n",
    "\n",
    "            if(col.start.y<=d1<=col.end.y and col.start.y<=d2<=col.end.y):\n",
    "                d1 = d1 - col.start.y - (foundation_depth if col.end.y == pedestal_offset_start_y else 0)\n",
    "                d2 = d2 - col.start.y - (foundation_depth if col.end.y == pedestal_offset_start_y else 0)\n",
    "\n",
    "                force = wind_l.windward if z==x_coordinates[0] else wind_l.leeward\n",
    "                generated_loads.append((col.id,UniformLoad(MemberDirection.GX,force,d1_value=d1,d2_value=d2,load_case=LoadCase.WindColumn_GX)))\n",
    "                add_member_uniform_force(load,col.id,UniformLoad(MemberDirection.GX,force,d1_value=d1,d2_value=d2,load_case=LoadCase.WindColumn_GX))\n",
    "\n",
    "set_load_case_active(load,LoadCase.WindColumn_GX_Opposite)\n",
    "for z in x_coordinates:\n",
    "    for col in columns_x[z]:\n",
    "        for wind_l in transverse_wind_loads:\n",
    "            d1 = max([col.start.y,wind_l.start_ele])\n",
    "            d2 = min([col.end.y,wind_l.end_ele])\n",
    "\n",
    "            if(col.start.y<=d1<=col.end.y and col.start.y<=d2<=col.end.y):\n",
    "                d1 = d1 - col.start.y - (foundation_depth if col.end.y == pedestal_offset_start_y else 0)\n",
    "                d2 = d2 - col.start.y - (foundation_depth if col.end.y == pedestal_offset_start_y else 0)\n",
    "                \n",
    "                force = -wind_l.windward if z==x_coordinates[-1] else -wind_l.leeward\n",
    "                generated_loads.append((col.id,UniformLoad(MemberDirection.GX,force,d1_value=d1,d2_value=d2,load_case=LoadCase.WindColumn_GX_Opposite)))\n",
    "                add_member_uniform_force(load,col.id,UniformLoad(MemberDirection.GX,force,d1_value=d1,d2_value=d2,load_case=LoadCase.WindColumn_GX_Opposite))\n",
    "\n",
    "# display(Markdown(wind_load_assignment_markdown('Wind GX Forces on Columns',generated_loads)))"
   ]
  },
  {
   "cell_type": "markdown",
   "id": "865ca634",
   "metadata": {},
   "source": [
    "##### Longitudinal Direction"
   ]
  },
  {
   "cell_type": "code",
   "execution_count": 32,
   "id": "bbff2ae5",
   "metadata": {},
   "outputs": [],
   "source": [
    "generated_loads = []\n",
    "set_load_case_active(load,LoadCase.WindColumn_GZ)\n",
    "\n",
    "for z in z_coordinates:\n",
    "    for col in columns_z[z]:\n",
    "        for wind_l in longitudinal_wind_loads:\n",
    "            d1 = max([col.start.y,wind_l.start_ele])\n",
    "            d2 = min([col.end.y,wind_l.end_ele])\n",
    "\n",
    "            if(col.start.y<=d1<=col.end.y and col.start.y<=d2<=col.end.y):\n",
    "                d1 = d1 - col.start.y - (foundation_depth if col.end.y == pedestal_offset_start_y else 0)\n",
    "                d2 = d2 - col.start.y - (foundation_depth if col.end.y == pedestal_offset_start_y else 0)\n",
    "\n",
    "                force = wind_l.windward if z==z_coordinates[0] else wind_l.leeward\n",
    "                generated_loads.append((col.id,UniformLoad(MemberDirection.GZ,force,d1_value=d1,d2_value=d2,load_case=LoadCase.WindColumn_GZ)))\n",
    "                add_member_uniform_force(load,col.id,UniformLoad(MemberDirection.GZ,force,d1_value=d1,d2_value=d2,load_case=LoadCase.WindColumn_GZ))\n",
    "\n",
    "set_load_case_active(load,LoadCase.WindColumn_GZ_Opposite)\n",
    "\n",
    "for z in z_coordinates:\n",
    "    for col in columns_z[z]:\n",
    "        for wind_l in longitudinal_wind_loads:\n",
    "            d1 = max([col.start.y,wind_l.start_ele])\n",
    "            d2 = min([col.end.y,wind_l.end_ele])\n",
    "\n",
    "            if(col.start.y<=d1<=col.end.y and col.start.y<=d2<=col.end.y):\n",
    "                d1 = d1 - col.start.y - (foundation_depth if col.end.y == pedestal_offset_start_y else 0)\n",
    "                d2 = d2 - col.start.y - (foundation_depth if col.end.y == pedestal_offset_start_y else 0)\n",
    "                \n",
    "                force = -wind_l.windward if z==z_coordinates[-1] else -wind_l.leeward\n",
    "                generated_loads.append((col.id,UniformLoad(MemberDirection.GZ,force,d1_value=d1,d2_value=d2,load_case=LoadCase.WindColumn_GZ_Opposite)))\n",
    "                add_member_uniform_force(load,col.id,UniformLoad(MemberDirection.GZ,force,d1_value=d1,d2_value=d2,load_case=LoadCase.WindColumn_GZ_Opposite))\n",
    "\n",
    "# display(Markdown(wind_load_assignment_markdown('Wind GZ Forces on Columns',generated_loads)))"
   ]
  },
  {
   "cell_type": "markdown",
   "id": "b393bbce",
   "metadata": {},
   "source": [
    "##### Tier-wise"
   ]
  },
  {
   "cell_type": "code",
   "execution_count": 33,
   "id": "14eca6a0",
   "metadata": {},
   "outputs": [],
   "source": [
    "for tier_x in tiers:\n",
    "    beams_by_z = group_beams_by_z(tier_x.beams)\n",
    "\n",
    "    for z,beams in beams_by_z.items():\n",
    "        start_beam = min(beams,key=lambda beam: min(beam.start.x, beam.end.x))\n",
    "        end_beam = max(beams,key=lambda beam: max(beam.start.x, beam.end.x))\n",
    "\n",
    "        min_x = min(start_beam.start.x, start_beam.end.x)\n",
    "        max_x = max(end_beam.start.x, end_beam.end.x)\n",
    "        \n",
    "        application_node_pt_1 = tier_x.base.shift_x(min_x).shift_z(z)\n",
    "        tier_x_loads = [wl for wl in tier_x.wind_loads if wl.load_case == LoadCase.WindTier_GX]\n",
    "        for load_x in tier_x_loads:\n",
    "            set_load_case_active(load,load_x.load_case)\n",
    "            add_point_conc_force(load=load,geometry=geometry,point=application_node_pt_1,load_object=load_x)  \n",
    "\n",
    "        application_node_pt_2 = tier_x.base.shift_x(max_x).shift_z(z)\n",
    "        tier_x0_loads = [wl for wl in tier_x.wind_loads if wl.load_case == LoadCase.WindTier_GX_Opposite]\n",
    "        for load_x in tier_x0_loads:\n",
    "            set_load_case_active(load,load_x.load_case)\n",
    "            add_point_conc_force(load=load,geometry=geometry,point=application_node_pt_2,load_object=load_x)  "
   ]
  },
  {
   "cell_type": "markdown",
   "id": "f8a43b43",
   "metadata": {},
   "source": [
    "### Post Build Script"
   ]
  },
  {
   "cell_type": "code",
   "execution_count": 34,
   "id": "aa38f85f",
   "metadata": {},
   "outputs": [],
   "source": [
    "openSTAAD.UpdateStructure()\n",
    "time.sleep(10)"
   ]
  },
  {
   "cell_type": "markdown",
   "id": "c37f332f",
   "metadata": {},
   "source": [
    "## Member Selector"
   ]
  },
  {
   "cell_type": "code",
   "execution_count": 35,
   "id": "7db5e785",
   "metadata": {},
   "outputs": [],
   "source": [
    "nodes = get_node_incidences(geometry=geometry)\n",
    "beam_objects:dict = get_beam_objects(geometry=geometry,property=None,nodes=nodes)\n",
    "beam_nos:list = list(beam_objects.keys())\n",
    "\n",
    "tier_elevations = [tier.base.y for tier in tiers]\n",
    "portal_zs = [portal.base.z for portal in portals]"
   ]
  },
  {
   "cell_type": "markdown",
   "id": "ca248d96",
   "metadata": {},
   "source": [
    "#### Steel Members"
   ]
  },
  {
   "cell_type": "code",
   "execution_count": 36,
   "id": "3cdeab47",
   "metadata": {},
   "outputs": [
    {
     "data": {
      "text/markdown": [
       "copied **762** members : 1 To 8 11 To 18 21 To 28 31 To 38 41 To 48 51 To 58 61 To 68 71 To 776"
      ],
      "text/plain": [
       "<IPython.core.display.Markdown object>"
      ]
     },
     "metadata": {},
     "output_type": "display_data"
    }
   ],
   "source": [
    "steel_members = [beam for beam in beam_objects.values() if beam.start.y >= base_point_of_first_portal.y]\n",
    "beam_list_copy_and_display([beam.id for beam in steel_members])"
   ]
  },
  {
   "cell_type": "markdown",
   "id": "830ded20",
   "metadata": {},
   "source": [
    "#### Concrete Members"
   ]
  },
  {
   "cell_type": "code",
   "execution_count": 37,
   "id": "dc37ef92",
   "metadata": {},
   "outputs": [
    {
     "data": {
      "text/markdown": [
       "copied **14** members : 9 To 10 19 To 20 29 To 30 39 To 40 49 To 50 59 To 60 69 To 70"
      ],
      "text/plain": [
       "<IPython.core.display.Markdown object>"
      ]
     },
     "metadata": {},
     "output_type": "display_data"
    }
   ],
   "source": [
    "concrete_members = [beam for beam in beam_objects.values() if beam.start.y < base_point_of_first_portal.y]\n",
    "beam_list_copy_and_display([beam.id for beam in concrete_members])"
   ]
  },
  {
   "cell_type": "markdown",
   "id": "5e030c61",
   "metadata": {},
   "source": [
    "### Material Assignment "
   ]
  },
  {
   "cell_type": "code",
   "execution_count": 38,
   "id": "97ad5f23",
   "metadata": {},
   "outputs": [],
   "source": [
    "%%capture\n",
    "assign_material_steel([beam.id for beam in steel_members])\n",
    "assign_material_concrete([beam.id for beam in concrete_members])"
   ]
  },
  {
   "cell_type": "markdown",
   "id": "a60fd99e",
   "metadata": {},
   "source": [
    "### Show Selected Members"
   ]
  },
  {
   "cell_type": "code",
   "execution_count": 39,
   "id": "9dbb9552",
   "metadata": {},
   "outputs": [
    {
     "data": {
      "text/markdown": [
       "No member selected"
      ],
      "text/plain": [
       "<IPython.core.display.Markdown object>"
      ]
     },
     "metadata": {},
     "output_type": "display_data"
    }
   ],
   "source": [
    "selected_members = get_selected_beam_nos(geometry)\n",
    "beam_list_copy_and_display(selected_members)"
   ]
  },
  {
   "cell_type": "markdown",
   "id": "929c795e",
   "metadata": {},
   "source": [
    "### Tier Details (Full)"
   ]
  },
  {
   "cell_type": "code",
   "execution_count": 40,
   "id": "a8a7147a",
   "metadata": {},
   "outputs": [],
   "source": [
    "# for tier in tiers:\n",
    "#     display(Markdown(tier.to_markdown()))"
   ]
  },
  {
   "cell_type": "markdown",
   "id": "7c437745",
   "metadata": {},
   "source": [
    "### Column Details"
   ]
  },
  {
   "cell_type": "code",
   "execution_count": 41,
   "id": "5320831c",
   "metadata": {},
   "outputs": [
    {
     "data": {
      "text/markdown": [
       "### Column Table\n",
       "| Elevation | Columns |\n",
       "|-----------|---------|\n",
       "| -2.0 | 9, 10, 19, 20, 29, 30, 39, 40, 49, 50, 59, 60, 69, 70 |\n",
       "| 0.0 | 7, 8, 17, 18, 27, 28, 37, 38, 47, 48, 57, 58, 67, 68 |\n",
       "| 4.5 | 71, 72, 87, 88, 103, 114, 125, 136, 147, 158, 169, 180, 191, 202 |\n",
       "| 7.75 | 74, 75, 90, 91, 105, 116, 127, 138, 149, 160, 171, 182, 193, 204 |\n",
       "| 10.75 | 77, 78, 93, 94, 107, 118, 129, 140, 151, 162, 173, 184, 195, 206 |\n",
       "| 13.25 | 80, 81, 96, 97, 109, 120, 131, 142, 153, 164, 175, 186, 197, 208 |\n",
       "| 16.0 | 83, 84, 99, 100, 111, 122, 133, 144, 155, 166, 177, 188, 199, 210 |\n"
      ],
      "text/plain": [
       "<IPython.core.display.Markdown object>"
      ]
     },
     "metadata": {},
     "output_type": "display_data"
    }
   ],
   "source": [
    "markdown_output = '### Column Table\\n'\n",
    "markdown_output += '| Elevation | Columns |\\n'\n",
    "markdown_output += '|-----------|---------|\\n'\n",
    "\n",
    "for z, column in columns_y.items():\n",
    "    beam_ids = ', '.join([str(beam.id) for beam in column])\n",
    "    markdown_output += f'| {z} | {beam_ids} |\\n'\n",
    "\n",
    "display(Markdown(markdown_output))"
   ]
  },
  {
   "cell_type": "markdown",
   "id": "f1a89f77",
   "metadata": {},
   "source": [
    "### Tier Details (Concise)"
   ]
  },
  {
   "cell_type": "code",
   "execution_count": 42,
   "id": "a811ebac",
   "metadata": {},
   "outputs": [
    {
     "data": {
      "text/markdown": [
       "### Tier Beams Table\n",
       "| Tier Elevation | Count | Beams |\n",
       "|-----------|---------| -------|\n",
       "| 3 | 14 | 1, 11, 21, 31, 41, 51, 61, 445, 446, 448, 450, 452, 454, 456 |\n",
       "| 6 | 14 | 2, 12, 22, 32, 42, 52, 62, 458, 459, 461, 463, 465, 467, 469 |\n",
       "| 9.5 | 14 | 3, 13, 23, 33, 43, 53, 63, 471, 474, 478, 482, 486, 490, 494 |\n",
       "| 12 | 14 | 4, 14, 24, 34, 44, 54, 64, 496, 499, 503, 507, 511, 515, 519 |\n",
       "| 14.5 | 56 | 5, 15, 25, 35, 45, 55, 65, 586, 587, 589, 591, 593, 595, 597, 599, 600, 602, 604, 606, 608, 610, 612, 613, 615, 617, 619, 621, 623, 625, 626, 628, 630, 632, 634, 636, 638, 639, 641, 643, 645, 647, 649, 651, 652, 654, 656, 658, 660, 662, 664, 665, 667, 669, 671, 673, 675 |\n",
       "| 17.5 | 14 | 6, 16, 26, 36, 46, 56, 66, 573, 574, 576, 578, 580, 582, 584 |\n"
      ],
      "text/plain": [
       "<IPython.core.display.Markdown object>"
      ]
     },
     "metadata": {},
     "output_type": "display_data"
    },
    {
     "data": {
      "text/markdown": [
       "### Tier Intermediate Beams Table\n",
       "| Tier Elevation | Count | Int. Beams |\n",
       "|-----------|---------| -------|\n",
       "| 3 | 0 | None |\n",
       "| 6 | 0 | None |\n",
       "| 9.5 | 16 | 411, 414, 417, 420, 423, 426, 472, 476, 480, 484, 488, 492, 681, 685, 687, 689 |\n",
       "| 12 | 16 | 429, 432, 435, 438, 441, 444, 497, 501, 505, 509, 513, 517, 682, 695, 697, 699 |\n",
       "| 14.5 | 0 | None |\n",
       "| 17.5 | 0 | None |\n"
      ],
      "text/plain": [
       "<IPython.core.display.Markdown object>"
      ]
     },
     "metadata": {},
     "output_type": "display_data"
    }
   ],
   "source": [
    "markdown_output = '### Tier Beams Table\\n'\n",
    "markdown_output += '| Tier Elevation | Count | Beams |\\n'\n",
    "markdown_output += '|-----------|---------| -------|\\n'\n",
    "\n",
    "for tier_x in tiers:\n",
    "    markdown_output += tier_x.beams_to_markdown()\n",
    "\n",
    "display(Markdown(markdown_output))\n",
    "\n",
    "markdown_output = '### Tier Intermediate Beams Table\\n'\n",
    "markdown_output += '| Tier Elevation | Count | Int. Beams |\\n'\n",
    "markdown_output += '|-----------|---------| -------|\\n'\n",
    "\n",
    "for tier_x in tiers:\n",
    "    markdown_output += tier_x.int_beams_to_markdown()\n",
    "\n",
    "display(Markdown(markdown_output))"
   ]
  },
  {
   "cell_type": "markdown",
   "id": "cab336ac",
   "metadata": {},
   "source": [
    "### Vertical Braces"
   ]
  },
  {
   "cell_type": "code",
   "execution_count": 43,
   "id": "e4c531e9",
   "metadata": {},
   "outputs": [
    {
     "data": {
      "text/markdown": [
       "### Vertical Braces\n",
       "| Elevation | Braces |\n",
       "|-----------|---------|\n",
       "| 0.0 | 214, 215, 219, 220, 224, 225, 229, 230 |\n",
       "| 7.75 | 216, 217, 221, 222, 226, 227, 231, 232, 234, 235, 239, 240, 244, 245, 249, 250, 683, 684 |\n",
       "| 10.75 | 693, 694 |\n",
       "| 13.25 | 236, 237, 241, 242, 246, 247, 251, 252, 254, 255, 263, 264, 272, 273, 281, 282 |\n",
       "| 16.0 | 260, 261, 269, 270, 278, 279, 287, 288 |\n",
       "| 17.5 | 257, 259, 266, 268, 275, 277, 284, 286 |\n"
      ],
      "text/plain": [
       "<IPython.core.display.Markdown object>"
      ]
     },
     "metadata": {},
     "output_type": "display_data"
    }
   ],
   "source": [
    "vertical_braces = [beam for beam in beam_objects.values() if (not beam.start.eq_y(beam.end) and beam.start.eq_x(beam.end) and not beam.start.eq_z(beam.end))]\n",
    "\n",
    "columns_z = defaultdict(list)\n",
    "for beam in vertical_braces:\n",
    "    columns_z[beam.start.y].append(beam)\n",
    "\n",
    "markdown_output = '### Vertical Braces\\n'\n",
    "markdown_output += '| Elevation | Braces |\\n'\n",
    "markdown_output += '|-----------|---------|\\n'\n",
    "for z in sorted(columns_z.keys()):  # Sort elevations in ascending order\n",
    "    beam_ids = ', '.join([str(beam.id) for beam in columns_z[z]])\n",
    "    markdown_output += f'| {z} | {beam_ids} |\\n'\n",
    "\n",
    "display(Markdown(markdown_output))\n"
   ]
  },
  {
   "cell_type": "markdown",
   "id": "ab1e523b",
   "metadata": {},
   "source": [
    "### Plan Braces"
   ]
  },
  {
   "cell_type": "code",
   "execution_count": 44,
   "id": "4ef1009e",
   "metadata": {},
   "outputs": [
    {
     "data": {
      "text/markdown": [
       "### Plan Braces\n",
       "| Elevation | Braces |\n",
       "|-----------|---------|\n",
       "| 0.0 | 214, 215, 219, 220, 224, 225, 229, 230 |\n",
       "| 7.75 | 216, 217, 221, 222, 226, 227, 231, 232, 234, 235, 239, 240, 244, 245, 249, 250, 683, 684 |\n",
       "| 10.75 | 693, 694 |\n",
       "| 13.25 | 236, 237, 241, 242, 246, 247, 251, 252, 254, 255, 263, 264, 272, 273, 281, 282 |\n",
       "| 16.0 | 260, 261, 269, 270, 278, 279, 287, 288 |\n",
       "| 17.5 | 257, 259, 266, 268, 275, 277, 284, 286 |\n"
      ],
      "text/plain": [
       "<IPython.core.display.Markdown object>"
      ]
     },
     "metadata": {},
     "output_type": "display_data"
    }
   ],
   "source": [
    "plan_braces = [beam for beam in beam_objects.values() if (beam.start.eq_y(beam.end) and not beam.start.eq_x(beam.end) and not beam.start.eq_z(beam.end))]\n",
    "\n",
    "from collections import defaultdict\n",
    "columns_z = defaultdict(list)\n",
    "for beam in vertical_braces:\n",
    "    columns_z[beam.start.y].append(beam)\n",
    "\n",
    "markdown_output = '### Plan Braces\\n'\n",
    "markdown_output += '| Elevation | Braces |\\n'\n",
    "markdown_output += '|-----------|---------|\\n'\n",
    "for z in sorted(columns_z.keys()):  # Sort elevations in ascending order\n",
    "    beam_ids = ', '.join([str(beam.id) for beam in columns_z[z]])\n",
    "    markdown_output += f'| {z} | {beam_ids} |\\n'\n",
    "\n",
    "display(Markdown(markdown_output))"
   ]
  },
  {
   "cell_type": "markdown",
   "id": "65315e56",
   "metadata": {},
   "source": [
    "### Flare Support Beams"
   ]
  },
  {
   "cell_type": "code",
   "execution_count": 45,
   "id": "6c65cd0e",
   "metadata": {},
   "outputs": [
    {
     "data": {
      "text/markdown": [
       "### Flare Beams \n",
       "| Elevation | Flare Long Beams |\n",
       "|-----------|---------|\n",
       "| 17.5 | 575, 577, 579, 581, 583, 585, 775, 776 |\n"
      ],
      "text/plain": [
       "<IPython.core.display.Markdown object>"
      ]
     },
     "metadata": {},
     "output_type": "display_data"
    },
    {
     "data": {
      "text/markdown": [
       "copied **8** members : 575 577 579 581 583 585 775 To 776"
      ],
      "text/plain": [
       "<IPython.core.display.Markdown object>"
      ]
     },
     "metadata": {},
     "output_type": "display_data"
    }
   ],
   "source": [
    "member_ids = {tier.base.y : [] for tier in tiers if tier.tier_type == TierType.Flare}\n",
    "for tier_x in tiers:\n",
    "    tier_long_beams = [beam for beam in beam_objects.values() if (beam.start.eq_y(tier_x.base) and beam.start.eq_x(beam.end))]\n",
    "    if tier_x.tier_type == TierType.Flare:\n",
    "        for flare in flares:\n",
    "            if flare.support_member and flare.lines:\n",
    "                for line in flare.lines:\n",
    "                    if(line.start.eq_y(tier_x.base)):\n",
    "                        selected_long_beams = [beam for beam in tier_long_beams if beam.start.eq_x(line.start)]\n",
    "                        member_ids[tier_x.base.y].extend(selected_long_beams)\n",
    "                        flare.add_members(selected_long_beams)\n",
    "\n",
    "markdown_output = '### Flare Beams \\n'\n",
    "markdown_output += '| Elevation | Flare Long Beams |\\n'\n",
    "markdown_output += '|-----------|---------|\\n'\n",
    "for z in sorted(member_ids.keys()):  # Sort elevations in ascending order\n",
    "    beam_ids = ', '.join([str(beam.id) for beam in member_ids[z]])\n",
    "    markdown_output += f'| {z} | {beam_ids} |\\n'\n",
    "\n",
    "display(Markdown(markdown_output))\n",
    "beam_list_copy_and_display([beam.id for flare in flares for beam in flare.members])"
   ]
  },
  {
   "cell_type": "markdown",
   "id": "ab2945f7",
   "metadata": {},
   "source": [
    "#### Flare Loads"
   ]
  },
  {
   "cell_type": "code",
   "execution_count": 46,
   "id": "c2f6342a",
   "metadata": {},
   "outputs": [],
   "source": [
    "flares_w_support = [flare for flare in flares if flare.support_member]\n",
    "\n",
    "for flare in flares_w_support:\n",
    "    flare.loads.append(uniform_operating_load.set_force_value(flare.design_load*-1))\n",
    "    flare.loads.append(uniform_empty_load.set_force_value(flare.design_load*-0.4))\n",
    "    flare.loads.append(uniform_tg_gx.set_force_value(flare.design_load*0.3))\n",
    "    flare.loads.append(uniform_tl_gx.set_force_value(flare.design_load*0.3))\n",
    "    flare.loads.append(uniform_tg_gz.set_force_value(flare.design_load*0.3))\n",
    "    flare.loads.append(uniform_tl_gz.set_force_value(flare.design_load*0.3))\n",
    "\n",
    "    for f_load in flare.loads:\n",
    "        set_load_case_active(load,f_load.load_case)\n",
    "        add_uniform_forces_to_members(flare.members,f_load)"
   ]
  },
  {
   "cell_type": "code",
   "execution_count": 47,
   "id": "9f74bbf8",
   "metadata": {},
   "outputs": [],
   "source": [
    "\n",
    "flares_wo_support = [flare for flare in flares if (not flare.support_member)]\n",
    "\n",
    "for flare in flares_wo_support:\n",
    "    for portal_i in range(len(portals)):\n",
    "        current_portal = portals[portal_i]\n",
    "        previous_portal = portals[portal_i - 1] if portal_i > 0 else None\n",
    "        next_portal = portals[portal_i + 1] if portal_i < len(portals) - 1 else None\n",
    "        \n",
    "        dist_1 = previous_portal.base.distance_to(current_portal.base) if previous_portal else max_portal_to_portal\n",
    "        dist_2 = next_portal.base.distance_to(current_portal.base) if next_portal else max_portal_to_portal\n",
    "        load_span = avg([dist_1,dist_2])\n",
    "\n",
    "        load_point = current_portal.base.shift_x(flare.lines[0].start.x).shift_y(flare.lines[0].start.y)\n",
    "\n",
    "        flare_loads = [\n",
    "            conc_operating_load.set_global_apply_point(load_point).set_force_value(flare.design_load*load_span*-1),\n",
    "            conc_empty_load.set_global_apply_point(load_point).set_force_value(flare.design_load*load_span*-0.4),\n",
    "            conc_tg_gx.set_global_apply_point(load_point).set_force_value(flare.design_load*load_span*0.3),\n",
    "            conc_tg_gz.set_global_apply_point(load_point).set_force_value(flare.design_load*load_span*0.3),\n",
    "            conc_tl_gx.set_global_apply_point(load_point).set_force_value(flare.design_load*load_span*0.3),\n",
    "            conc_tl_gz.set_global_apply_point(load_point).set_force_value(flare.design_load*load_span*0.3),\n",
    "        ]\n",
    "        \n",
    "        current_portal_beam_nos = portal_tier_beams[current_portal.base.z][tier_x.base.y]\n",
    "        for beam_no in current_portal_beam_nos:\n",
    "            beam_line = beam_objects[beam_no].get_line()\n",
    "            for flare_load_x in flare_loads:\n",
    "                if beam_line and flare_load_x.set_d1_from_global_point(beam_line):\n",
    "                    set_load_case_active(load=load,load_case_no=flare_load_x.load_case)\n",
    "                    add_member_conc_force(load=load,BeamNo=beam_no,load_object=flare_load_x)"
   ]
  },
  {
   "cell_type": "markdown",
   "id": "7eb190e9",
   "metadata": {},
   "source": [
    "### WW Beams"
   ]
  },
  {
   "cell_type": "code",
   "execution_count": 48,
   "id": "b3ab2af6",
   "metadata": {},
   "outputs": [
    {
     "data": {
      "text/markdown": [
       "### WW Beams \n",
       "| Elevation | WW Long Beams |\n",
       "|-----------|---------|\n",
       "| 14.5 | 627, 629, 631, 633, 635, 637, 640, 642, 644, 646, 648, 650, 653, 655, 657, 659, 661, 663, 666, 668, 670, 672, 674, 676 |\n"
      ],
      "text/plain": [
       "<IPython.core.display.Markdown object>"
      ]
     },
     "metadata": {},
     "output_type": "display_data"
    },
    {
     "data": {
      "text/markdown": [
       "copied **24** members : 627 629 631 633 635 637 640 642 644 646 648 650 653 655 657 659 661 663 666 668 670 672 674 676"
      ],
      "text/plain": [
       "<IPython.core.display.Markdown object>"
      ]
     },
     "metadata": {},
     "output_type": "display_data"
    }
   ],
   "source": [
    "member_ids = {tier.base.y : [] for tier in tiers if tier.tier_type == TierType.ElectricalIntrumentation}\n",
    "for tier_x in tiers:\n",
    "    tier_long_beams = [beam for beam in beam_objects.values() if (beam.start.eq_y(tier_x.base) and beam.start.eq_x(beam.end))]\n",
    "    if tier_x.tier_type == TierType.ElectricalIntrumentation:\n",
    "        for ww in walkways:\n",
    "            for line in ww.get_member_lines():\n",
    "                if(line.start.eq_y(tier_x.base)):\n",
    "                    selected_long_beams = [beam for beam in tier_long_beams if beam.start.eq_x(line.start)]\n",
    "                    member_ids[tier_x.base.y].extend(selected_long_beams)\n",
    "                    ww.add_members(selected_long_beams)\n",
    "\n",
    "markdown_output = '### WW Beams \\n'\n",
    "markdown_output += '| Elevation | WW Long Beams |\\n'\n",
    "markdown_output += '|-----------|---------|\\n'\n",
    "for z in sorted(member_ids.keys()):  # Sort elevations in ascending order\n",
    "    beam_ids = ', '.join([str(beam.id) for beam in member_ids[z]])\n",
    "    markdown_output += f'| {z} | {beam_ids} |\\n'\n",
    "\n",
    "display(Markdown(markdown_output))\n",
    "beam_list_copy_and_display([beam.id for obj in walkways for beam in obj.members])"
   ]
  },
  {
   "cell_type": "markdown",
   "id": "c125b435",
   "metadata": {},
   "source": [
    "#### WW Loads"
   ]
  },
  {
   "cell_type": "code",
   "execution_count": 49,
   "id": "9390935f",
   "metadata": {},
   "outputs": [],
   "source": [
    "for ww in walkways:\n",
    "    ww_load = ww.get_uniform_load()\n",
    "    set_load_case_active(load,ww_load.load_case)\n",
    "    add_uniform_forces_to_members(ww.members,ww_load)"
   ]
  },
  {
   "cell_type": "markdown",
   "id": "ed21a731",
   "metadata": {},
   "source": [
    "### Duct Support Beams"
   ]
  },
  {
   "cell_type": "code",
   "execution_count": 50,
   "id": "bc69aa45",
   "metadata": {},
   "outputs": [
    {
     "data": {
      "text/markdown": [
       "### Duct Beams \n",
       "| Elevation | Duct Long Beams |\n",
       "|-----------|---------|\n",
       "| 14.5 | 601, 603, 605, 607, 609, 611, 614, 616, 618, 620, 622, 624 |\n"
      ],
      "text/plain": [
       "<IPython.core.display.Markdown object>"
      ]
     },
     "metadata": {},
     "output_type": "display_data"
    },
    {
     "data": {
      "text/markdown": [
       "copied **12** members : 601 603 605 607 609 611 614 616 618 620 622 624"
      ],
      "text/plain": [
       "<IPython.core.display.Markdown object>"
      ]
     },
     "metadata": {},
     "output_type": "display_data"
    }
   ],
   "source": [
    "member_ids = {tier.base.y : [] for tier in tiers if tier.tier_type == TierType.ElectricalIntrumentation}\n",
    "for tier_x in tiers:\n",
    "    tier_long_beams = [beam for beam in beam_objects.values() if (beam.start.eq_y(tier_x.base) and beam.start.eq_x(beam.end))]\n",
    "    if tier_x.tier_type == TierType.ElectricalIntrumentation:\n",
    "        for duct in ducts:\n",
    "            for line in duct.get_member_lines():\n",
    "                if(line.start.eq_y(tier_x.base)):\n",
    "                    selected_long_beams = [beam for beam in tier_long_beams if beam.start.eq_x(line.start)]\n",
    "                    member_ids[tier_x.base.y].extend(selected_long_beams)\n",
    "                    duct.add_members(selected_long_beams)\n",
    "\n",
    "markdown_output = '### Duct Beams \\n'\n",
    "markdown_output += '| Elevation | Duct Long Beams |\\n'\n",
    "markdown_output += '|-----------|---------|\\n'\n",
    "for z in sorted(member_ids.keys()):  # Sort elevations in ascending order\n",
    "    beam_ids = ', '.join([str(beam.id) for beam in member_ids[z]])\n",
    "    markdown_output += f'| {z} | {beam_ids} |\\n'\n",
    "\n",
    "display(Markdown(markdown_output))\n",
    "beam_list_copy_and_display([beam.id for obj in ducts for beam in obj.members])"
   ]
  },
  {
   "cell_type": "markdown",
   "id": "e152708c",
   "metadata": {},
   "source": [
    "#### Duct Loads"
   ]
  },
  {
   "cell_type": "code",
   "execution_count": 51,
   "id": "17d087ce",
   "metadata": {},
   "outputs": [],
   "source": [
    "for duct in ducts:\n",
    "    duct_load = duct.get_uniform_load()\n",
    "    set_load_case_active(load,duct_load.load_case)\n",
    "    add_uniform_forces_to_members(duct.members,duct_load)"
   ]
  },
  {
   "cell_type": "markdown",
   "id": "113775b9",
   "metadata": {},
   "source": [
    "### Tree Support Beams"
   ]
  },
  {
   "cell_type": "code",
   "execution_count": 52,
   "id": "75dfee57",
   "metadata": {},
   "outputs": [
    {
     "data": {
      "text/markdown": [
       "### Tree Beams \n",
       "| Elevation | Long Beams |\n",
       "|-----------|---------|\n",
       "| 14.5 | 588, 590, 592, 594, 596, 598, 773, 774 |\n"
      ],
      "text/plain": [
       "<IPython.core.display.Markdown object>"
      ]
     },
     "metadata": {},
     "output_type": "display_data"
    },
    {
     "data": {
      "text/markdown": [
       "copied **8** members : 588 590 592 594 596 598 773 To 774"
      ],
      "text/plain": [
       "<IPython.core.display.Markdown object>"
      ]
     },
     "metadata": {},
     "output_type": "display_data"
    }
   ],
   "source": [
    "member_ids = {tier.base.y : [] for tier in tiers if tier.tier_type == TierType.ElectricalIntrumentation}\n",
    "for tier_x in tiers:\n",
    "    tier_long_beams = [beam for beam in beam_objects.values() if (beam.start.eq_y(tier_x.base) and beam.start.eq_x(beam.end))]\n",
    "    if tier_x.tier_type == TierType.ElectricalIntrumentation:\n",
    "        for tree_x in electric_trees:\n",
    "            if(tree_x.line.start.eq_y(tier_x.base)):\n",
    "                selected_long_beams = [beam for beam in tier_long_beams if beam.start.eq_x(tree_x.line.start)]\n",
    "                member_ids[tier_x.base.y].extend(selected_long_beams)\n",
    "                tree_x.add_members(selected_long_beams)\n",
    "\n",
    "markdown_output = '### Tree Beams \\n'\n",
    "markdown_output += '| Elevation | Long Beams |\\n'\n",
    "markdown_output += '|-----------|---------|\\n'\n",
    "for z in sorted(member_ids.keys()):  # Sort elevations in ascending order\n",
    "    beam_ids = ', '.join([str(beam.id) for beam in member_ids[z]])\n",
    "    markdown_output += f'| {z} | {beam_ids} |\\n'\n",
    "\n",
    "display(Markdown(markdown_output))\n",
    "beam_list_copy_and_display([beam.id for obj in electric_trees for beam in obj.members])"
   ]
  },
  {
   "cell_type": "markdown",
   "id": "7eaefc6c",
   "metadata": {},
   "source": [
    "#### Tree Loads"
   ]
  },
  {
   "cell_type": "code",
   "execution_count": 53,
   "id": "f26b7e28",
   "metadata": {},
   "outputs": [],
   "source": [
    "for tree_x in electric_trees:\n",
    "    tree_base_load = tree_x.get_tree_load()\n",
    "    set_load_case_active(load,tree_base_load.load_case)\n",
    "    tree_loads_bw_portals = []\n",
    "\n",
    "    sorted_tree_supports = sorted(tree_x.members,key=lambda beam:beam.start.z)\n",
    "    \n",
    "    support_on_portal_members = [beam for beam in sorted_tree_supports if beam.start.z in portal_z_set]\n",
    "    support_on_portal_members_set = set(support_on_portal_members)\n",
    "    \n",
    "    # loads b/w portals\n",
    "    for first, second in zip(portal_zs, portal_zs[1:]):\n",
    "        # Access first and second items here\n",
    "        distance = abs(first-second)\n",
    "        no_trees = math.ceil(distance / tree_x.tree_to_tree_distance)\n",
    "        tree_to_tree_distance_alloted = round(distance/no_trees,3)\n",
    "        for i in range(1,no_trees):\n",
    "            tree_z = first + tree_to_tree_distance_alloted*i\n",
    "            # display(str(tree_base_load.set_global_apply_point(tree_x.line.start.shift_z(tree_z))))\n",
    "            tree_loads_bw_portals.append(tree_base_load.set_global_apply_point(tree_x.line.start.shift_z(tree_z)))\n",
    "    \n",
    "    #loads on portal\n",
    "    for member in sorted_tree_supports:\n",
    "        if member in support_on_portal_members_set:\n",
    "            add_member_conc_force(load=load,BeamNo=member.id,load_object=tree_base_load)\n",
    "\n",
    "        for tree_load_x in tree_loads_bw_portals:\n",
    "            if(tree_load_x.set_d1_from_global_point(member.get_line())):\n",
    "                add_member_conc_force(load=load,BeamNo=member.id,load_object=tree_load_x)\n",
    "                # tree_loads_bw_portals.remove(tree_load_x)\n",
    "                \n",
    "    # Load on last member\n",
    "    add_member_conc_force(load=load,BeamNo=support_on_portal_members[-1].id,load_object=tree_base_load.set_d1(support_on_portal_members[-1].length()))"
   ]
  },
  {
   "cell_type": "markdown",
   "id": "21deeb21",
   "metadata": {},
   "source": [
    "## Parameter Selector"
   ]
  },
  {
   "cell_type": "code",
   "execution_count": 54,
   "id": "da8ac1d1",
   "metadata": {},
   "outputs": [],
   "source": [
    "secondary_members = []\n",
    "secondary_members.extend(stubs_column_nos)\n",
    "secondary_members.extend([beam.id for tier in tiers for beam in tier.int_beams])\n",
    "\n",
    "primary_members = list(set(beam_nos) - set(secondary_members))"
   ]
  },
  {
   "cell_type": "markdown",
   "id": "9df2c140",
   "metadata": {},
   "source": [
    "### Parameter 1 & 3"
   ]
  },
  {
   "cell_type": "code",
   "execution_count": null,
   "id": "c5a055d1",
   "metadata": {},
   "outputs": [
    {
     "data": {
      "text/markdown": [
       "copied **660** members : 1 To 290 292 To 293 295 297 299 To 300 302 To 303 305 To 306 308 To 309 311 313 315 To 316 318 To 319 321 323 327 329 331 333 337 339 341 343 345 347 349 351 353 355 357 359 361 363 365 367 371 373 375 377 381 383 385 387 389 391 393 395 397 399 401 403 405 407 445 To 471 473 To 475 477 To 479 481 To 483 485 To 487 489 To 491 493 To 496 498 To 500 502 To 504 506 To 508 510 To 512 514 To 516 518 To 680 683 To 684 686 688 690 To 694 696 698 700 To 776"
      ],
      "text/plain": [
       "<IPython.core.display.Markdown object>"
      ]
     },
     "metadata": {},
     "output_type": "display_data"
    }
   ],
   "source": [
    "# select_beams(primary_members)\n",
    "beam_list_copy_and_display(primary_members)"
   ]
  },
  {
   "cell_type": "markdown",
   "id": "a5d8568d",
   "metadata": {},
   "source": [
    "### Parameter 2 & 4"
   ]
  },
  {
   "cell_type": "code",
   "execution_count": null,
   "id": "f89b018b",
   "metadata": {},
   "outputs": [
    {
     "data": {
      "text/markdown": [
       "copied **116** members : 291 294 296 298 301 304 307 310 312 314 317 320 322 324 To 326 328 330 332 334 To 336 338 340 342 344 346 348 350 352 354 356 358 360 362 364 366 368 To 370 372 374 376 378 To 380 382 384 386 388 390 392 394 396 398 400 402 404 406 408 To 444 472 476 480 484 488 492 497 501 505 509 513 517 681 To 682 685 687 689 695 697 699"
      ],
      "text/plain": [
       "<IPython.core.display.Markdown object>"
      ]
     },
     "metadata": {},
     "output_type": "display_data"
    }
   ],
   "source": [
    "# select_beams(secondary_members)\n",
    "beam_list_copy_and_display(secondary_members)"
   ]
  }
 ],
 "metadata": {
  "kernelspec": {
   "display_name": ".venv",
   "language": "python",
   "name": "python3"
  },
  "language_info": {
   "codemirror_mode": {
    "name": "ipython",
    "version": 3
   },
   "file_extension": ".py",
   "mimetype": "text/x-python",
   "name": "python",
   "nbconvert_exporter": "python",
   "pygments_lexer": "ipython3",
   "version": "3.13.3"
  }
 },
 "nbformat": 4,
 "nbformat_minor": 5
}
