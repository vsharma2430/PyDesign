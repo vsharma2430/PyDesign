{
 "cells": [
  {
   "cell_type": "markdown",
   "id": "14efdbc5",
   "metadata": {},
   "source": [
    "# Piperack Generator\n",
    "\n",
    "## Module imports and connection to STAAD"
   ]
  },
  {
   "cell_type": "code",
   "execution_count": null,
   "id": "8c048019",
   "metadata": {},
   "outputs": [],
   "source": [
    "from base.helper.general import *\n",
    "from base.geometry_base.rectangle import *\n",
    "from base.staad_base.geometry import *\n",
    "from base.structural_elements.beam import *\n",
    "from base.structural_elements.column import *\n",
    "from base.structural_elements.brace import *\n",
    "from base.piperack.portal import *\n",
    "from base.piperack.piperack import *\n",
    "from base.piperack.tier import *\n",
    "from base.staad_base.load import *\n",
    "from base.staad_base.design import *\n",
    "from base.staad_base.property import *\n",
    "from output.md_output import *\n",
    "\n",
    "from base.staad_base.optimise_member import *\n",
    "from IPython.display import display, Markdown\n",
    "from pyperclip import copy\n",
    "\n",
    "openSTAAD,STAAD_objects = get_openSTAAD()\n",
    "\n",
    "geometry = STAAD_objects.geometry\n",
    "property = STAAD_objects.property\n",
    "output = STAAD_objects.output\n",
    "support = STAAD_objects.support\n",
    "load = STAAD_objects.load\n",
    "\n",
    "add_beams = add_beams(geometry=geometry)\n",
    "assign_profile = assign_profile(property=property)\n",
    "assign_specification = assign_specification(property=property)"
   ]
  },
  {
   "cell_type": "markdown",
   "id": "24ca63d2",
   "metadata": {},
   "source": [
    "## Inputs\n",
    "\n",
    "### Steel"
   ]
  },
  {
   "cell_type": "code",
   "execution_count": null,
   "id": "ece92229",
   "metadata": {},
   "outputs": [],
   "source": [
    "base_point_of_first_portal = Point3D(0,0,0)\n",
    "width_of_piperack = 8\n",
    "portal_distances = [0,8,16,24,30,36,42]\n",
    "column_distances = [0,width_of_piperack]\n",
    "tier_elevations = [3,6,9,12,14]\n",
    "long_beam_elevations = [4.5,7.5,10.5,tier_elevations[-1]]\n",
    "braces_placement = [False,True,False,False,True,False]\n",
    "brace_pattern = BracePattern.X_Pattern"
   ]
  },
  {
   "cell_type": "markdown",
   "id": "7a4d76cc",
   "metadata": {},
   "source": [
    "### Concrete"
   ]
  },
  {
   "cell_type": "code",
   "execution_count": null,
   "id": "ff469aec",
   "metadata": {},
   "outputs": [],
   "source": [
    "pedestal_height = 2\n",
    "pedestal_offset = 1"
   ]
  },
  {
   "cell_type": "markdown",
   "id": "5b87d128",
   "metadata": {},
   "source": [
    "## Generator Code\n",
    "\n",
    "### Profiles"
   ]
  },
  {
   "cell_type": "code",
   "execution_count": null,
   "id": "92ab81d6",
   "metadata": {},
   "outputs": [],
   "source": [
    "concrete_profile_list = {\n",
    "    PiperackMembers.Pedestals : Rectangle(1.2,0.8)\n",
    "}\n",
    "\n",
    "steel_profile_list = {\n",
    "    PiperackMembers.Columns : 'ISMB600',\n",
    "    PiperackMembers.TierBeams : 'ISMB500',\n",
    "    PiperackMembers.LongitudinalBeams : 'ISMB600',\n",
    "    PiperackMembers.PlanBracing : 'ISA100x100x6',\n",
    "    PiperackMembers.VerticalBracing : 'ISA150x150x10',\n",
    "    PiperackMembers.Stubs : 'ISMB500',\n",
    "    PiperackMembers.IntermediateTransverseBeams : 'ISMB500',\n",
    "    PiperackMembers.IntermediateLongitudinalBeams : 'ISMB400'\n",
    "}\n",
    "\n",
    "profile_ids = {}\n",
    "\n",
    "for member_type,profile in concrete_profile_list.items():\n",
    "    if ((isinstance(profile, str) and profile.isdigit()) or isinstance(profile, (int, float))):\n",
    "        profile_ids[member_type] = int(profile)\n",
    "    else:\n",
    "        profile_ids[member_type] = create_concrete_beam_property(property,profile)\n",
    "\n",
    "for member_type,profile in steel_profile_list.items():\n",
    "    if ((isinstance(profile, str) and profile.isdigit()) or isinstance(profile, (int, float))):\n",
    "        profile_ids[member_type] = int(profile)\n",
    "    else:\n",
    "        profile_ids[member_type] = create_steel_beam_property(property,10,profile,0,0,0)\n",
    "        \n",
    "display(Markdown(create_profile_markdown_table(concrete_profile_list, steel_profile_list, profile_ids)))"
   ]
  },
  {
   "cell_type": "markdown",
   "id": "74add01a",
   "metadata": {},
   "source": [
    "### Supports"
   ]
  },
  {
   "cell_type": "code",
   "execution_count": null,
   "id": "a7fc061f",
   "metadata": {},
   "outputs": [],
   "source": [
    "support_id = support.CreateSupportFixed()"
   ]
  },
  {
   "cell_type": "markdown",
   "id": "00bfc65b",
   "metadata": {},
   "source": [
    "### Specifications\n",
    "\n",
    "#### Releases"
   ]
  },
  {
   "cell_type": "code",
   "execution_count": null,
   "id": "54a10547",
   "metadata": {},
   "outputs": [],
   "source": [
    "start_release_spec = property.CreateMemberReleaseSpec(0,set_DOFReleaseArray())\n",
    "end_release_spec = property.CreateMemberReleaseSpec(1,set_DOFReleaseArray())\n",
    "set_start_end_release = get_start_end_release_function(property=property,start_release_spec=start_release_spec,end_release_spec=end_release_spec)"
   ]
  },
  {
   "cell_type": "markdown",
   "id": "11a0aec8",
   "metadata": {},
   "source": [
    "#### Truss and Offset"
   ]
  },
  {
   "cell_type": "code",
   "execution_count": null,
   "id": "59a2bd75",
   "metadata": {},
   "outputs": [],
   "source": [
    "truss_spec = property.CreateMemberTrussSpec()\n",
    "member_offset_spec = property.CreateMemberOffsetSpec(0,0,0,1,0)\n",
    "\n",
    "display(Markdown(create_spec_markdown_table(start_release_spec,end_release_spec,truss_spec,member_offset_spec)))"
   ]
  },
  {
   "cell_type": "markdown",
   "id": "f16fe82c",
   "metadata": {},
   "source": [
    "## Member Creation\n",
    "\n",
    "### Primary Members"
   ]
  },
  {
   "cell_type": "code",
   "execution_count": null,
   "id": "32e0aec2",
   "metadata": {},
   "outputs": [],
   "source": [
    "portals = []\n",
    "longitudinal_beams = []\n",
    "stubs = []\n",
    "intermediate_transverse_beams = []\n",
    "intermediate_long_beams = []\n",
    "plan_braces = []\n",
    "vertical_braces = []\n",
    "portal_beam_ids = [] \n",
    "portal_column_ids = [] \n",
    "portal_pedestal_ids = [] \n",
    "support_node_ids = []\n",
    "long_beam_ids = [] \n",
    "stub_ids = []\n",
    "intermediate_transverse_ids = []\n",
    "intermediate_long_ids = []\n",
    "plan_brace_ids = []\n",
    "vertical_brace_ids = []\n",
    "portal_count = len(portal_distances)\n",
    "\n",
    "# Create first portal\n",
    "portal : PiperackPortal = PiperackPortal(base=base_point_of_first_portal) \n",
    "for column in column_distances:\n",
    "    support_point = Point3D(column,0,0)-Point3D(0,pedestal_height,0)\n",
    "    portal.add_pedestal(Column3D(base=support_point,height=pedestal_height))\n",
    "    portal.add_column(Column3D(base=Point3D(column,0,0),height=tier_elevations[-1])) \n",
    "    \n",
    "for tier in tier_elevations:\n",
    "    for column_i in range(len(column_distances)-1):\n",
    "        portal.add_beam(Beam3D(start=Point3D(column_distances[column_i],tier,0),end=Point3D(column_distances[column_i+1],tier,0))) \n",
    "\n",
    "# Create all portals by shifting the first portal\n",
    "portals = [portal.shift(Point3D(0,0,dist)) for dist in portal_distances]\n",
    "\n",
    "# Create longitudinal beams between portals\n",
    "for portal_i in range(len(portals)-1):\n",
    "    for column in column_distances:\n",
    "        for long_beam in long_beam_elevations:\n",
    "            long_beam_x = Beam3D(start=Point3D(column,long_beam,portals[portal_i].base.z),end=Point3D(column,long_beam,portals[portal_i+1].base.z))\n",
    "            longitudinal_beams.append(long_beam_x)\n",
    "    \n",
    "# Add portal members to model and collect IDs\n",
    "for portal in portals:\n",
    "    portal_beam_ids = [*portal_beam_ids,*add_beams(portal.beams)]\n",
    "    portal_column_ids = [*portal_column_ids,*add_beams(portal.columns)]\n",
    "    portal_pedestal_ids = [*portal_pedestal_ids,*add_beams(portal.pedestals)]\n",
    "\n",
    "# Assign profiles to portal members\n",
    "portal_beam_assign = assign_profile(portal_beam_ids,profile_ids[PiperackMembers.TierBeams])\n",
    "portal_column_assign = assign_profile(portal_column_ids,profile_ids[PiperackMembers.Columns])\n",
    "portal_pedestal_assign = assign_profile(portal_pedestal_ids,profile_ids[PiperackMembers.Pedestals])\n",
    "\n",
    "# Add longitudinal beams and assign properties\n",
    "long_beam_ids = add_beams(longitudinal_beams)\n",
    "long_release = set_start_end_release(long_beam_ids)\n",
    "long_assign = assign_profile(long_beam_ids,profile_ids[PiperackMembers.LongitudinalBeams])\n",
    "\n",
    "# Add support nodes\n",
    "for portal in portals:\n",
    "    for pedestal in portal.pedestals:\n",
    "        support_node_ids.append(add_support_node(geometry,support,pedestal.start,support_id))\n",
    "\n",
    "# Assign specifications\n",
    "assign_specification(portal_pedestal_ids,member_offset_spec)\n",
    "\n",
    "# Create comprehensive markdown table\n",
    "markdown_output = \"## Primary Members Created\\n\\n\"\n",
    "markdown_output += \"| Member Types     | IDs                  | Profile Assignment     | Release Assignment     | Notes |\\n\"\n",
    "markdown_output += \"| ---              | ---                  | ---                    | ---                    | ---   |\\n\"\n",
    "markdown_output += f\"| Portal Columns   | {portal_column_ids}  | {portal_column_assign} | -                      | Vertical support members |\\n\"\n",
    "markdown_output += f\"| Portal Pedestals | {portal_pedestal_ids}| {portal_pedestal_assign}| -                     | Foundation connections |\\n\"\n",
    "markdown_output += f\"| Portal Beams     | {portal_beam_ids}    | {portal_beam_assign}   | -                      | Transverse tier beams |\\n\"\n",
    "markdown_output += f\"| Long Beams       | {long_beam_ids}      | {long_assign}          | {long_release}         | Longitudinal beams between portals |\\n\"\n",
    "markdown_output += f\"| Support Nodes    | {support_node_ids}   | -                      | -                      | Foundation support points |\\n\"\n",
    "\n",
    "display(Markdown(markdown_output))"
   ]
  },
  {
   "cell_type": "markdown",
   "id": "38b95ad3",
   "metadata": {},
   "source": [
    "### Secondary Members"
   ]
  },
  {
   "cell_type": "code",
   "execution_count": null,
   "id": "78eb4c87",
   "metadata": {},
   "outputs": [],
   "source": [
    "# Group longitudinal beams by Y coordinate\n",
    "long_beams_y = group_beams_by_y(longitudinal_beams)\n",
    "\n",
    "# Create vertical braces    \n",
    "if(brace_pattern == BracePattern.V_Pattern):\n",
    "    previous_y = None\n",
    "    for y_i,group_y in long_beams_y.items():\n",
    "        base = portal.base.y if not previous_y else previous_y\n",
    "        long_beams_sorted = beams_sorted_yxz(group_y)\n",
    "\n",
    "        for beam_i in range(len(long_beams_sorted)-1):\n",
    "            portal_i = beam_i%(len(portals)-1)\n",
    "            if(braces_placement[portal_i]):\n",
    "                \n",
    "                long_beam_i : Beam3D = long_beams_sorted[beam_i]\n",
    "\n",
    "                vb_1 = Beam3D(  start=Point3D(long_beam_i.start.x,base,long_beam_i.start.z),\n",
    "                                end=long_beam_i.mid())\n",
    "                vb_2 = Beam3D(  start=Point3D(long_beam_i.start.x,base,long_beam_i.end.z),\n",
    "                                end=long_beam_i.mid())\n",
    "                    \n",
    "                vertical_braces.append(vb_1)\n",
    "                vertical_braces.append(vb_2)\n",
    "\n",
    "        previous_y = y_i\n",
    "        \n",
    "elif(brace_pattern == BracePattern.X_Pattern):\n",
    "# Initialize variables\n",
    "    sorted_y = sorted(long_beams_y.keys())  # Sort keys of long_beams_y\n",
    "    vertical_braces = []  # Ensure vertical_braces is defined (assuming it's a list)\n",
    "\n",
    "    for i, current_y_key in enumerate(sorted_y):\n",
    "        group_y = long_beams_y[current_y_key]\n",
    "        \n",
    "        # Determine previous and next y-keys\n",
    "        previous_y_key = sorted_y[i - 1] if i > 0 else portal.base.y\n",
    "        next_y_key = sorted_y[i + 1] if i + 1 < len(sorted_y) else None\n",
    "        \n",
    "        # Process only even-indexed groups\n",
    "        if i % 2 == 0:\n",
    "            base_y = portal.base.y if previous_y_key is None else previous_y_key\n",
    "            long_beams_sorted = beams_sorted_yxz(group_y)\n",
    "            \n",
    "            # Iterate through beams (excluding the last one)\n",
    "            for beam_idx in range(len(long_beams_sorted) - 1):\n",
    "                portal_idx = beam_idx % (len(portals) - 1)\n",
    "                \n",
    "                if braces_placement[portal_idx]:\n",
    "                    current_beam = long_beams_sorted[beam_idx]\n",
    "                    \n",
    "                    # Create vertical braces from base\n",
    "                    vb_1 = Beam3D(\n",
    "                        start=Point3D(current_beam.start.x, base_y, current_beam.start.z),\n",
    "                        end=current_beam.mid()\n",
    "                    )\n",
    "                    vb_2 = Beam3D(\n",
    "                        start=Point3D(current_beam.start.x, base_y, current_beam.end.z),\n",
    "                        end=current_beam.mid()\n",
    "                    )\n",
    "                    \n",
    "                    vertical_braces.extend([vb_1, vb_2])\n",
    "                    \n",
    "                    # Add braces to next y-key if it exists\n",
    "                    if next_y_key is not None:\n",
    "                        vb_3 = Beam3D(\n",
    "                            start=Point3D(current_beam.start.x, next_y_key, current_beam.start.z),\n",
    "                            end=current_beam.mid()\n",
    "                        )\n",
    "                        vb_4 = Beam3D(\n",
    "                            start=Point3D(current_beam.start.x, next_y_key, current_beam.end.z),\n",
    "                            end=current_beam.mid()\n",
    "                        )\n",
    "                        \n",
    "                        vertical_braces.extend([vb_3, vb_4])\n",
    "\n",
    "# Add vertical braces and assign properties\n",
    "vertical_brace_ids = add_beams(vertical_braces)\n",
    "vertical_brace_spec = assign_specification(vertical_brace_ids,truss_spec)\n",
    "vertical_brace_assign = assign_profile(vertical_brace_ids,profile_ids[PiperackMembers.VerticalBracing])\n",
    "\n",
    "# Create stub beams between adjacent longitudinal beams\n",
    "create_stub = lambda beamA,beamB : Beam3D(start=beamA.mid(),end=beamB.mid())\n",
    "\n",
    "for long_beam_i in range(len(longitudinal_beams)-1):\n",
    "    long_ii:Beam3D = longitudinal_beams[long_beam_i]\n",
    "    long_ij:Beam3D = longitudinal_beams[long_beam_i+1]\n",
    "    if(long_ii.start.eq_x(long_ij.start) and long_ii.end.eq_z(long_ij.end)):\n",
    "        stubs.append(create_stub(long_ii,long_ij))\n",
    "\n",
    "stubs = beams_sorted_yzx(stubs)\n",
    "\n",
    "# Create intermediate transverse beams from stubs\n",
    "for stub_i in range(0, len(stubs), 2):\n",
    "    if stub_i + 1 < len(stubs):  \n",
    "        stub1, stub2 = stubs[stub_i], stubs[stub_i + 1]\n",
    "        stub1_mid,stub2_mid = stub1.mid(),stub2.mid()\n",
    "        intermediate_transverse_beams.append(Beam3D(start=stub1_mid,end=stub2_mid)\\\n",
    "                                                .shift_to_y(closest_to(tier_elevations,stub1_mid.mid(stub2_mid).y)))\n",
    "\n",
    "# Add stubs and assign properties\n",
    "stub_ids = add_beams(stubs)\n",
    "stub_assign = assign_profile(stub_ids,profile_ids[PiperackMembers.Stubs])\n",
    "stub_release = set_start_end_release(stub_ids)\n",
    "    \n",
    "# Add intermediate transverse beams and assign properties\n",
    "intermediate_transverse_ids = add_beams(intermediate_transverse_beams)\n",
    "inter_trans_assign = assign_profile(intermediate_transverse_ids,profile_ids[PiperackMembers.IntermediateTransverseBeams])\n",
    "inter_trans_release = set_start_end_release(intermediate_transverse_ids)\n",
    "\n",
    "# Create intermediate longitudinal beams and plan braces from portal beams\n",
    "portal_beams_y = group_beams_by_y([beam for portal in portals for beam in portal.beams])\n",
    "for group_y in portal_beams_y.values():\n",
    "    sorted_beams = beams_sorted_yzx(group_y)\n",
    "    for beam_i in range(len(sorted_beams)-1):\n",
    "        beam1 : Beam3D = sorted_beams[beam_i]\n",
    "        beam2 : Beam3D = sorted_beams[beam_i+1]\n",
    "        intermediate_long_beams.append(Beam3D(start=beam1.mid(),end=beam2.mid()))\n",
    "\n",
    "        if(braces_placement[beam_i]):\n",
    "            mid_pt = beam1.start.mid(beam2.end)\n",
    "            for pt_x in [beam1.start,beam1.end,beam2.start,beam2.end]:\n",
    "                plan_braces.append(Beam3D(start=pt_x,end=mid_pt))\n",
    "\n",
    "# Add intermediate longitudinal beams and assign properties\n",
    "intermediate_long_ids = add_beams(intermediate_long_beams)\n",
    "inter_long_assign = assign_profile(intermediate_long_ids,profile_ids[PiperackMembers.IntermediateLongitudinalBeams])\n",
    "inter_long_release = set_start_end_release(intermediate_long_ids)\n",
    "\n",
    "# Add plan braces and assign properties\n",
    "plan_brace_ids = add_beams(plan_braces)\n",
    "plan_brace_spec = assign_specification(plan_brace_ids,truss_spec)\n",
    "plan_brace_assign = assign_profile(plan_brace_ids,profile_ids[PiperackMembers.PlanBracing])\n",
    "\n",
    "# Create comprehensive markdown table for secondary members\n",
    "markdown_output = \"## Secondary Members Created\\n\\n\"\n",
    "markdown_output += \"| Member Types              | IDs                        | Profile Assignment      | Release Assignment      | Specification           | Function |\\n\"\n",
    "markdown_output += \"| ---                       | ---                        | ---                     | ---                     | ---                     | ---      |\\n\"\n",
    "markdown_output += f\"| Stubs                    | {stub_ids}                 | {stub_assign}          | {stub_release}          | -                       | Pipe support connections |\\n\"\n",
    "markdown_output += f\"| Intermediate Trans Beams | {intermediate_transverse_ids} | {inter_trans_assign} | {inter_trans_release}   | -                       | Secondary transverse support |\\n\"\n",
    "markdown_output += f\"| Intermediate Long Beams  | {intermediate_long_ids}    | {inter_long_assign}    | {inter_long_release}    | -                       | Secondary longitudinal support |\\n\"\n",
    "markdown_output += f\"| Plan Braces              | {plan_brace_ids}           | {plan_brace_assign}    | -                       | {plan_brace_spec}       | Horizontal stability bracing |\\n\"\n",
    "markdown_output += f\"| Vertical Braces          | {vertical_brace_ids}       | {vertical_brace_assign}| -                       | {vertical_brace_spec}   | Vertical stability bracing |\\n\"\n",
    "\n",
    "# Add analysis summary\n",
    "markdown_output += \"\\n## Secondary Members Analysis\\n\\n\"\n",
    "markdown_output += f\"- **Bracing Pattern**: {brace_pattern}\\n\"\n",
    "markdown_output += f\"- **Total Stubs**: {len(stub_ids)} (connecting longitudinal beam pairs)\\n\"\n",
    "markdown_output += f\"- **Total Intermediate Transverse**: {len(intermediate_transverse_ids)} (from stub midpoints)\\n\"\n",
    "markdown_output += f\"- **Total Intermediate Longitudinal**: {len(intermediate_long_ids)} (from portal beam midpoints)\\n\"\n",
    "markdown_output += f\"- **Total Plan Braces**: {len(plan_brace_ids)} (horizontal X-bracing)\\n\"\n",
    "markdown_output += f\"- **Total Vertical Braces**: {len(vertical_brace_ids)} (vertical V-bracing)\\n\"\n",
    "\n",
    "display(Markdown(markdown_output))"
   ]
  },
  {
   "cell_type": "markdown",
   "id": "b904ca57",
   "metadata": {},
   "source": [
    "## Loads\n",
    "\n",
    "### Initialization\n"
   ]
  },
  {
   "cell_type": "code",
   "execution_count": null,
   "id": "6a5e3efc",
   "metadata": {},
   "outputs": [],
   "source": [
    "add_conc_forces_to_members = add_conc_forces_to_members(load)\n",
    "add_uniform_forces_to_members = add_uniform_forces_to_members(load)"
   ]
  },
  {
   "cell_type": "markdown",
   "id": "f34e1007",
   "metadata": {},
   "source": [
    "### Member Identification"
   ]
  },
  {
   "cell_type": "code",
   "execution_count": null,
   "id": "b8f07dbb",
   "metadata": {},
   "outputs": [],
   "source": [
    "nodes = get_node_incidences(geometry=geometry)\n",
    "beam_objects:dict = get_beam_objects(geometry=geometry,property=None,nodes=nodes)\n",
    "beam_nos:list = list(beam_objects.keys())"
   ]
  },
  {
   "cell_type": "markdown",
   "id": "4b3a4273",
   "metadata": {},
   "source": [
    "### Portal Beams"
   ]
  },
  {
   "cell_type": "markdown",
   "id": "a37db84a",
   "metadata": {},
   "source": [
    "### Intermediate Transverse Beams"
   ]
  },
  {
   "cell_type": "markdown",
   "id": "276990b9",
   "metadata": {},
   "source": [
    "### Columns"
   ]
  }
 ],
 "metadata": {
  "kernelspec": {
   "display_name": ".venv",
   "language": "python",
   "name": "python3"
  },
  "language_info": {
   "codemirror_mode": {
    "name": "ipython",
    "version": 3
   },
   "file_extension": ".py",
   "mimetype": "text/x-python",
   "name": "python",
   "nbconvert_exporter": "python",
   "pygments_lexer": "ipython3",
   "version": "3.13.2"
  }
 },
 "nbformat": 4,
 "nbformat_minor": 5
}
