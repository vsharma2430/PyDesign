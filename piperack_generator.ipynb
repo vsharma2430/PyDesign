{
 "cells": [
  {
   "cell_type": "markdown",
   "id": "14efdbc5",
   "metadata": {},
   "source": [
    "# Piperack Generator\n",
    "\n",
    "## Module imports and connection to STAAD"
   ]
  },
  {
   "cell_type": "code",
   "execution_count": 13,
   "id": "8c048019",
   "metadata": {},
   "outputs": [],
   "source": [
    "from base.helper import *\n",
    "from base.staad_base.geometry import *\n",
    "from base.structural_elements.beam import *\n",
    "from base.structural_elements.column import *\n",
    "from base.piperack.portal import *\n",
    "from base.staad_base.load import *\n",
    "from base.staad_base.design import *\n",
    "from base.staad_base.property import *\n",
    "from base.staad_base.optimise_member import *\n",
    "from IPython.display import display, Markdown\n",
    "from pyperclip import copy\n",
    "\n",
    "openSTAAD,STAAD_objects = get_openSTAAD()\n",
    "\n",
    "geometry = STAAD_objects.geometry\n",
    "property = STAAD_objects.property\n",
    "output = STAAD_objects.output\n",
    "\n",
    "add_beams = add_beams(geometry=geometry)\n",
    "\n",
    "nodes = get_node_incidences(geometry=geometry)\n",
    "beam_objects:dict = get_beam_objects(geometry=geometry,property=None)\n",
    "beam_nos:list = list(beam_objects.keys())"
   ]
  },
  {
   "cell_type": "markdown",
   "id": "24ca63d2",
   "metadata": {},
   "source": [
    "## Inputs"
   ]
  },
  {
   "cell_type": "code",
   "execution_count": 14,
   "id": "ece92229",
   "metadata": {},
   "outputs": [],
   "source": [
    "base_point_of_first_portal = Point3D(0,0,0)\n",
    "width_of_piperack = 8\n",
    "portal_to_portal_distance = 8\n",
    "portal_count = 7\n",
    "columns = [0,width_of_piperack]\n",
    "tiers = [3,6,9,12,14]\n",
    "long_beams = [4.5,7.5,10.5,tiers[-1]]"
   ]
  },
  {
   "cell_type": "markdown",
   "id": "5b87d128",
   "metadata": {},
   "source": [
    "## Generator Code"
   ]
  },
  {
   "cell_type": "code",
   "execution_count": 15,
   "id": "32e0aec2",
   "metadata": {},
   "outputs": [
    {
     "data": {
      "text/markdown": [
       "## Members Created\n",
       "\n",
       "| Member Types | IDs | \n",
       "| --- | --- |\n",
       "| Portal Beams | [343, 344, 345, 346, 347, 350, 351, 352, 353, 354, 357, 358, 359, 360, 361, 364, 365, 366, 367, 368, 371, 372, 373, 374, 375, 378, 379, 380, 381, 382, 385, 386, 387, 388, 389] |\n",
       "| Portal Columns | [348, 349, 355, 356, 362, 363, 369, 370, 376, 377, 383, 384, 390, 391] |\n",
       "| Long Beams | [392, 393, 394, 395, 396, 397, 398, 399, 400, 401, 402, 403, 404, 405, 406, 407, 408, 409, 410, 411, 412, 413, 414, 415, 416, 417, 418, 419, 420, 421, 422, 423, 424, 425, 426, 427, 428, 429, 430, 431, 432, 433, 434, 435, 436, 437, 438, 439] |\n",
       "| Stubs | [440, 441, 442, 443, 444, 445, 446, 447, 448, 449, 450, 451, 452, 453, 454, 455, 456, 457, 458, 459, 460, 461, 462, 463, 464, 465, 466, 467, 468, 469, 470, 471, 472, 473, 474, 475] |\n",
       "| Intermediate Trans Beams | [226, 229, 232, 235, 238, 241, 244, 247, 250, 253, 256, 259, 262, 265, 268, 271, 274, 277] |\n",
       "| Intermediate Long Beams | [280, 282, 284, 286, 288, 290, 293, 295, 297, 299, 301, 303, 306, 308, 310, 312, 314, 316, 319, 321, 323, 325, 327, 329, 332, 334, 336, 338, 340, 342] |\n"
      ],
      "text/plain": [
       "<IPython.core.display.Markdown object>"
      ]
     },
     "metadata": {},
     "output_type": "display_data"
    }
   ],
   "source": [
    "portals = []\n",
    "longitudinal_beams = []\n",
    "stubs = []\n",
    "intermediate_transverse_beams = []\n",
    "intermediate_long_beams = []\n",
    "\n",
    "portal = PiperackPortal(base=base_point_of_first_portal) \n",
    "\n",
    "for column in columns:\n",
    "    portal.add_column(Column3D(base=Point3D(column,0,0),height=tiers[-1])) \\\n",
    "\n",
    "for tier in tiers:\n",
    "    for column_i in range(len(columns)-1):\n",
    "        portal.add_beam(Beam3D(start=Point3D(columns[column_i],tier,0),end=Point3D(columns[column_i+1],tier,0))) \n",
    "\n",
    "portals = [portal.shift(Point3D(0,0,portal_to_portal_distance*i)) for i in range(portal_count)]\n",
    "\n",
    "for portal_i in range(len(portals)-1):\n",
    "    for column in columns:\n",
    "        for long_beam in long_beams:\n",
    "            long_beam_x = Beam3D(start=Point3D(column,long_beam,portals[portal_i].base.z),end=Point3D(column,long_beam,portals[portal_i+1].base.z))\n",
    "            longitudinal_beams.append(long_beam_x)\n",
    "\n",
    "portal_beam_ids = [] \n",
    "portal_column_ids = [] \n",
    "long_beam_ids = [] \n",
    "stub_ids = []\n",
    "intermediate_transverse_ids = []\n",
    "intermediate_long_ids = []\n",
    "\n",
    "for portal in portals:\n",
    "    portal_beam_ids = [*portal_beam_ids,*add_beams(portal.beams)]\n",
    "    portal_column_ids = [*portal_column_ids,*add_beams(portal.columns)]\n",
    "\n",
    "long_beam_ids = add_beams(longitudinal_beams)\n",
    "\n",
    "create_stub = lambda beamA,beamB : Beam3D(start=beamA.mid(),end=beamB.mid())\n",
    "\n",
    "for long_beam_i in range(len(longitudinal_beams)-1):\n",
    "    long_ii:Beam3D = longitudinal_beams[long_beam_i]\n",
    "    long_ij:Beam3D = longitudinal_beams[long_beam_i+1]\n",
    "    if(long_ii.start.eq_x(long_ij.start) and long_ii.end.eq_z(long_ij.end)):\n",
    "        stubs.append(create_stub(long_ii,long_ij))\n",
    "\n",
    "stubs = beams_sorted_yzx(stubs)\n",
    "\n",
    "for stub_i in range(0, len(stubs), 2):\n",
    "    if stub_i + 1 < len(stubs):  \n",
    "        stub1, stub2 = stubs[stub_i], stubs[stub_i + 1]\n",
    "        intermediate_transverse_beams.append(Beam3D(start=stub1.mid(),end=stub2.mid()))\n",
    "\n",
    "stub_ids = add_beams(stubs)\n",
    "intermediate_transverse_ids = add_beams(intermediate_transverse_beams)\n",
    "\n",
    "portal_beams_y = group_beams_by_y([beam for portal in portals for beam in portal.beams])\n",
    "for group_y in portal_beams_y.values():\n",
    "    sorted_beams = beams_sorted_yzx(group_y)\n",
    "    for beam_i in range(len(sorted_beams)-1):\n",
    "        beam1 = sorted_beams[beam_i]\n",
    "        beam2 = sorted_beams[beam_i+1]\n",
    "        intermediate_long_beams.append(Beam3D(start=beam1.mid(),end=beam2.mid()))\n",
    "\n",
    "\n",
    "intermediate_long_ids = add_beams(intermediate_long_beams)\n",
    "\n",
    "markdown_output = ''\n",
    "markdown_output = \"## Members Created\\n\\n\"\n",
    "markdown_output += \"| Member Types | IDs | \\n\"\n",
    "markdown_output += \"| --- | --- |\\n\"\n",
    "markdown_output += f\"| Portal Beams | {portal_beam_ids} |\\n\"\n",
    "markdown_output += f\"| Portal Columns | {portal_column_ids} |\\n\"\n",
    "markdown_output += f\"| Long Beams | {long_beam_ids} |\\n\"\n",
    "markdown_output += f\"| Stubs | {stub_ids} |\\n\"\n",
    "markdown_output += f\"| Intermediate Trans Beams | {intermediate_transverse_ids} |\\n\"\n",
    "markdown_output += f\"| Intermediate Long Beams | {intermediate_long_ids} |\\n\"\n",
    "\n",
    "display(Markdown(markdown_output))\n",
    "    "
   ]
  }
 ],
 "metadata": {
  "kernelspec": {
   "display_name": ".venv",
   "language": "python",
   "name": "python3"
  },
  "language_info": {
   "codemirror_mode": {
    "name": "ipython",
    "version": 3
   },
   "file_extension": ".py",
   "mimetype": "text/x-python",
   "name": "python",
   "nbconvert_exporter": "python",
   "pygments_lexer": "ipython3",
   "version": "3.13.2"
  }
 },
 "nbformat": 4,
 "nbformat_minor": 5
}
