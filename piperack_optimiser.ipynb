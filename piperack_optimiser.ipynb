{
 "cells": [
  {
   "cell_type": "markdown",
   "id": "e4efc7ab",
   "metadata": {},
   "source": [
    "🔧 Piperack Creator ──➤ 🏗️  Piperack Generator  ──➤ 🔀⚡ ***Piperack Optimiser***\n",
    "\n",
    "# Piperack Optimiser 1.0\n",
    "\n",
    "> Segregate different elements and apply profiles as required with integrated profile applicator"
   ]
  },
  {
   "cell_type": "code",
   "execution_count": null,
   "id": "5d855c98",
   "metadata": {},
   "outputs": [],
   "source": [
    "from base import *\n",
    "from base.piperack.load import *\n",
    "from base.staad_base.root import run_analysis"
   ]
  },
  {
   "cell_type": "code",
   "execution_count": null,
   "id": "0bc1d8d2",
   "metadata": {},
   "outputs": [],
   "source": [
    "# Object creation with provided data\n",
    "PR = Piperack('MPR_C-C')\n",
    "PR = PR.load_from_pickle(filename=fr'piperack_objects\\{PR.name}.pkl')\n",
    "PR_S = PR.generate_structural_components(geometry=geometry,property=property)\n",
    "\n",
    "beam_groups = [\n",
    "    BeamGroup(heading='Columns', item_dict=PR_S.columns_y),\n",
    "    BeamGroup(heading='Stub Columns', item_dict=PR_S.stub_columns_y),\n",
    "    BeamGroup(heading='Tier Beams', item_dict={tier.base.y: tier.beams for tier in PR.tiers}),\n",
    "    BeamGroup(heading='Tier Int Beams', item_dict={tier.base.y: tier.int_beams for tier in PR.tiers}),\n",
    "    BeamGroup(heading='VB', item_dict=group_beams_by_y(PR_S.vertical_braces)),\n",
    "    BeamGroup(heading='PB', item_dict=group_beams_by_y(PR_S.plan_braces)),\n",
    "    BeamGroup(heading='Long Beams', item_dict=group_beams_by_y(PR_S.long_beams)),\n",
    "    BeamGroup(heading='Long Int Beams', item_dict=group_beams_by_y(PR_S.int_long_beams)),\n",
    "    BeamGroup(heading='Bracket Beams', item_dict=group_beams_by_y(PR_S.bracket_beams)),\n",
    "    BeamGroup(heading='Bracket Braces', item_dict=group_beams_by_y(PR_S.bracket_braces))\n",
    "]\n",
    "\n",
    "bb_selector = ButtonBar().set_selector(select_beams)\n",
    "button_bars = [bb_selector.set_heading(bg.heading).set_item_dict(bg.item_dict) for bg in beam_groups]\n",
    "\n",
    "staad_profiles = get_staad_profiles()\n",
    "staad_section_ref_nos = {profile['name']:profile for profile in staad_profiles}\n",
    "\n",
    "staad_profiles_widget = create_profile_widget(staad_profiles)\n",
    "steel_widget, steel_dropdown = create_steel_section_widget(steel_sections)\n",
    "\n",
    "profile_button_bar = widgets.VBox([create_button(label='Insert Profile',predicate=lambda:insert_profile_button_click(get_section_ref_no=get_section_ref_no,\n",
    "                                                                                                                     steel_dropdown=steel_dropdown,\n",
    "                                                                                                                     staad_section_ref_nos=staad_section_ref_nos,\n",
    "                                                                                                                     )), \n",
    "                                  \n",
    "                                   create_button(label='Apply Profile',predicate=lambda:apply_profile_button_click(get_section_ref_no=get_section_ref_no,\n",
    "                                                                                                                   steel_dropdown=steel_dropdown,\n",
    "                                                                                                                   staad_section_ref_nos=staad_section_ref_nos,\n",
    "                                                                                                                   geometry=geometry,\n",
    "                                                                                                                   property=property,\n",
    "                                                                                                                   get_selected_beam_nos=get_selected_beam_nos,\n",
    "                                                                                                                   beam_list_copy_and_display=beam_list_copy_and_display,\n",
    "                                                                                                                   assign_profile=assign_profile,\n",
    "                                                                                                                   assign_material=assign_material))])\n",
    "\n",
    "display(HTML(dark_theme_css))\n",
    "display(widgets.HBox( [button.create_button_bar_for_dict() for button in button_bars] , layout=dark_hbox))\n",
    "display(widgets.HBox( [staad_profiles_widget,steel_widget, profile_button_bar] , layout=dark_hbox))"
   ]
  },
  {
   "cell_type": "code",
   "execution_count": null,
   "id": "112109a2",
   "metadata": {},
   "outputs": [],
   "source": [
    "run_analysis(openSTAAD)"
   ]
  },
  {
   "cell_type": "code",
   "execution_count": null,
   "id": "7825c25f",
   "metadata": {},
   "outputs": [],
   "source": [
    "beam_objects: dict = get_beam_objects(geometry=geometry, property=property)\n",
    "beam_nos: list = list(beam_objects.keys())\n",
    "\n",
    "all_members = member_group(\n",
    "    id='whole_structure',\n",
    "    members=beam_nos,\n",
    "    Staad_objects=STAAD_objects,\n",
    "    allowable_ratio=0.85\n",
    ")\n",
    "all_members.get_utilization_ratios()\n",
    "\n",
    "# Display the HTML output\n",
    "display(HTML(dark_theme_css))\n",
    "display(HTML(generate_model_results_html(all_members=all_members,step=0.25)))"
   ]
  }
 ],
 "metadata": {
  "kernelspec": {
   "display_name": ".venv",
   "language": "python",
   "name": "python3"
  },
  "language_info": {
   "codemirror_mode": {
    "name": "ipython",
    "version": 3
   },
   "file_extension": ".py",
   "mimetype": "text/x-python",
   "name": "python",
   "nbconvert_exporter": "python",
   "pygments_lexer": "ipython3",
   "version": "3.13.3"
  }
 },
 "nbformat": 4,
 "nbformat_minor": 5
}
