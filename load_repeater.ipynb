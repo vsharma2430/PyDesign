{
 "cells": [
  {
   "cell_type": "markdown",
   "id": "775deee3",
   "metadata": {},
   "source": [
    "# Load Repeater 1.1\n",
    "\n",
    "Copies loads on selected nodes and beams in source load case and copies to the desination load case by applying a predicate on force value\n",
    "\n",
    "## Initializer"
   ]
  },
  {
   "cell_type": "code",
   "execution_count": 1,
   "id": "8dd197dc",
   "metadata": {},
   "outputs": [],
   "source": [
    "import pyperclip\n",
    "from IPython.display import display, Markdown\n",
    "from base.helper.general import *\n",
    "from base.geometry_base.line import *\n",
    "from base.geometry_base.rectangle import *\n",
    "from base.staad_base.geometry import *\n",
    "from base.piperack.tier import *\n",
    "from base.load.nodal_load import *\n",
    "from base.load.uniform_load import *\n",
    "from base.staad_base.design import *\n",
    "from base.staad_base.property import *\n",
    "from output.md_output import *\n",
    "from base.staad_base.optimise_member import *\n",
    "from base.staad_base.transform_force import *\n",
    "\n",
    "openSTAAD,STAAD_objects = get_openSTAAD()\n",
    "\n",
    "select_beams = select_beams_fn(geometry=STAAD_objects.geometry)\n",
    "select_nodes = select_beams_fn(geometry=STAAD_objects.geometry)\n",
    "\n",
    "staad_format_list = lambda ids : format_consecutive_numbers(group_consecutive_numbers(ids))\n",
    "\n",
    "def beam_list_copy_and_display(beam_list):\n",
    "    if(len(beam_list)> 0 ):\n",
    "        selected_members = staad_format_list(beam_list)\n",
    "        pyperclip.copy(f'{selected_members}')\n",
    "        display(Markdown(f'copied **{len(beam_list)}** members : {selected_members}'))\n",
    "    else:\n",
    "        display(Markdown(f'No member selected'))"
   ]
  },
  {
   "cell_type": "markdown",
   "id": "645edb6b",
   "metadata": {},
   "source": [
    "### Conversion Parameters"
   ]
  },
  {
   "cell_type": "code",
   "execution_count": 2,
   "id": "cdae6260",
   "metadata": {},
   "outputs": [],
   "source": [
    "piperack_convert_objects = [\n",
    "    TransformLoadCase(id='empty'              , source=401, destination=301, predicate=lambda x:  x * 0.4  , direction=None),\n",
    "    TransformLoadCase(id='thermal gravity(GX)', source=401, destination=6  , predicate=lambda x: -x * 0.025, direction=4),\n",
    "    TransformLoadCase(id='thermal gravity(GZ)', source=401, destination=7  , predicate=lambda x: -x * 0.125, direction=6),\n",
    "    TransformLoadCase(id='thermal lateral(GX)', source=401, destination=8  , predicate=lambda x: -x * 0.05 , direction=4),\n",
    "    TransformLoadCase(id='thermal lateral(GZ)', source=401, destination=9  , predicate=lambda x: -x * 0.05 , direction=6)\n",
    "]"
   ]
  },
  {
   "cell_type": "markdown",
   "id": "cbb231fe",
   "metadata": {},
   "source": [
    "## Selector\n",
    "\n",
    "### Beams"
   ]
  },
  {
   "cell_type": "code",
   "execution_count": 3,
   "id": "0e698b12",
   "metadata": {},
   "outputs": [
    {
     "data": {
      "text/markdown": [
       "copied **2** members : 61 456"
      ],
      "text/plain": [
       "<IPython.core.display.Markdown object>"
      ]
     },
     "metadata": {},
     "output_type": "display_data"
    }
   ],
   "source": [
    "selected_beams = get_selected_beam_nos(STAAD_objects.geometry)\n",
    "beam_list_copy_and_display(selected_beams)"
   ]
  },
  {
   "cell_type": "markdown",
   "id": "e42aecd8",
   "metadata": {},
   "source": [
    "### Nodes"
   ]
  },
  {
   "cell_type": "code",
   "execution_count": 4,
   "id": "d3620149",
   "metadata": {},
   "outputs": [
    {
     "data": {
      "text/markdown": [
       "No member selected"
      ],
      "text/plain": [
       "<IPython.core.display.Markdown object>"
      ]
     },
     "metadata": {},
     "output_type": "display_data"
    }
   ],
   "source": [
    "selected_nodes = get_selected_node_nos(STAAD_objects.geometry)\n",
    "beam_list_copy_and_display(selected_nodes)"
   ]
  },
  {
   "cell_type": "markdown",
   "id": "1421ce61",
   "metadata": {},
   "source": [
    "## Repeater"
   ]
  },
  {
   "cell_type": "code",
   "execution_count": 5,
   "id": "888bc08f",
   "metadata": {},
   "outputs": [
    {
     "data": {
      "text/markdown": [
       "# Load Case Conversion Report\n",
       "*Generated on: 2025-06-12 09:11:01*\n",
       "\n",
       "---\n",
       "\n",
       "## Transformation: 401 → 301\n",
       "### Selected Nodes: All\n",
       "### Selected Beams: {456, 61}\n",
       "| Load Type | Incidences |\n",
       "|-----------|------------|\n",
       "| 3210 | `[1, 2, 3, 4, 11, 12, 13, 14, 21, 22, 23, 24, 31, 32, 33, 34, 41, 42, 43, 44, 51, 52, 53, 54, 61, 62, 63, 64, 445, 446, 448, 450, 452, 454, 456, 458, 459, 461, 463, 465, 467, 469, 471, 474, 478, 482, 486, 490, 494, 496, 499, 503, 507, 511, 515, 519, 575, 577, 579, 581, 583, 585, 681, 682, 685, 687, 689, 695, 697, 699, 775, 776]` |\n",
       "| 3230 | `[573, 574, 576, 578, 580, 582, 584]` |\n",
       "## \n",
       "### Results\n",
       "Beam 61: ✅\n",
       "Beam 456: ✅\n",
       "\n",
       "---\n",
       "\n",
       "## Transformation: 401 → 6\n",
       "### Selected Nodes: All\n",
       "### Selected Beams: {456, 61}\n",
       "| Load Type | Incidences |\n",
       "|-----------|------------|\n",
       "| 3210 | `[1, 2, 3, 4, 11, 12, 13, 14, 21, 22, 23, 24, 31, 32, 33, 34, 41, 42, 43, 44, 51, 52, 53, 54, 61, 62, 63, 64, 445, 446, 448, 450, 452, 454, 456, 458, 459, 461, 463, 465, 467, 469, 471, 474, 478, 482, 486, 490, 494, 496, 499, 503, 507, 511, 515, 519, 575, 577, 579, 581, 583, 585, 681, 682, 685, 687, 689, 695, 697, 699, 775, 776]` |\n",
       "| 3230 | `[573, 574, 576, 578, 580, 582, 584]` |\n",
       "## \n",
       "### Results\n",
       "Beam 61: ✅\n",
       "Beam 456: ✅\n",
       "\n",
       "---\n",
       "\n",
       "## Transformation: 401 → 7\n",
       "### Selected Nodes: All\n",
       "### Selected Beams: {456, 61}\n",
       "| Load Type | Incidences |\n",
       "|-----------|------------|\n",
       "| 3210 | `[1, 2, 3, 4, 11, 12, 13, 14, 21, 22, 23, 24, 31, 32, 33, 34, 41, 42, 43, 44, 51, 52, 53, 54, 61, 62, 63, 64, 445, 446, 448, 450, 452, 454, 456, 458, 459, 461, 463, 465, 467, 469, 471, 474, 478, 482, 486, 490, 494, 496, 499, 503, 507, 511, 515, 519, 575, 577, 579, 581, 583, 585, 681, 682, 685, 687, 689, 695, 697, 699, 775, 776]` |\n",
       "| 3230 | `[573, 574, 576, 578, 580, 582, 584]` |\n",
       "## \n",
       "### Results\n",
       "Beam 61: ✅\n",
       "Beam 456: ✅\n",
       "\n",
       "---\n",
       "\n",
       "## Transformation: 401 → 8\n",
       "### Selected Nodes: All\n",
       "### Selected Beams: {456, 61}\n",
       "| Load Type | Incidences |\n",
       "|-----------|------------|\n",
       "| 3210 | `[1, 2, 3, 4, 11, 12, 13, 14, 21, 22, 23, 24, 31, 32, 33, 34, 41, 42, 43, 44, 51, 52, 53, 54, 61, 62, 63, 64, 445, 446, 448, 450, 452, 454, 456, 458, 459, 461, 463, 465, 467, 469, 471, 474, 478, 482, 486, 490, 494, 496, 499, 503, 507, 511, 515, 519, 575, 577, 579, 581, 583, 585, 681, 682, 685, 687, 689, 695, 697, 699, 775, 776]` |\n",
       "| 3230 | `[573, 574, 576, 578, 580, 582, 584]` |\n",
       "## \n",
       "### Results\n",
       "Beam 61: ✅\n",
       "Beam 456: ✅\n",
       "\n",
       "---\n",
       "\n",
       "## Transformation: 401 → 9\n",
       "### Selected Nodes: All\n",
       "### Selected Beams: {456, 61}\n",
       "| Load Type | Incidences |\n",
       "|-----------|------------|\n",
       "| 3210 | `[1, 2, 3, 4, 11, 12, 13, 14, 21, 22, 23, 24, 31, 32, 33, 34, 41, 42, 43, 44, 51, 52, 53, 54, 61, 62, 63, 64, 445, 446, 448, 450, 452, 454, 456, 458, 459, 461, 463, 465, 467, 469, 471, 474, 478, 482, 486, 490, 494, 496, 499, 503, 507, 511, 515, 519, 575, 577, 579, 581, 583, 585, 681, 682, 685, 687, 689, 695, 697, 699, 775, 776]` |\n",
       "| 3230 | `[573, 574, 576, 578, 580, 582, 584]` |\n",
       "## \n",
       "### Results\n",
       "Beam 61: ✅\n",
       "Beam 456: ✅\n"
      ],
      "text/plain": [
       "<IPython.core.display.Markdown object>"
      ]
     },
     "metadata": {},
     "output_type": "display_data"
    },
    {
     "data": {
      "text/plain": [
       "'# Load Case Conversion Report\\n*Generated on: 2025-06-12 09:11:01*\\n\\n---\\n\\n## Transformation: 401 → 301\\n### Selected Nodes: All\\n### Selected Beams: {456, 61}\\n| Load Type | Incidences |\\n|-----------|------------|\\n| 3210 | `[1, 2, 3, 4, 11, 12, 13, 14, 21, 22, 23, 24, 31, 32, 33, 34, 41, 42, 43, 44, 51, 52, 53, 54, 61, 62, 63, 64, 445, 446, 448, 450, 452, 454, 456, 458, 459, 461, 463, 465, 467, 469, 471, 474, 478, 482, 486, 490, 494, 496, 499, 503, 507, 511, 515, 519, 575, 577, 579, 581, 583, 585, 681, 682, 685, 687, 689, 695, 697, 699, 775, 776]` |\\n| 3230 | `[573, 574, 576, 578, 580, 582, 584]` |\\n## \\n### Results\\nBeam 61: ✅\\nBeam 456: ✅\\n\\n---\\n\\n## Transformation: 401 → 6\\n### Selected Nodes: All\\n### Selected Beams: {456, 61}\\n| Load Type | Incidences |\\n|-----------|------------|\\n| 3210 | `[1, 2, 3, 4, 11, 12, 13, 14, 21, 22, 23, 24, 31, 32, 33, 34, 41, 42, 43, 44, 51, 52, 53, 54, 61, 62, 63, 64, 445, 446, 448, 450, 452, 454, 456, 458, 459, 461, 463, 465, 467, 469, 471, 474, 478, 482, 486, 490, 494, 496, 499, 503, 507, 511, 515, 519, 575, 577, 579, 581, 583, 585, 681, 682, 685, 687, 689, 695, 697, 699, 775, 776]` |\\n| 3230 | `[573, 574, 576, 578, 580, 582, 584]` |\\n## \\n### Results\\nBeam 61: ✅\\nBeam 456: ✅\\n\\n---\\n\\n## Transformation: 401 → 7\\n### Selected Nodes: All\\n### Selected Beams: {456, 61}\\n| Load Type | Incidences |\\n|-----------|------------|\\n| 3210 | `[1, 2, 3, 4, 11, 12, 13, 14, 21, 22, 23, 24, 31, 32, 33, 34, 41, 42, 43, 44, 51, 52, 53, 54, 61, 62, 63, 64, 445, 446, 448, 450, 452, 454, 456, 458, 459, 461, 463, 465, 467, 469, 471, 474, 478, 482, 486, 490, 494, 496, 499, 503, 507, 511, 515, 519, 575, 577, 579, 581, 583, 585, 681, 682, 685, 687, 689, 695, 697, 699, 775, 776]` |\\n| 3230 | `[573, 574, 576, 578, 580, 582, 584]` |\\n## \\n### Results\\nBeam 61: ✅\\nBeam 456: ✅\\n\\n---\\n\\n## Transformation: 401 → 8\\n### Selected Nodes: All\\n### Selected Beams: {456, 61}\\n| Load Type | Incidences |\\n|-----------|------------|\\n| 3210 | `[1, 2, 3, 4, 11, 12, 13, 14, 21, 22, 23, 24, 31, 32, 33, 34, 41, 42, 43, 44, 51, 52, 53, 54, 61, 62, 63, 64, 445, 446, 448, 450, 452, 454, 456, 458, 459, 461, 463, 465, 467, 469, 471, 474, 478, 482, 486, 490, 494, 496, 499, 503, 507, 511, 515, 519, 575, 577, 579, 581, 583, 585, 681, 682, 685, 687, 689, 695, 697, 699, 775, 776]` |\\n| 3230 | `[573, 574, 576, 578, 580, 582, 584]` |\\n## \\n### Results\\nBeam 61: ✅\\nBeam 456: ✅\\n\\n---\\n\\n## Transformation: 401 → 9\\n### Selected Nodes: All\\n### Selected Beams: {456, 61}\\n| Load Type | Incidences |\\n|-----------|------------|\\n| 3210 | `[1, 2, 3, 4, 11, 12, 13, 14, 21, 22, 23, 24, 31, 32, 33, 34, 41, 42, 43, 44, 51, 52, 53, 54, 61, 62, 63, 64, 445, 446, 448, 450, 452, 454, 456, 458, 459, 461, 463, 465, 467, 469, 471, 474, 478, 482, 486, 490, 494, 496, 499, 503, 507, 511, 515, 519, 575, 577, 579, 581, 583, 585, 681, 682, 685, 687, 689, 695, 697, 699, 775, 776]` |\\n| 3230 | `[573, 574, 576, 578, 580, 582, 584]` |\\n## \\n### Results\\nBeam 61: ✅\\nBeam 456: ✅\\n'"
      ]
     },
     "execution_count": 5,
     "metadata": {},
     "output_type": "execute_result"
    }
   ],
   "source": [
    "display_conversion_markdown(STAAD_objects=STAAD_objects, transform_objects=piperack_convert_objects,nodes=selected_nodes,beams=selected_beams)"
   ]
  },
  {
   "cell_type": "code",
   "execution_count": 6,
   "id": "a4fa8004",
   "metadata": {},
   "outputs": [],
   "source": [
    "# for convert_object in piperack_convert_objects:\n",
    "    # convert_force_operation(STAAD_objects= STAAD_objects,transform_load_case_object=convert_object)"
   ]
  },
  {
   "cell_type": "code",
   "execution_count": 7,
   "id": "462b7c32",
   "metadata": {},
   "outputs": [],
   "source": [
    "# for transform_obj in piperack_convert_objects:\n",
    "#     markdown_output = convert_force_operation_to_markdown(STAAD_objects, transform_obj)\n",
    "    # save_conversion_report(STAAD_objects, piperack_convert_objects, \"piperack_conversion_report.md\")\n",
    "    # markdown_result = convert_force_operation(STAAD_objects, transform_obj, generate_markdown=True)"
   ]
  },
  {
   "cell_type": "code",
   "execution_count": 8,
   "id": "2df94af6",
   "metadata": {},
   "outputs": [],
   "source": [
    "# openSTAAD.UpdateStructure()"
   ]
  }
 ],
 "metadata": {
  "kernelspec": {
   "display_name": ".venv",
   "language": "python",
   "name": "python3"
  },
  "language_info": {
   "codemirror_mode": {
    "name": "ipython",
    "version": 3
   },
   "file_extension": ".py",
   "mimetype": "text/x-python",
   "name": "python",
   "nbconvert_exporter": "python",
   "pygments_lexer": "ipython3",
   "version": "3.13.3"
  }
 },
 "nbformat": 4,
 "nbformat_minor": 5
}
