{
 "cells": [
  {
   "cell_type": "markdown",
   "id": "775deee3",
   "metadata": {},
   "source": [
    "# Load Repeater 1.1\n",
    "\n",
    "Copies loads on selected nodes and beams in source load case and copies to the desination load case by applying a predicate on force value\n",
    "\n",
    "> Select the nodes and beams whose loads need to be repeated, else all the beams and nodes with the source load case will be repeated.\n",
    "\n",
    "## Initializer"
   ]
  },
  {
   "cell_type": "code",
   "execution_count": 1,
   "id": "8dd197dc",
   "metadata": {},
   "outputs": [],
   "source": [
    "from base import *"
   ]
  },
  {
   "cell_type": "markdown",
   "id": "645edb6b",
   "metadata": {},
   "source": [
    "### Conversion Parameters"
   ]
  },
  {
   "cell_type": "code",
   "execution_count": 2,
   "id": "cdae6260",
   "metadata": {},
   "outputs": [
    {
     "data": {
      "text/markdown": [
       "\n",
       "## Transform Load Case Table\n",
       "> #### Source Force value = 1\n",
       "| ID                    | Source | Destination | Predicate Value | Direction |\n",
       "|-----------------------|--------|-------------|------------------|-----------|\n",
       "| empty                 |  401   |     301     |      0.400       |   None    |\n",
       "| thermal gravity (GX)  |  401   |      6      |      -0.025      |     4     |\n",
       "| thermal gravity (GZ)  |  401   |      7      |      -0.125      |     6     |\n",
       "| thermal lateral (GX)  |  401   |      8      |      -0.050      |     4     |\n",
       "| thermal lateral (GZ)  |  401   |      9      |      -0.050      |     6     |\n"
      ],
      "text/plain": [
       "<IPython.core.display.Markdown object>"
      ]
     },
     "metadata": {},
     "output_type": "display_data"
    }
   ],
   "source": [
    "piperack_convert_objects = [\n",
    "    TransformLoadCase(id='empty '              , source=401, destination=301, predicate=lambda x:  x * 0.4  , direction=None),\n",
    "    TransformLoadCase(id='thermal gravity (GX)', source=401, destination=6  , predicate=lambda x: -x * 0.025, direction=4),\n",
    "    TransformLoadCase(id='thermal gravity (GZ)', source=401, destination=7  , predicate=lambda x: -x * 0.125, direction=6),\n",
    "    TransformLoadCase(id='thermal lateral (GX)', source=401, destination=8  , predicate=lambda x: -x * 0.05 , direction=4),\n",
    "    TransformLoadCase(id='thermal lateral (GZ)', source=401, destination=9  , predicate=lambda x: -x * 0.05 , direction=6)\n",
    "]\n",
    "\n",
    "markdown_table = \"\"\"\n",
    "## Transform Load Case Table\n",
    "> #### Source Force value = 1\n",
    "| ID                    | Source | Destination | Predicate Value | Direction |\n",
    "|-----------------------|--------|-------------|------------------|-----------|\n",
    "\"\"\"\n",
    "for obj in piperack_convert_objects:\n",
    "    direction_str = str(obj.direction) if obj.direction is not None else 'None'\n",
    "    predicate_value = f\"{obj.predicate(x=1):.3f}\"  # Format predicate value to 3 decimal places\n",
    "    markdown_table += f\"| {obj.id:<21} | {obj.source:^6} | {obj.destination:^11} | {predicate_value:^16} | {direction_str:^9} |\\n\"\n",
    "\n",
    "# Display the Markdown table\n",
    "display(Markdown(markdown_table))"
   ]
  },
  {
   "cell_type": "markdown",
   "id": "cbb231fe",
   "metadata": {},
   "source": [
    "## Selector\n",
    "\n",
    "### Beams"
   ]
  },
  {
   "cell_type": "code",
   "execution_count": 3,
   "id": "0e698b12",
   "metadata": {},
   "outputs": [
    {
     "data": {
      "text/markdown": [
       "copied **7** members : 62 191 202 318 469 765 To 766"
      ],
      "text/plain": [
       "<IPython.core.display.Markdown object>"
      ]
     },
     "metadata": {},
     "output_type": "display_data"
    }
   ],
   "source": [
    "selected_beams = get_selected_beam_nos(geometry)\n",
    "beam_list_copy_and_display(selected_beams)"
   ]
  },
  {
   "cell_type": "markdown",
   "id": "e42aecd8",
   "metadata": {},
   "source": [
    "### Nodes"
   ]
  },
  {
   "cell_type": "code",
   "execution_count": 4,
   "id": "d3620149",
   "metadata": {},
   "outputs": [
    {
     "data": {
      "text/markdown": [
       "No member selected"
      ],
      "text/plain": [
       "<IPython.core.display.Markdown object>"
      ]
     },
     "metadata": {},
     "output_type": "display_data"
    }
   ],
   "source": [
    "selected_nodes = get_selected_node_nos(geometry)\n",
    "beam_list_copy_and_display(selected_nodes)"
   ]
  },
  {
   "cell_type": "markdown",
   "id": "1421ce61",
   "metadata": {},
   "source": [
    "## Repeater"
   ]
  },
  {
   "cell_type": "code",
   "execution_count": 5,
   "id": "888bc08f",
   "metadata": {},
   "outputs": [
    {
     "data": {
      "text/markdown": [
       "# Load Case Conversion Report\n",
       "*Generated on: 2025-06-12 12:18:00*\n",
       "\n",
       "---\n",
       "\n",
       "## Transformation: 401 → 301\n",
       "### Selected Nodes: All\n",
       "### Selected Beams: {202, 766, 469, 62, 765, 318, 191}\n",
       "| Load Type | Incidences |\n",
       "|-----------|------------|\n",
       "| 3210 | `[1, 2, 3, 4, 11, 12, 13, 14, 21, 22, 23, 24, 31, 32, 33, 34, 41, 42, 43, 44, 51, 52, 53, 54, 61, 62, 63, 64, 445, 446, 448, 450, 452, 454, 456, 458, 459, 461, 463, 465, 467, 469, 471, 474, 478, 482, 486, 490, 494, 496, 499, 503, 507, 511, 515, 519, 575, 577, 579, 581, 583, 585, 681, 682, 685, 687, 689, 695, 697, 699, 775, 776]` |\n",
       "| 3230 | `[573, 574, 576, 578, 580, 582, 584]` |\n",
       "## \n",
       "### Results\n",
       "Beam 62: ✅\n",
       "Beam 469: ✅\n",
       "\n",
       "---\n",
       "\n",
       "## Transformation: 401 → 6\n",
       "### Selected Nodes: All\n",
       "### Selected Beams: {202, 766, 469, 62, 765, 318, 191}\n",
       "| Load Type | Incidences |\n",
       "|-----------|------------|\n",
       "| 3210 | `[1, 2, 3, 4, 11, 12, 13, 14, 21, 22, 23, 24, 31, 32, 33, 34, 41, 42, 43, 44, 51, 52, 53, 54, 61, 62, 63, 64, 445, 446, 448, 450, 452, 454, 456, 458, 459, 461, 463, 465, 467, 469, 471, 474, 478, 482, 486, 490, 494, 496, 499, 503, 507, 511, 515, 519, 575, 577, 579, 581, 583, 585, 681, 682, 685, 687, 689, 695, 697, 699, 775, 776]` |\n",
       "| 3230 | `[573, 574, 576, 578, 580, 582, 584]` |\n",
       "## \n",
       "### Results\n",
       "Beam 62: ✅\n",
       "Beam 469: ✅\n",
       "\n",
       "---\n",
       "\n",
       "## Transformation: 401 → 7\n",
       "### Selected Nodes: All\n",
       "### Selected Beams: {202, 766, 469, 62, 765, 318, 191}\n",
       "| Load Type | Incidences |\n",
       "|-----------|------------|\n",
       "| 3210 | `[1, 2, 3, 4, 11, 12, 13, 14, 21, 22, 23, 24, 31, 32, 33, 34, 41, 42, 43, 44, 51, 52, 53, 54, 61, 62, 63, 64, 445, 446, 448, 450, 452, 454, 456, 458, 459, 461, 463, 465, 467, 469, 471, 474, 478, 482, 486, 490, 494, 496, 499, 503, 507, 511, 515, 519, 575, 577, 579, 581, 583, 585, 681, 682, 685, 687, 689, 695, 697, 699, 775, 776]` |\n",
       "| 3230 | `[573, 574, 576, 578, 580, 582, 584]` |\n",
       "## \n",
       "### Results\n",
       "Beam 62: ✅\n",
       "Beam 469: ✅\n",
       "\n",
       "---\n",
       "\n",
       "## Transformation: 401 → 8\n",
       "### Selected Nodes: All\n",
       "### Selected Beams: {202, 766, 469, 62, 765, 318, 191}\n",
       "| Load Type | Incidences |\n",
       "|-----------|------------|\n",
       "| 3210 | `[1, 2, 3, 4, 11, 12, 13, 14, 21, 22, 23, 24, 31, 32, 33, 34, 41, 42, 43, 44, 51, 52, 53, 54, 61, 62, 63, 64, 445, 446, 448, 450, 452, 454, 456, 458, 459, 461, 463, 465, 467, 469, 471, 474, 478, 482, 486, 490, 494, 496, 499, 503, 507, 511, 515, 519, 575, 577, 579, 581, 583, 585, 681, 682, 685, 687, 689, 695, 697, 699, 775, 776]` |\n",
       "| 3230 | `[573, 574, 576, 578, 580, 582, 584]` |\n",
       "## \n",
       "### Results\n",
       "Beam 62: ✅\n",
       "Beam 469: ✅\n",
       "\n",
       "---\n",
       "\n",
       "## Transformation: 401 → 9\n",
       "### Selected Nodes: All\n",
       "### Selected Beams: {202, 766, 469, 62, 765, 318, 191}\n",
       "| Load Type | Incidences |\n",
       "|-----------|------------|\n",
       "| 3210 | `[1, 2, 3, 4, 11, 12, 13, 14, 21, 22, 23, 24, 31, 32, 33, 34, 41, 42, 43, 44, 51, 52, 53, 54, 61, 62, 63, 64, 445, 446, 448, 450, 452, 454, 456, 458, 459, 461, 463, 465, 467, 469, 471, 474, 478, 482, 486, 490, 494, 496, 499, 503, 507, 511, 515, 519, 575, 577, 579, 581, 583, 585, 681, 682, 685, 687, 689, 695, 697, 699, 775, 776]` |\n",
       "| 3230 | `[573, 574, 576, 578, 580, 582, 584]` |\n",
       "## \n",
       "### Results\n",
       "Beam 62: ✅\n",
       "Beam 469: ✅\n"
      ],
      "text/plain": [
       "<IPython.core.display.Markdown object>"
      ]
     },
     "metadata": {},
     "output_type": "display_data"
    },
    {
     "data": {
      "text/plain": [
       "'# Load Case Conversion Report\\n*Generated on: 2025-06-12 12:18:00*\\n\\n---\\n\\n## Transformation: 401 → 301\\n### Selected Nodes: All\\n### Selected Beams: {202, 766, 469, 62, 765, 318, 191}\\n| Load Type | Incidences |\\n|-----------|------------|\\n| 3210 | `[1, 2, 3, 4, 11, 12, 13, 14, 21, 22, 23, 24, 31, 32, 33, 34, 41, 42, 43, 44, 51, 52, 53, 54, 61, 62, 63, 64, 445, 446, 448, 450, 452, 454, 456, 458, 459, 461, 463, 465, 467, 469, 471, 474, 478, 482, 486, 490, 494, 496, 499, 503, 507, 511, 515, 519, 575, 577, 579, 581, 583, 585, 681, 682, 685, 687, 689, 695, 697, 699, 775, 776]` |\\n| 3230 | `[573, 574, 576, 578, 580, 582, 584]` |\\n## \\n### Results\\nBeam 62: ✅\\nBeam 469: ✅\\n\\n---\\n\\n## Transformation: 401 → 6\\n### Selected Nodes: All\\n### Selected Beams: {202, 766, 469, 62, 765, 318, 191}\\n| Load Type | Incidences |\\n|-----------|------------|\\n| 3210 | `[1, 2, 3, 4, 11, 12, 13, 14, 21, 22, 23, 24, 31, 32, 33, 34, 41, 42, 43, 44, 51, 52, 53, 54, 61, 62, 63, 64, 445, 446, 448, 450, 452, 454, 456, 458, 459, 461, 463, 465, 467, 469, 471, 474, 478, 482, 486, 490, 494, 496, 499, 503, 507, 511, 515, 519, 575, 577, 579, 581, 583, 585, 681, 682, 685, 687, 689, 695, 697, 699, 775, 776]` |\\n| 3230 | `[573, 574, 576, 578, 580, 582, 584]` |\\n## \\n### Results\\nBeam 62: ✅\\nBeam 469: ✅\\n\\n---\\n\\n## Transformation: 401 → 7\\n### Selected Nodes: All\\n### Selected Beams: {202, 766, 469, 62, 765, 318, 191}\\n| Load Type | Incidences |\\n|-----------|------------|\\n| 3210 | `[1, 2, 3, 4, 11, 12, 13, 14, 21, 22, 23, 24, 31, 32, 33, 34, 41, 42, 43, 44, 51, 52, 53, 54, 61, 62, 63, 64, 445, 446, 448, 450, 452, 454, 456, 458, 459, 461, 463, 465, 467, 469, 471, 474, 478, 482, 486, 490, 494, 496, 499, 503, 507, 511, 515, 519, 575, 577, 579, 581, 583, 585, 681, 682, 685, 687, 689, 695, 697, 699, 775, 776]` |\\n| 3230 | `[573, 574, 576, 578, 580, 582, 584]` |\\n## \\n### Results\\nBeam 62: ✅\\nBeam 469: ✅\\n\\n---\\n\\n## Transformation: 401 → 8\\n### Selected Nodes: All\\n### Selected Beams: {202, 766, 469, 62, 765, 318, 191}\\n| Load Type | Incidences |\\n|-----------|------------|\\n| 3210 | `[1, 2, 3, 4, 11, 12, 13, 14, 21, 22, 23, 24, 31, 32, 33, 34, 41, 42, 43, 44, 51, 52, 53, 54, 61, 62, 63, 64, 445, 446, 448, 450, 452, 454, 456, 458, 459, 461, 463, 465, 467, 469, 471, 474, 478, 482, 486, 490, 494, 496, 499, 503, 507, 511, 515, 519, 575, 577, 579, 581, 583, 585, 681, 682, 685, 687, 689, 695, 697, 699, 775, 776]` |\\n| 3230 | `[573, 574, 576, 578, 580, 582, 584]` |\\n## \\n### Results\\nBeam 62: ✅\\nBeam 469: ✅\\n\\n---\\n\\n## Transformation: 401 → 9\\n### Selected Nodes: All\\n### Selected Beams: {202, 766, 469, 62, 765, 318, 191}\\n| Load Type | Incidences |\\n|-----------|------------|\\n| 3210 | `[1, 2, 3, 4, 11, 12, 13, 14, 21, 22, 23, 24, 31, 32, 33, 34, 41, 42, 43, 44, 51, 52, 53, 54, 61, 62, 63, 64, 445, 446, 448, 450, 452, 454, 456, 458, 459, 461, 463, 465, 467, 469, 471, 474, 478, 482, 486, 490, 494, 496, 499, 503, 507, 511, 515, 519, 575, 577, 579, 581, 583, 585, 681, 682, 685, 687, 689, 695, 697, 699, 775, 776]` |\\n| 3230 | `[573, 574, 576, 578, 580, 582, 584]` |\\n## \\n### Results\\nBeam 62: ✅\\nBeam 469: ✅\\n'"
      ]
     },
     "execution_count": 5,
     "metadata": {},
     "output_type": "execute_result"
    }
   ],
   "source": [
    "display_conversion_markdown(STAAD_objects=STAAD_objects, transform_objects=piperack_convert_objects,nodes=selected_nodes,beams=selected_beams)"
   ]
  },
  {
   "cell_type": "code",
   "execution_count": 6,
   "id": "2df94af6",
   "metadata": {},
   "outputs": [],
   "source": [
    "openSTAAD.UpdateStructure()"
   ]
  }
 ],
 "metadata": {
  "kernelspec": {
   "display_name": ".venv",
   "language": "python",
   "name": "python3"
  },
  "language_info": {
   "codemirror_mode": {
    "name": "ipython",
    "version": 3
   },
   "file_extension": ".py",
   "mimetype": "text/x-python",
   "name": "python",
   "nbconvert_exporter": "python",
   "pygments_lexer": "ipython3",
   "version": "3.13.3"
  }
 },
 "nbformat": 4,
 "nbformat_minor": 5
}
