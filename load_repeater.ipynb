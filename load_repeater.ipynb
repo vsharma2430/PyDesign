{
 "cells": [
  {
   "cell_type": "markdown",
   "id": "775deee3",
   "metadata": {},
   "source": [
    "# Load Repeater 1.1\n",
    "\n",
    "Copies loads on selected nodes and beams in source load case and copies to the desination load case by applying a predicate on force value\n",
    "\n",
    "> Select the nodes and beams whose loads need to be repeated, else all the beams and nodes with the source load case will be repeated.\n",
    "\n",
    "## Initializer"
   ]
  },
  {
   "cell_type": "code",
   "execution_count": 2,
   "id": "8dd197dc",
   "metadata": {},
   "outputs": [],
   "source": [
    "from base import *"
   ]
  },
  {
   "cell_type": "markdown",
   "id": "645edb6b",
   "metadata": {},
   "source": [
    "### Conversion Parameters"
   ]
  },
  {
   "cell_type": "code",
   "execution_count": 3,
   "id": "cdae6260",
   "metadata": {},
   "outputs": [
    {
     "data": {
      "text/markdown": [
       "\n",
       "## Transform Load Case Table\n",
       "> #### Source Load Case -> Force value = 1\n",
       "| ID                    | Source | Destination | Predicate Value | Direction |\n",
       "|-----------------------|--------|-------------|-----------------|-----------|\n",
       "| empty                 |  401   |     301     |      0.400      |   None    |\n",
       "| thermal gravity (GX)  |  401   |      6      |     -0.025      |     4     |\n",
       "| thermal gravity (GZ)  |  401   |      7      |     -0.125      |     6     |\n",
       "| thermal lateral (GX)  |  401   |      8      |     -0.050      |     4     |\n",
       "| thermal lateral (GZ)  |  401   |      9      |     -0.050      |     6     |\n"
      ],
      "text/plain": [
       "<IPython.core.display.Markdown object>"
      ]
     },
     "metadata": {},
     "output_type": "display_data"
    }
   ],
   "source": [
    "piperack_convert_objects = [\n",
    "    TransformLoadCase(id='empty '              , source=401, destination=301, predicate=lambda x:  x * 0.4   , source_direction=MemberForceDirection.GlobalY, destination_direction=None),\n",
    "    TransformLoadCase(id='thermal gravity (GX)', source=401, destination=6  , predicate=lambda x: -x * 0.025 , source_direction=MemberForceDirection.GlobalY, destination_direction=4),\n",
    "    TransformLoadCase(id='thermal gravity (GZ)', source=401, destination=7  , predicate=lambda x: -x * 0.125 , source_direction=MemberForceDirection.GlobalY, destination_direction=6),\n",
    "    TransformLoadCase(id='thermal lateral (GX)', source=401, destination=8  , predicate=lambda x: -x * 0.05  , source_direction=MemberForceDirection.GlobalY, destination_direction=4),\n",
    "    TransformLoadCase(id='thermal lateral (GZ)', source=401, destination=9  , predicate=lambda x: -x * 0.05  , source_direction=MemberForceDirection.GlobalY, destination_direction=6)\n",
    "]\n",
    "\n",
    "# Display the Markdown table\n",
    "display(Markdown(transform_load_case_markdown(piperack_convert_objects)))"
   ]
  },
  {
   "cell_type": "markdown",
   "id": "cbb231fe",
   "metadata": {},
   "source": [
    "## Selector\n",
    "\n",
    "### Beams"
   ]
  },
  {
   "cell_type": "code",
   "execution_count": null,
   "id": "0e698b12",
   "metadata": {},
   "outputs": [],
   "source": [
    "selected_beams = get_selected_beam_nos(geometry)\n",
    "beam_list_copy_and_display(selected_beams)"
   ]
  },
  {
   "cell_type": "markdown",
   "id": "e42aecd8",
   "metadata": {},
   "source": [
    "### Nodes"
   ]
  },
  {
   "cell_type": "code",
   "execution_count": null,
   "id": "d3620149",
   "metadata": {},
   "outputs": [],
   "source": [
    "selected_nodes = get_selected_node_nos(geometry)\n",
    "beam_list_copy_and_display(selected_nodes)"
   ]
  },
  {
   "cell_type": "markdown",
   "id": "1421ce61",
   "metadata": {},
   "source": [
    "## Repeater"
   ]
  },
  {
   "cell_type": "code",
   "execution_count": null,
   "id": "888bc08f",
   "metadata": {},
   "outputs": [],
   "source": [
    "display_conversion_markdown(STAAD_objects=STAAD_objects, transform_objects=piperack_convert_objects,nodes=selected_nodes,beams=selected_beams)"
   ]
  },
  {
   "cell_type": "code",
   "execution_count": null,
   "id": "2df94af6",
   "metadata": {},
   "outputs": [],
   "source": [
    "openSTAAD.UpdateStructure()"
   ]
  }
 ],
 "metadata": {
  "kernelspec": {
   "display_name": ".venv",
   "language": "python",
   "name": "python3"
  },
  "language_info": {
   "codemirror_mode": {
    "name": "ipython",
    "version": 3
   },
   "file_extension": ".py",
   "mimetype": "text/x-python",
   "name": "python",
   "nbconvert_exporter": "python",
   "pygments_lexer": "ipython3",
   "version": "3.13.3"
  }
 },
 "nbformat": 4,
 "nbformat_minor": 5
}
