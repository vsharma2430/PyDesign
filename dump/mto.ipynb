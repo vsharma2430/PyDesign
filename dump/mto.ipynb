{
 "cells": [
  {
   "cell_type": "code",
   "execution_count": 2,
   "metadata": {},
   "outputs": [
    {
     "name": "stdout",
     "output_type": "stream",
     "text": [
      "Beam(start=Point3D(x=3, y=2, z=12), end=Point3D(x=8, y=2, z=17), cross_sectional_area=0.01, youngs_modulus=210000000000.0)\n",
      "PiperackPortal(beams=4, columns=3, total_length_of_members=52.07)\n"
     ]
    }
   ],
   "source": [
    "from base.geometry_base.point import Point3D\n",
    "from base.structural_elements.beam import Beam3D\n",
    "from base.structural_elements.column import Column3D\n",
    "from base.piperack.portal import PiperackPortal\n",
    "\n",
    "portal = PiperackPortal()\n",
    "\n",
    "# Add columns\n",
    "column1 = Column3D(Point3D(0, 0, 0), height=10, cross_sectional_area=0.02, youngs_modulus=210e9)\n",
    "column2 = Column3D(Point3D(5, 0, 0), height=10, cross_sectional_area=0.02, youngs_modulus=210e9)\n",
    "column3 = Column3D(Point3D(0, 5, 0), height=10, cross_sectional_area=0.02, youngs_modulus=210e9)\n",
    "\n",
    "portal.add_column(column1).add_column(column2)\n",
    "portal.add_column(column3)\n",
    "\n",
    "# Add beams\n",
    "beam1 = Beam3D(Point3D(0, 0, 10), Point3D(5, 0, 15), cross_sectional_area=0.01, youngs_modulus=210e9).shift(Point3D(3,2,2))\n",
    "beam2 = Beam3D(Point3D(5, 0, 10), Point3D(5, 5, 10), cross_sectional_area=0.01, youngs_modulus=210e9)\n",
    "beam3 = Beam3D(Point3D(5, 5, 10), Point3D(0, 5, 10), cross_sectional_area=0.01, youngs_modulus=210e9)\n",
    "beam4 = Beam3D(Point3D(0, 5, 10), Point3D(0, 0, 10), cross_sectional_area=0.01, youngs_modulus=210e9)\n",
    "\n",
    "print(beam1)\n",
    "\n",
    "portal.add_beam(beam1).add_beam(beam2)\n",
    "portal.add_beam(beam3)\n",
    "portal.add_beam(beam4)\n",
    "\n",
    "# Print portal details\n",
    "print(portal)"
   ]
  }
 ],
 "metadata": {
  "kernelspec": {
   "display_name": "Python 3",
   "language": "python",
   "name": "python3"
  },
  "language_info": {
   "codemirror_mode": {
    "name": "ipython",
    "version": 3
   },
   "file_extension": ".py",
   "mimetype": "text/x-python",
   "name": "python",
   "nbconvert_exporter": "python",
   "pygments_lexer": "ipython3",
   "version": "3.13.3"
  }
 },
 "nbformat": 4,
 "nbformat_minor": 2
}
