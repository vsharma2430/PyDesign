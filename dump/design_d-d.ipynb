{
 "cells": [
  {
   "cell_type": "markdown",
   "id": "a80355ab",
   "metadata": {},
   "source": [
    "# Piperack Design Optimiser 1.1\n",
    "\n",
    "## Module Imports and connection to STAAD"
   ]
  },
  {
   "cell_type": "code",
   "execution_count": null,
   "id": "2ba05f35",
   "metadata": {},
   "outputs": [],
   "source": [
    "from base.helper import *\n",
    "from base.staad_base.geometry import *\n",
    "from base.staad_base.load import *\n",
    "from base.staad_base.design import *\n",
    "from base.staad_base.property import *\n",
    "from base.staad_base.optimise_member import *\n",
    "from IPython.display import display, Markdown\n",
    "from pyperclip import copy\n",
    "\n",
    "openSTAAD,STAAD_objects = get_openSTAAD()\n",
    "\n",
    "geometry = STAAD_objects.geometry\n",
    "property = STAAD_objects.property\n",
    "output = STAAD_objects.output\n",
    "\n",
    "beam_objects:dict = get_beam_objects(geometry=geometry,property=property)\n",
    "beam_nos:list = list(beam_objects.keys())"
   ]
  },
  {
   "cell_type": "markdown",
   "id": "634aa1f3",
   "metadata": {},
   "source": [
    "### STAAD Members"
   ]
  },
  {
   "cell_type": "code",
   "execution_count": null,
   "id": "72197704",
   "metadata": {},
   "outputs": [],
   "source": [
    "markdown_output = ''\n",
    "markdown_output = \"### Beam Properties\\n\\n\"\n",
    "markdown_output += \"| Beam ID | Start | End | Length | Profile |\\n\"\n",
    "markdown_output += \"| --- | --- | --- | --- | --- |\\n\"\n",
    "\n",
    "beam_items = beam_objects.items()\n",
    "\n",
    "beam:Beam3D\n",
    "for beamNo,beam in beam_items:\n",
    "    markdown_output += f\"| {beamNo} | {beam.start} | {beam.end} | {beam.start.distance_to(beam.end)} | {beam.profile} | \\n\"\n",
    "\n",
    "display(Markdown(markdown_output))"
   ]
  },
  {
   "cell_type": "markdown",
   "id": "5b9b441e",
   "metadata": {},
   "source": [
    "### Member Selection"
   ]
  },
  {
   "cell_type": "code",
   "execution_count": null,
   "id": "af9e9500",
   "metadata": {},
   "outputs": [],
   "source": [
    "selected_members = get_selected_beam_nos(geometry)\n",
    "copy(f'members={selected_members},')\n",
    "\n",
    "display(Markdown(f'copied **{len(selected_members)}** members : {selected_members}'))"
   ]
  },
  {
   "cell_type": "markdown",
   "id": "1c1ef4bf",
   "metadata": {},
   "source": [
    "## Member Groups"
   ]
  },
  {
   "cell_type": "code",
   "execution_count": null,
   "id": "74ae2665",
   "metadata": {},
   "outputs": [],
   "source": [
    "'''BEAMS'''\n",
    "beams_tier_1 = member_group(\n",
    "    id='tier_1',\n",
    "    members=[],\n",
    "    profiles=[],\n",
    "    Staad_objects= STAAD_objects\n",
    ")\n",
    "\n",
    "\n",
    "optimise_group_collection = optimise_groups().add(beams_tier_1)\n",
    "\n",
    "\n",
    "markdown_output = \"# Optimise Group Profile Data \\n\\n\"\n",
    "markdown_output += \"| Group ID | Current Profile | Check Profiles | Members |\\n\"\n",
    "markdown_output += \"|-----------|-------------------|-------------------|------------------|\\n\"\n",
    "\n",
    "group_i:member_group\n",
    "for group_i in optimise_group_collection.member_groups:\n",
    "    members_str = \",\".join(str(x) for x in group_i.members)\n",
    "    markdown_output += f\"| {group_i.id} | {group_i.profile_name} | {','.join(str(x) for x in group_i.profiles)} | <div style='width: 600px; overflow-wrap: break-word;'>{members_str}</div> |\\n\"\n",
    "\n",
    "display(Markdown(markdown_output))"
   ]
  },
  {
   "cell_type": "markdown",
   "id": "f388bd1d",
   "metadata": {},
   "source": [
    "## Optimiser Function"
   ]
  },
  {
   "cell_type": "code",
   "execution_count": null,
   "id": "3d55e2c6",
   "metadata": {},
   "outputs": [],
   "source": [
    "markdown_output = \"# Optimization Results\\n\\n\"\n",
    "\n",
    "for group in optimise_group_collection.member_groups:\n",
    "    print(f'\\n\\nOptimising member group {group.id} for {len(group.profiles)} profiles : {group.profiles}')\n",
    "    \n",
    "    markdown_output += f\"## Optimising Member Group {group.id}\\n\"\n",
    "    markdown_output += f\"- **Number of Profiles**: {len(group.profiles)}\\n\"\n",
    "    markdown_output += f\"- **Profiles**: {group.profiles}\\n\\n\"\n",
    "\n",
    "    print('Setting default profile for all groups')\n",
    "    markdown_output += \"### Setting Default Profile for All Groups\\n\\n\"\n",
    "    for group_i in optimise_group_collection.member_groups:\n",
    "        group_i.set_members_property_initial()\n",
    "\n",
    "    for index in range(len(group.profiles)):\n",
    "        print(f'\\nProfile id : {group.profiles[index]}')\n",
    "        markdown_output += f\"#### Profile ID: {group.profiles[index]}\\n\"\n",
    "\n",
    "        group.set_members_property(index)\n",
    "        run_analysis(openSTAAD)\n",
    "        group.get_utilization_ratios_for_profile(index)\n",
    "        \n",
    "        markdown_output += \"# Group Result\\n\\n\"\n",
    "        markdown_output += \"| Profile | Number of Failed Members | Failed Members | Average Utilization Ratio | Standard Deviation |\\n\"\n",
    "        markdown_output += \"|---------|-------------------------|---------------|---------------------------|--------------------|\\n\"\n",
    "\n",
    "        # Assuming group.results[index] contains the data\n",
    "        profile = group.results[index]['profile']\n",
    "        num_failed = group.results[index]['failed']\n",
    "        failed_members = [x for (x, y) in group.results[index]['failed_members']] or 'None'\n",
    "        failed_members_str = \",\".join(str(x) for x in failed_members) if failed_members != 'None' else 'None'\n",
    "        average = group.results[index]['average']\n",
    "        deviation = group.results[index]['deviation']\n",
    "\n",
    "        # Wrap Failed Members in a div with fixed width and text wrapping\n",
    "        failed_members_formatted = f\"<div style='width: 100px; overflow-wrap: break-word;'>{failed_members_str}</div>\"\n",
    "        markdown_output += f\"| {profile} | {num_failed} | {failed_members_formatted} | {average:.4f} | {deviation:.4f} |\\n\"\n",
    "\n",
    "        if group.results[index]['failed_members']:\n",
    "            markdown_output += \"\\n**Failed Utilization Ratios**\\n\"\n",
    "            markdown_output += \"| Member ID | Utilization Ratio |\\n\"\n",
    "            markdown_output += \"|-----------|-------------------|\\n\"\n",
    "            for member_id, ratio in group.results[index]['failed_members']:\n",
    "                markdown_output += f\"| {member_id} | {ratio:.4f} |\\n\"\n",
    "\n",
    "        all_members = member_group(\n",
    "            id='whole_structure',\n",
    "            members=beam_nos,\n",
    "            exclude_members=group.members,\n",
    "            Staad_objects=STAAD_objects,\n",
    "        )\n",
    "        all_members.get_utilization_ratios()\n",
    "        \n",
    "        markdown_output += \"# Model Result (Whole Structure)\\n\\n\"\n",
    "        markdown_output += \"| Number of Failed Members | Failed Members | Average Utilization Ratio | Standard Deviation |\\n\"\n",
    "        markdown_output += \"|-------------------------|---------------|---------------------------|--------------------|\\n\"\n",
    "\n",
    "        # Extract data from all_members.results\n",
    "        num_failed = all_members.results['failed']\n",
    "        failed_members = [x for (x, y) in all_members.results['failed_members']] or 'None'\n",
    "        failed_members_str = \",\".join(str(x) for x in failed_members) if failed_members != 'None' else 'None'\n",
    "        average = all_members.results['average']\n",
    "        deviation = all_members.results['deviation']\n",
    "\n",
    "        # Wrap Failed Members in a div with fixed width and text wrapping\n",
    "        failed_members_formatted = f\"<div style='width: 100px; overflow-wrap: break-word;'>{failed_members_str}</div>\"\n",
    "        markdown_output += f\"| {num_failed} | {failed_members_formatted} | {average:.4f} | {deviation:.4f} |\\n\"\n",
    "\n",
    "        model_ratios = {k: v for k, v in all_members.results['result'].items() if v != 0.0}\n",
    "        if all_members.results['failed_members']:\n",
    "            markdown_output += \"\\n**Failed Utilization Ratios**\\n\"\n",
    "            markdown_output += \"| Member ID | Utilization Ratio |\\n\"\n",
    "            markdown_output += \"|-----------|-------------------|\\n\"\n",
    "            for member_id, ratio in all_members.results['failed_members']:\n",
    "                markdown_output += f\"| {member_id} | {ratio:.4f} |\\n\"\n",
    "\n",
    "display(Markdown(markdown_output))"
   ]
  },
  {
   "cell_type": "markdown",
   "id": "d5167d69",
   "metadata": {},
   "source": [
    "### Reset Profiles (if optimiser interuptted)"
   ]
  },
  {
   "cell_type": "code",
   "execution_count": null,
   "id": "bc830639",
   "metadata": {},
   "outputs": [],
   "source": [
    "markdown_output = \"# Group Profile Data \\n\\n\"\n",
    "markdown_output += \"| Group ID | Profile |\\n\"\n",
    "markdown_output += \"|-----------|-------------------|\\n\"\n",
    "\n",
    "group_i:member_group\n",
    "for group_i in optimise_group_collection.member_groups:\n",
    "    markdown_output += f\"| {group_i.id} | {group_i.profile_name} |\\n\"\n",
    "\n",
    "display(Markdown(markdown_output))\n",
    "\n",
    "permission = input(\"Assign profiles ? (y/n)\")\n",
    "\n",
    "if(permission == 'y'):\n",
    "    for group_i in optimise_group_collection.member_groups:\n",
    "        group_i.set_members_property_initial()\n"
   ]
  },
  {
   "cell_type": "markdown",
   "id": "3f176485",
   "metadata": {},
   "source": [
    "### Loop through groups"
   ]
  },
  {
   "cell_type": "code",
   "execution_count": null,
   "id": "f78ace52",
   "metadata": {},
   "outputs": [],
   "source": [
    "group_i : member_group\n",
    "for group_i in optimise_group_collection.member_groups:\n",
    "    group_i.select_members()\n",
    "    display(Markdown(f'Selected {group_i.id}'))\n",
    "    time.sleep(5)"
   ]
  },
  {
   "cell_type": "markdown",
   "id": "29cd90a0",
   "metadata": {},
   "source": [
    "## Final Analysis"
   ]
  },
  {
   "cell_type": "code",
   "execution_count": null,
   "id": "bb6596a4",
   "metadata": {},
   "outputs": [],
   "source": [
    "# run_analysis(openSTAAD)\n",
    "\n",
    "all_members = member_group(\n",
    "            id='whole_structure',\n",
    "            members=beam_nos,\n",
    "            Staad_objects=STAAD_objects,\n",
    "            allowable_ratio=0.85\n",
    "        )\n",
    "all_members.get_utilization_ratios()\n",
    "\n",
    "markdown_output = \"# Model Result (Whole Structure)\\n\\n\"\n",
    "markdown_output += \"| Number of Failed Members | Failed Members | Average Utilization Ratio | Standard Deviation |\\n\"\n",
    "markdown_output += \"|-------------------------|---------------|---------------------------|--------------------|\\n\"\n",
    "\n",
    "# Extract data from all_members.results\n",
    "num_failed = all_members.results['failed']\n",
    "failed_members = [x for (x, y) in all_members.results['failed_members']] or 'None'\n",
    "failed_members_str = \",\".join(str(x) for x in failed_members) if failed_members != 'None' else 'None'\n",
    "average = all_members.results['average']\n",
    "deviation = all_members.results['deviation']\n",
    "\n",
    "# Wrap Failed Members in a div with fixed width and text wrapping\n",
    "failed_members_formatted = f\"<div style='width: 250px; overflow-wrap: break-word;'>{failed_members_str}</div>\"\n",
    "markdown_output += f\"| {num_failed} | {failed_members_formatted} | {average:.4f} | {deviation:.4f} |\\n\"\n",
    "\n",
    "model_ratios = {k: v for k, v in all_members.results['result'].items() if v != 0.0}\n",
    "if all_members.results['failed_members']:\n",
    "    markdown_output += \"\\n**Failed Utilization Ratios**\\n\"\n",
    "    markdown_output += \"| Member ID | Utilization Ratio |\\n\"\n",
    "    markdown_output += \"|-----------|-------------------|\\n\"\n",
    "    for member_id, ratio in all_members.results['failed_members']:\n",
    "        markdown_output += f\"| {member_id} | {ratio:.4f} |\\n\"\n",
    "\n",
    "display(Markdown(markdown_output))"
   ]
  }
 ],
 "metadata": {
  "kernelspec": {
   "display_name": ".venv",
   "language": "python",
   "name": "python3"
  },
  "language_info": {
   "codemirror_mode": {
    "name": "ipython",
    "version": 3
   },
   "file_extension": ".py",
   "mimetype": "text/x-python",
   "name": "python",
   "nbconvert_exporter": "python",
   "pygments_lexer": "ipython3",
   "version": "3.13.3"
  }
 },
 "nbformat": 4,
 "nbformat_minor": 5
}
