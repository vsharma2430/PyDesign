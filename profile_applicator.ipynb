{
 "cells": [
  {
   "cell_type": "markdown",
   "id": "d3a5f95b",
   "metadata": {},
   "source": [
    "# Profile Applicator 1.0\n",
    "\n",
    "> Apply profile using from EIL catalog and prevent doubling of profiles by re-referencing existing profiles"
   ]
  },
  {
   "cell_type": "code",
   "execution_count": null,
   "id": "ee32503a",
   "metadata": {},
   "outputs": [],
   "source": [
    "from base import *\n",
    "\n",
    "staad_profiles = get_staad_profiles()\n",
    "staad_section_ref_nos = {profile['name']:profile for profile in staad_profiles}\n",
    "\n",
    "staad_profiles_widget = create_profile_widget(staad_profiles)\n",
    "steel_widget, steel_dropdown = create_steel_section_widget(steel_sections)\n",
    "\n",
    "profile_button_bar = widgets.VBox([create_button(label='Insert Profile',predicate=lambda:insert_profile_button_click(get_section_ref_no=get_section_ref_no,\n",
    "                                                                                                                     steel_dropdown=steel_dropdown,\n",
    "                                                                                                                     staad_section_ref_nos=staad_section_ref_nos,\n",
    "                                                                                                                     )), \n",
    "                                  \n",
    "                                   create_button(label='Apply Profile',predicate=lambda:apply_profile_button_click(get_section_ref_no=get_section_ref_no,\n",
    "                                                                                                                   steel_dropdown=steel_dropdown,\n",
    "                                                                                                                   staad_section_ref_nos=staad_section_ref_nos,\n",
    "                                                                                                                   geometry=geometry,get_selected_beam_nos=get_selected_beam_nos,\n",
    "                                                                                                                   beam_list_copy_and_display=beam_list_copy_and_display,\n",
    "                                                                                                                   assign_profile=assign_profile))])\n",
    "\n",
    "display(HTML(dark_theme_css))\n",
    "display(widgets.HBox([staad_profiles_widget,steel_widget, profile_button_bar]))"
   ]
  }
 ],
 "metadata": {
  "kernelspec": {
   "display_name": ".venv",
   "language": "python",
   "name": "python3"
  },
  "language_info": {
   "codemirror_mode": {
    "name": "ipython",
    "version": 3
   },
   "file_extension": ".py",
   "mimetype": "text/x-python",
   "name": "python",
   "nbconvert_exporter": "python",
   "pygments_lexer": "ipython3",
   "version": "3.13.3"
  }
 },
 "nbformat": 4,
 "nbformat_minor": 5
}
