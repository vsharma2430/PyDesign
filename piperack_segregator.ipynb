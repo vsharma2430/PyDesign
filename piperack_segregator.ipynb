{
 "cells": [
  {
   "cell_type": "markdown",
   "id": "e4efc7ab",
   "metadata": {},
   "source": [
    "# Piperack Segregator 1.0\n",
    "\n",
    "> Segregate different elements and apply profiles as required with integrated profile applicator"
   ]
  },
  {
   "cell_type": "code",
   "execution_count": 1,
   "id": "5d855c98",
   "metadata": {},
   "outputs": [],
   "source": [
    "from base import *\n",
    "from base.piperack.load import *"
   ]
  },
  {
   "cell_type": "code",
   "execution_count": 2,
   "id": "0bc1d8d2",
   "metadata": {},
   "outputs": [
    {
     "data": {
      "text/html": [
       "\n",
       "<style>\n",
       "/* Global dark theme for widgets */\n",
       ".widget-area {\n",
       "    background-color: #1a1a1a !important;\n",
       "    color: #ffffff !important;\n",
       "}\n",
       "\n",
       ".widget-box {\n",
       "    background-color: #2d2d2d !important;\n",
       "    border: 1px solid #404040 !important;\n",
       "    border-radius: 4px !important;\n",
       "}\n",
       "\n",
       ".widget-label {\n",
       "    color: #ffffff !important;\n",
       "    font-weight: bold !important;\n",
       "}\n",
       "\n",
       ".widget-button {\n",
       "    background-color: #404040 !important;\n",
       "    color: #ffffff !important;\n",
       "    border: 1px solid #606060 !important;\n",
       "    border-radius: 3px !important;\n",
       "}\n",
       "\n",
       ".widget-button:hover {\n",
       "    background-color: #505050 !important;\n",
       "    border-color: #707070 !important;\n",
       "}\n",
       "\n",
       ".widget-button.selected {\n",
       "    background-color: #0066cc !important;\n",
       "    border-color: #0088ff !important;\n",
       "}\n",
       "\n",
       ".widget-text, .widget-textarea {\n",
       "    background-color: #2d2d2d !important;\n",
       "    color: #ffffff !important;\n",
       "    border: 1px solid #404040 !important;\n",
       "}\n",
       "\n",
       ".widget-dropdown {\n",
       "    background-color: #2d2d2d !important;\n",
       "    color: #ffffff !important;\n",
       "    border: 1px solid #404040 !important;\n",
       "}\n",
       "</style>\n"
      ],
      "text/plain": [
       "<IPython.core.display.HTML object>"
      ]
     },
     "metadata": {},
     "output_type": "display_data"
    },
    {
     "data": {
      "application/vnd.jupyter.widget-view+json": {
       "model_id": "00a6cebfeb8944a5a35649d1beca1102",
       "version_major": 2,
       "version_minor": 0
      },
      "text/plain": [
       "HBox(children=(VBox(children=(HTML(value='<h4 style=\"color: #ffffff; margin: 5px 0; font-weight: bold;\">Column…"
      ]
     },
     "metadata": {},
     "output_type": "display_data"
    },
    {
     "data": {
      "application/vnd.jupyter.widget-view+json": {
       "model_id": "dd38c989a9614e13a98a85f7db1949d9",
       "version_major": 2,
       "version_minor": 0
      },
      "text/plain": [
       "HBox(children=(HTML(value='\\n    <div style=\"background-color: #f8f9fa; border: 1px solid #dee2e6; border-radi…"
      ]
     },
     "metadata": {},
     "output_type": "display_data"
    }
   ],
   "source": [
    "# Object creation with provided data\n",
    "PR = Piperack('MPR_C-C')\n",
    "PR = PR.load_from_pickle(filename=fr'piperack_objects\\{PR.name}.pkl')\n",
    "\n",
    "PR_S = PR.generate_structural_components(geometry=geometry,property=property)\n",
    "\n",
    "display(HTML(dark_theme_css))\n",
    "display(widgets.HBox([\n",
    "    create_button_bar_for_dict(heading='Columns', item_dict=PR_S.columns_y, selector=select_beams),\n",
    "    create_button_bar_for_dict(heading='Stub Columns', item_dict=PR_S.stub_columns_y, selector=select_beams),\n",
    "    create_button_bar_for_dict(heading='Tier Beams', item_dict={tier.base.y: tier.beams for tier in PR.tiers}, selector=select_beams),\n",
    "    create_button_bar_for_dict(heading='Tier Int Beams', item_dict={tier.base.y: tier.int_beams for tier in PR.tiers}, selector=select_beams),\n",
    "    create_button_bar_for_dict(heading='VB', item_dict=group_beams_by_y(PR_S.vertical_braces), selector=select_beams),\n",
    "    create_button_bar_for_dict(heading='PB', item_dict=group_beams_by_y(PR_S.plan_braces), selector=select_beams),\n",
    "    create_button_bar_for_dict(heading='Long Beams', item_dict=group_beams_by_y(PR_S.long_beams), selector=select_beams),\n",
    "    create_button_bar_for_dict(heading='Long Int Beams', item_dict=group_beams_by_y(PR_S.int_long_beams), selector=select_beams)\n",
    "], layout=dark_hbox))\n",
    "\n",
    "staad_profiles = get_staad_profiles()\n",
    "staad_section_ref_nos = {profile['name']:profile for profile in staad_profiles}\n",
    "\n",
    "staad_profiles_widget = display_data_widget(staad_profiles)\n",
    "steel_widget, steel_dropdown = create_steel_section_widget(steel_sections)\n",
    "\n",
    "profile_button_bar = widgets.VBox([create_button(label='Insert Profile',predicate=lambda:insert_profile_button_click(get_section_ref_no=get_section_ref_no,\n",
    "                                                                                                                     steel_dropdown=steel_dropdown,\n",
    "                                                                                                                     staad_section_ref_nos=staad_section_ref_nos,\n",
    "                                                                                                                     )), \n",
    "                                  \n",
    "                                   create_button(label='Apply Profile',predicate=lambda:apply_profile_button_click(get_section_ref_no=get_section_ref_no,\n",
    "                                                                                                                   steel_dropdown=steel_dropdown,\n",
    "                                                                                                                   staad_section_ref_nos=staad_section_ref_nos,\n",
    "                                                                                                                   geometry=geometry,get_selected_beam_nos=get_selected_beam_nos,\n",
    "                                                                                                                   beam_list_copy_and_display=beam_list_copy_and_display,\n",
    "                                                                                                                   assign_profile=assign_profile))])\n",
    "\n",
    "display(widgets.HBox([staad_profiles_widget,steel_widget, profile_button_bar]))"
   ]
  }
 ],
 "metadata": {
  "kernelspec": {
   "display_name": ".venv",
   "language": "python",
   "name": "python3"
  },
  "language_info": {
   "codemirror_mode": {
    "name": "ipython",
    "version": 3
   },
   "file_extension": ".py",
   "mimetype": "text/x-python",
   "name": "python",
   "nbconvert_exporter": "python",
   "pygments_lexer": "ipython3",
   "version": "3.13.3"
  }
 },
 "nbformat": 4,
 "nbformat_minor": 5
}
