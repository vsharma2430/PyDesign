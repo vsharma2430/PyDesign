{
 "cells": [
  {
   "cell_type": "code",
   "execution_count": null,
   "id": "13d3f402",
   "metadata": {},
   "outputs": [],
   "source": [
    "'''Init and connector'''\n",
    "from base.helper import *\n",
    "from base.staad_base.geometry import *\n",
    "from base.staad_base.load import *\n",
    "from base.staad_base.design import *\n",
    "from base.staad_base.property import *\n",
    "from base.staad_base.optimise_member import *\n",
    "from base.staad_base.transform_force import *\n",
    "\n",
    "openSTAAD,STAAD_objects = get_openSTAAD()"
   ]
  },
  {
   "cell_type": "code",
   "execution_count": null,
   "id": "c1263095",
   "metadata": {},
   "outputs": [],
   "source": [
    "piperack_convert_objects = [\n",
    "        TransformLoadCase(id='empty'              , source=401, destination=301, predicate=lambda x:  x * 0.4  , direction=None),\n",
    "        TransformLoadCase(id='thermal gravity(GX)', source=401, destination=6  , predicate=lambda x: -x * 0.025, direction=4),\n",
    "        TransformLoadCase(id='thermal gravity(GZ)', source=401, destination=7  , predicate=lambda x: -x * 0.125, direction=6),\n",
    "        TransformLoadCase(id='thermal lateral(GX)', source=401, destination=8  , predicate=lambda x: -x * 0.05 , direction=4),\n",
    "        TransformLoadCase(id='thermal lateral(GZ)', source=401, destination=9  , predicate=lambda x: -x * 0.05 , direction=6)\n",
    "    ]"
   ]
  },
  {
   "cell_type": "code",
   "execution_count": null,
   "id": "ed23bfa6",
   "metadata": {},
   "outputs": [],
   "source": [
    "for convert_object in piperack_convert_objects:\n",
    "    convert_force_operation(openSTAAD,STAAD_objects,convert_object)"
   ]
  }
 ],
 "metadata": {
  "language_info": {
   "name": "python"
  }
 },
 "nbformat": 4,
 "nbformat_minor": 5
}
